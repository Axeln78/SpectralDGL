{
 "cells": [
  {
   "cell_type": "markdown",
   "metadata": {
    "Collapsed": "false"
   },
   "source": [
    "# Sto learning \n"
   ]
  },
  {
   "cell_type": "markdown",
   "metadata": {
    "Collapsed": "false"
   },
   "source": [
    "Spectral Graph ConvNets<br>\n",
    "Convolutional Neural Networks on Graphs with Fast Localized Spectral Filtering<br>\n",
    "M Defferrard, X Bresson, P Vandergheynst<br>\n",
    "\n",
    "DOC : https://docs.dgl.ai/en/latest/api/python/nn.pytorch.html?highlight=cheb#dgl.nn.pytorch.conv.ChebConv"
   ]
  },
  {
   "cell_type": "code",
   "execution_count": 13,
   "metadata": {
    "Collapsed": "false"
   },
   "outputs": [
    {
     "name": "stdout",
     "output_type": "stream",
     "text": [
      "The autoreload extension is already loaded. To reload it, use:\n",
      "  %reload_ext autoreload\n",
      "cuda not available\n"
     ]
    }
   ],
   "source": [
    "import os\n",
    "import sys\n",
    "import time\n",
    "import numpy as np\n",
    "\n",
    "# -------------Torch-------------------\n",
    "import torch\n",
    "from torch.autograd import Variable\n",
    "import torch.nn as nn\n",
    "import torch.nn.functional as F\n",
    "import torch.optim as optim\n",
    "from torch.utils.data import DataLoader\n",
    "\n",
    "# -------------Graph-------------------\n",
    "import dgl\n",
    "import networkx as nx\n",
    "import matplotlib.pyplot as plt\n",
    "\n",
    "# -------------Personal Files-------------------\n",
    "import sys\n",
    "sys.path.append(\"..\")\n",
    "\n",
    "import graphs, model, utils, laplacian, ninja\n",
    "from utils import set_device\n",
    "from laplacian import normalized_laplacian\n",
    "\n",
    "# Autoreload\n",
    "sys.path.insert(0, \"lib/\")\n",
    "%load_ext autoreload\n",
    "%autoreload 2\n",
    "\n",
    "# GPU \n",
    "os.environ[\"CUDA_DEVICE_ORDER\"] = \"PCI_BUS_ID\"\n",
    "os.environ[\"CUDA_VISIBLE_DEVICES\"] = \"2\"\n",
    "\n",
    "device = set_device(verbose=True)"
   ]
  },
  {
   "cell_type": "markdown",
   "metadata": {
    "Collapsed": "false"
   },
   "source": [
    "# MNIST"
   ]
  },
  {
   "cell_type": "code",
   "execution_count": 6,
   "metadata": {
    "Collapsed": "false"
   },
   "outputs": [],
   "source": [
    "# Downloads the dataset if not found locally\n",
    "from dataset import check_mnist_dataset_exists, datasampler, MNISTDataset_rand\n",
    "\n",
    "_ = check_mnist_dataset_exists()\n",
    "\n",
    "nb_selected_train_data = 640\n",
    "nb_selected_test_data = 1024\n",
    "\n",
    "train_data, train_labels, test_data, test_labels = datasampler(\n",
    "    nb_selected_train_data, nb_selected_test_data\n",
    ")"
   ]
  },
  {
   "cell_type": "code",
   "execution_count": 7,
   "metadata": {
    "Collapsed": "false"
   },
   "outputs": [],
   "source": [
    "trainset = MNISTDataset_rand(train_data, train_labels)\n",
    "testset = MNISTDataset_rand(test_data, test_labels)"
   ]
  },
  {
   "cell_type": "markdown",
   "metadata": {
    "Collapsed": "false"
   },
   "source": [
    "## Convolution layer and classifier\n"
   ]
  },
  {
   "cell_type": "code",
   "execution_count": 8,
   "metadata": {
    "Collapsed": "false"
   },
   "outputs": [],
   "source": [
    "from model import Classifier, SanityCheck"
   ]
  },
  {
   "cell_type": "code",
   "execution_count": 9,
   "metadata": {
    "Collapsed": "false"
   },
   "outputs": [],
   "source": [
    "def collate(samples):\n",
    "    # The input `samples` is a list of pairs\n",
    "    #  (graph, label, signal).\n",
    "    graphs, labels, signals = map(list, zip(*samples))\n",
    "    batched_graph = dgl.batch(graphs)\n",
    "    return batched_graph, torch.tensor(labels),  torch.stack(signals).view(-1)"
   ]
  },
  {
   "cell_type": "markdown",
   "metadata": {
    "Collapsed": "false"
   },
   "source": [
    "# Debug section\n",
    "Verifying all of the steps"
   ]
  },
  {
   "cell_type": "code",
   "execution_count": 14,
   "metadata": {
    "Collapsed": "false"
   },
   "outputs": [
    {
     "name": "stdout",
     "output_type": "stream",
     "text": [
      "-------------------- Network model --------------------\n",
      " Classifier(\n",
      "  (layers): ModuleList(\n",
      "    (0): Chebyconv(\n",
      "      (apply_mod): NodeApplyModule(\n",
      "        (linear): Linear(in_features=5, out_features=32, bias=True)\n",
      "      )\n",
      "    )\n",
      "    (1): Chebyconv(\n",
      "      (apply_mod): NodeApplyModule(\n",
      "        (linear): Linear(in_features=160, out_features=50, bias=True)\n",
      "      )\n",
      "    )\n",
      "  )\n",
      "  (classify): Sequential(\n",
      "    (0): Linear(in_features=39200, out_features=512, bias=True)\n",
      "    (1): ReLU(inplace=True)\n",
      "    (2): Dropout(p=0.5, inplace=False)\n",
      "    (3): Linear(in_features=512, out_features=10, bias=True)\n",
      "  )\n",
      ")\n",
      "L tensor(indices=tensor([[  0,   0,   0,  ..., 783, 783, 783],\n",
      "                       [  0,   1,  28,  ..., 755, 782, 783]]),\n",
      "       values=tensor([ 1.9984e-15, -5.0000e-01, -4.0825e-01,  ...,\n",
      "                      -4.0825e-01, -4.0825e-01,  1.9984e-15]),\n",
      "       size=(784, 784), nnz=3752, layout=torch.sparse_coo) size: 784 time 0.03787708282470703 \n",
      "\n"
     ]
    },
    {
     "data": {
      "text/plain": [
       "<matplotlib.image.AxesImage at 0xa313cac50>"
      ]
     },
     "execution_count": 14,
     "metadata": {},
     "output_type": "execute_result"
    },
    {
     "data": {
      "image/png": "[encoded data removed]",
      "text/plain": [
       "<Figure size 432x288 with 1 Axes>"
      ]
     },
     "metadata": {
      "needs_background": "light"
     },
     "output_type": "display_data"
    }
   ],
   "source": [
    "g, l, s = trainset[0]\n",
    "\n",
    "# model_parameters\n",
    "in_features = 1\n",
    "first_conv_out = 32\n",
    "second_conv_out = 50\n",
    "hidden_layer_classifier = 512\n",
    "k = 5\n",
    "n_classes = trainset.num_classes\n",
    "\n",
    "net2 = Classifier(\n",
    "    in_features, first_conv_out, second_conv_out, hidden_layer_classifier, n_classes, k\n",
    ").to(device)\n",
    "print(\"-------------------- Network model --------------------\\n\", net2)\n",
    "\n",
    "t = time.time()\n",
    "# Calculate L\n",
    "g.to(device)\n",
    "L = normalized_laplacian(g).to(device)\n",
    "print(\"L\", L, \"size:\", len(L), \"time\", time.time() - t,'\\n')\n",
    "plt.spy(L.cpu().to_dense())"
   ]
  },
  {
   "cell_type": "code",
   "execution_count": 15,
   "metadata": {
    "Collapsed": "false"
   },
   "outputs": [
    {
     "name": "stdout",
     "output_type": "stream",
     "text": [
      "\n",
      " --------------------  Output for graph g:  --------------------\n",
      " tensor([[-0.0445,  0.0208,  0.0444, -0.0236, -0.0095,  0.0200,  0.0508, -0.0283,\n",
      "          0.0055,  0.0958]], grad_fn=<AddmmBackward>)\n"
     ]
    }
   ],
   "source": [
    "print(\"\\n --------------------  Output for graph g:  --------------------\\n\", net2(g, s, L))"
   ]
  },
  {
   "cell_type": "markdown",
   "metadata": {
    "Collapsed": "false"
   },
   "source": [
    "\n",
    "\n",
    "# Model definition for training"
   ]
  },
  {
   "cell_type": "code",
   "execution_count": 16,
   "metadata": {
    "Collapsed": "false"
   },
   "outputs": [
    {
     "name": "stdout",
     "output_type": "stream",
     "text": [
      "Classifier(\n",
      "  (layers): ModuleList(\n",
      "    (0): Chebyconv(\n",
      "      (apply_mod): NodeApplyModule(\n",
      "        (linear): Linear(in_features=10, out_features=32, bias=True)\n",
      "      )\n",
      "    )\n",
      "    (1): Chebyconv(\n",
      "      (apply_mod): NodeApplyModule(\n",
      "        (linear): Linear(in_features=320, out_features=50, bias=True)\n",
      "      )\n",
      "    )\n",
      "  )\n",
      "  (classify): Sequential(\n",
      "    (0): Linear(in_features=39200, out_features=512, bias=True)\n",
      "    (1): ReLU(inplace=True)\n",
      "    (2): Dropout(p=0.5, inplace=False)\n",
      "    (3): Linear(in_features=512, out_features=10, bias=True)\n",
      "  )\n",
      ")\n"
     ]
    }
   ],
   "source": [
    "# model_parameters\n",
    "in_features = 1\n",
    "first_conv_out = 32\n",
    "second_conv_out = 50\n",
    "hidden_layer_classifier = 512\n",
    "k = 10\n",
    "n_classes = trainset.num_classes\n",
    "\n",
    "net = Classifier(\n",
    "    in_features, first_conv_out, second_conv_out, hidden_layer_classifier, n_classes, k\n",
    ")\n",
    "\n",
    "print(net)\n",
    "if torch.cuda.is_available():\n",
    "    net.to(device)"
   ]
  },
  {
   "cell_type": "markdown",
   "metadata": {
    "Collapsed": "false"
   },
   "source": [
    "# Training pipe"
   ]
  },
  {
   "cell_type": "code",
   "execution_count": 18,
   "metadata": {
    "Collapsed": "false"
   },
   "outputs": [],
   "source": [
    "# Use PyTorch's DataLoader and the collate function\n",
    "# defined before.\n",
    "data_loader = DataLoader(trainset, batch_size=128,\n",
    "                         shuffle=True, collate_fn=collate)\n",
    "loss_func = nn.CrossEntropyLoss()\n",
    "optimizer = optim.Adam(net.parameters(), lr=0.005)\n",
    "\n",
    "epoch_losses = []"
   ]
  },
  {
   "cell_type": "markdown",
   "metadata": {
    "Collapsed": "false"
   },
   "source": [
    "## Training time"
   ]
  },
  {
   "cell_type": "code",
   "execution_count": 21,
   "metadata": {
    "Collapsed": "false",
    "scrolled": true
   },
   "outputs": [
    {
     "name": "stdout",
     "output_type": "stream",
     "text": [
      "One Prediction:\n",
      " tensor([-0.0654, -0.4771,  0.1998, -0.5991, -0.3756,  0.0535,  0.0372, -0.4820,\n",
      "         0.5244, -0.7498], grad_fn=<SelectBackward>) len: torch.Size([128, 10]) \n",
      " label: tensor(8)\n",
      "Epoch 0, loss 1.7348, in 81.20(s) \n",
      "One Prediction:\n",
      " tensor([-1.2059, -1.5352, -1.1486, -1.7174, -0.7340, -1.0167,  2.0549, -0.2113,\n",
      "        -0.9503,  0.7119], grad_fn=<SelectBackward>) len: torch.Size([128, 10]) \n",
      " label: tensor(6)\n",
      "Epoch 1, loss 1.0584, in 87.64(s) \n",
      "One Prediction:\n",
      " tensor([ 1.6066, -4.5037, -0.0436, -3.7114,  0.4340, -1.5233,  5.6129,  0.5671,\n",
      "        -2.5031, -0.2003], grad_fn=<SelectBackward>) len: torch.Size([128, 10]) \n",
      " label: tensor(6)\n",
      "Epoch 2, loss 0.6561, in 84.64(s) \n",
      "One Prediction:\n",
      " tensor([-4.4924, -0.4941, -0.9688, -1.5895,  3.8450, -0.9896, -0.1771, -0.6251,\n",
      "        -1.1089,  0.9673], grad_fn=<SelectBackward>) len: torch.Size([128, 10]) \n",
      " label: tensor(4)\n",
      "Epoch 3, loss 0.5097, in 87.22(s) \n",
      "One Prediction:\n",
      " tensor([-1.6639, -0.9632, -0.7721,  0.2702, -0.8844,  4.1799, -2.5227, -4.1759,\n",
      "         3.9378,  2.8798], grad_fn=<SelectBackward>) len: torch.Size([128, 10]) \n",
      " label: tensor(8)\n",
      "Epoch 4, loss 0.4204, in 85.10(s) \n"
     ]
    }
   ],
   "source": [
    "from laplacian import normalized_laplacian\n",
    "net.train()\n",
    "optimizer = optim.Adam(net.parameters(), lr=0.001)\n",
    "for epoch in range(5):\n",
    "    epoch_loss = 0\n",
    "    t0 = time.time()\n",
    "    for iter, (bg, label, signal) in enumerate(data_loader):\n",
    "        if iter == 0:\n",
    "            L = normalized_laplacian(bg).to(device)\n",
    "            #t = time.time()\n",
    "            #print('\\n THIS /!\\ \\n')\n",
    "            #plt.imshow(signal.view(-1, 28), cmap='gray_r')\n",
    "\n",
    "        if torch.cuda.is_available():\n",
    "            bg.to(device)\n",
    "\n",
    "        prediction = net(bg, signal, L)\n",
    "\n",
    "        if iter == 0:\n",
    "            #print(\"prediction time:\", time.time() - t)\n",
    "            t = time.time()\n",
    "            print(\"One Prediction:\\n\", prediction[0], 'len:',\n",
    "                  prediction.size(), '\\n label:', label[0])  # DEBUG\n",
    "        loss = loss_func(prediction, label.to(device))\n",
    "        optimizer.zero_grad()\n",
    "        loss.backward()\n",
    "        optimizer.step()\n",
    "\n",
    "        epoch_loss += loss.detach().item()\n",
    "\n",
    "    epoch_loss /= iter + 1\n",
    "    print(\n",
    "        \"Epoch {}, loss {:.4f}, in {:.2f}(s) \".format(\n",
    "            epoch, epoch_loss, time.time() - t0\n",
    "        )\n",
    "    )\n",
    "    epoch_losses.append(epoch_loss)"
   ]
  },
  {
   "cell_type": "code",
   "execution_count": 22,
   "metadata": {
    "Collapsed": "false"
   },
   "outputs": [
    {
     "data": {
      "image/png": "[encoded data removed]",
      "text/plain": [
       "<Figure size 432x288 with 1 Axes>"
      ]
     },
     "metadata": {
      "needs_background": "light"
     },
     "output_type": "display_data"
    }
   ],
   "source": [
    "plt.title(\"cross entropy averaged over minibatches\")\n",
    "plt.plot(epoch_losses)\n",
    "plt.show()"
   ]
  },
  {
   "cell_type": "code",
   "execution_count": 14,
   "metadata": {
    "Collapsed": "false"
   },
   "outputs": [],
   "source": [
    "torch.cuda.empty_cache()"
   ]
  },
  {
   "cell_type": "markdown",
   "metadata": {
    "Collapsed": "false"
   },
   "source": [
    "## Test Metrics"
   ]
  },
  {
   "cell_type": "code",
   "execution_count": null,
   "metadata": {
    "Collapsed": "false"
   },
   "outputs": [
    {
     "name": "stdout",
     "output_type": "stream",
     "text": [
      "DGLGraph(num_nodes=802816, num_edges=2936088,\n",
      "         ndata_schemes={}\n",
      "         edata_schemes={})\n"
     ]
    }
   ],
   "source": [
    "# Change\n",
    "\n",
    "net.eval()\n",
    "# Convert a list of tuples to two lists\n",
    "test_X, test_Y, test_S = map(list, zip(*testset))\n",
    "test_bg = dgl.batch(test_X)\n",
    "print(test_bg)\n",
    "test_Y = torch.tensor(test_Y).float().view(-1, 1)\n",
    "L = normalized_laplacian(test_bg)\n",
    "test_S = torch.stack(test_S).view(-1)\n",
    "probs_Y = torch.softmax(net(test_bg,test_S.to(device), L.to(device)), 1)\n",
    "sampled_Y = torch.multinomial(probs_Y, 1)\n",
    "argmax_Y = torch.max(probs_Y, 1)[1].view(-1, 1)\n",
    "print(\n",
    "    \"Accuracy of sampled predictions on the test set: {:.4f}%\".format(\n",
    "        (test_Y == sampled_Y.cpu().float()).sum().item() / len(test_Y) * 100\n",
    "    )\n",
    ")\n",
    "print(\n",
    "    \"Accuracy of argmax predictions on the test set: {:4f}%\".format(\n",
    "        (test_Y == argmax_Y.cpu().float()).sum().item() / len(test_Y) * 100\n",
    "    )\n",
    ")"
   ]
  },
  {
   "cell_type": "code",
   "execution_count": null,
   "metadata": {
    "Collapsed": "false"
   },
   "outputs": [],
   "source": [
    "# BATCHED DGL EXAMPLE\n",
    "import sklearn\n",
    "from sklearn.metrics import classification_report\n",
    "\n",
    "print(sklearn.metrics.classification_report(test_Y.cpu(), argmax_Y.cpu()))"
   ]
  },
  {
   "cell_type": "markdown",
   "metadata": {
    "Collapsed": "false"
   },
   "source": [
    "## Saving"
   ]
  },
  {
   "cell_type": "code",
   "execution_count": 17,
   "metadata": {
    "Collapsed": "false"
   },
   "outputs": [],
   "source": [
    "from utils import save_model\n",
    "\n",
    "save_model(\"Model_6000_20ep_noooo\", net)"
   ]
  },
  {
   "cell_type": "raw",
   "metadata": {
    "Collapsed": "false"
   },
   "source": [
    "Save to the master thesis folder: \n",
    "plt.savefig('../../Master-Thesis/img/Chebfilters.png')"
   ]
  }
 ],
 "metadata": {
  "kernelspec": {
   "display_name": "Python 3",
   "language": "python",
   "name": "python3"
  },
  "language_info": {
   "codemirror_mode": {
    "name": "ipython",
    "version": 3
   },
   "file_extension": ".py",
   "mimetype": "text/x-python",
   "name": "python",
   "nbconvert_exporter": "python",
   "pygments_lexer": "ipython3",
   "version": "3.7.4"
  },
  "toc": {
   "base_numbering": 1,
   "nav_menu": {},
   "number_sections": true,
   "sideBar": true,
   "skip_h1_title": false,
   "title_cell": "Table of Contents",
   "title_sidebar": "Contents",
   "toc_cell": false,
   "toc_position": {},
   "toc_section_display": true,
   "toc_window_display": false
  }
 },
 "nbformat": 4,
 "nbformat_minor": 4
}
