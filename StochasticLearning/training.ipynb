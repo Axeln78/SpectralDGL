{
 "cells": [
  {
   "cell_type": "markdown",
   "metadata": {
    "Collapsed": "false"
   },
   "source": [
    "# Sto learning \n"
   ]
  },
  {
   "cell_type": "code",
   "execution_count": 14,
   "metadata": {
    "Collapsed": "false"
   },
   "outputs": [
    {
     "name": "stdout",
     "output_type": "stream",
     "text": [
      "The autoreload extension is already loaded. To reload it, use:\n",
      "  %reload_ext autoreload\n",
      "cuda available\n"
     ]
    }
   ],
   "source": [
    "import sys\n",
    "sys.path.insert(0, \"../lib/\")\n",
    "import ninja\n",
    "import laplacian\n",
    "import utils\n",
    "import model\n",
    "import graphs\n",
    "from laplacian import normalized_laplacian\n",
    "from utils import set_device\n",
    "import os\n",
    "import sys\n",
    "import time\n",
    "\n",
    "# -------------Torch--------------------------\n",
    "import torch\n",
    "from torch.utils.data import DataLoader\n",
    "\n",
    "# -------------Graph--------------------------\n",
    "import dgl\n",
    "import matplotlib.pyplot as plt\n",
    "\n",
    "# Autoreload\n",
    "%load_ext autoreload\n",
    "%autoreload 2\n",
    "\n",
    "# GPU\n",
    "os.environ[\"CUDA_DEVICE_ORDER\"] = \"PCI_BUS_ID\"\n",
    "os.environ[\"CUDA_VISIBLE_DEVICES\"] = \"0\"\n",
    "\n",
    "device = set_device(verbose=True)"
   ]
  },
  {
   "cell_type": "markdown",
   "metadata": {
    "Collapsed": "false"
   },
   "source": [
    "# MNIST"
   ]
  },
  {
   "cell_type": "code",
   "execution_count": 2,
   "metadata": {
    "Collapsed": "false"
   },
   "outputs": [],
   "source": [
    "# Downloads the dataset if not found locally\n",
    "from dataset import check_mnist_dataset_exists, datasampler, MNIST_rand, MNISTDataset\n",
    "\n",
    "_ = check_mnist_dataset_exists()\n",
    "\n",
    "nb_selected_train_data = 60000\n",
    "nb_selected_test_data = 1024\n",
    "\n",
    "train_data, train_labels, test_data, test_labels = datasampler(\n",
    "    nb_selected_train_data, nb_selected_test_data\n",
    ")"
   ]
  },
  {
   "cell_type": "code",
   "execution_count": 3,
   "metadata": {
    "Collapsed": "false"
   },
   "outputs": [],
   "source": [
    "trainset = MNIST_rand(train_data, train_labels, removal_rate=0.25)\n",
    "testset = MNIST_rand(test_data, test_labels, removal_rate=0.25)"
   ]
  },
  {
   "cell_type": "markdown",
   "metadata": {
    "Collapsed": "false"
   },
   "source": [
    "\n",
    "\n",
    "# Model definition for training"
   ]
  },
  {
   "cell_type": "code",
   "execution_count": 4,
   "metadata": {
    "Collapsed": "false"
   },
   "outputs": [
    {
     "name": "stdout",
     "output_type": "stream",
     "text": [
      "Classifier(\n",
      "  (layers): ModuleList(\n",
      "    (0): Chebyconv(\n",
      "      (apply_mod): NodeApplyModule(\n",
      "        (linear): Linear(in_features=10, out_features=32, bias=True)\n",
      "      )\n",
      "    )\n",
      "    (1): Chebyconv(\n",
      "      (apply_mod): NodeApplyModule(\n",
      "        (linear): Linear(in_features=320, out_features=50, bias=True)\n",
      "      )\n",
      "    )\n",
      "  )\n",
      "  (classify): Sequential(\n",
      "    (0): Linear(in_features=39200, out_features=512, bias=True)\n",
      "    (1): ReLU(inplace=True)\n",
      "    (2): Dropout(p=0.5, inplace=False)\n",
      "    (3): Linear(in_features=512, out_features=10, bias=True)\n",
      "  )\n",
      ")\n"
     ]
    }
   ],
   "source": [
    "from model import Classifier\n",
    "# model_parameters\n",
    "in_features = 1\n",
    "first_conv_out = 32\n",
    "second_conv_out = 50\n",
    "hidden_layer_classifier = 512\n",
    "k = 10\n",
    "n_classes = trainset.num_classes\n",
    "\n",
    "net = Classifier(\n",
    "    in_features, first_conv_out, second_conv_out, hidden_layer_classifier, n_classes, k\n",
    ")\n",
    "\n",
    "print(net)\n",
    "if torch.cuda.is_available():\n",
    "    net.to(device)"
   ]
  },
  {
   "cell_type": "code",
   "execution_count": 5,
   "metadata": {
    "Collapsed": "false"
   },
   "outputs": [
    {
     "data": {
      "text/plain": [
       "<All keys matched successfully>"
      ]
     },
     "execution_count": 5,
     "metadata": {},
     "output_type": "execute_result"
    }
   ],
   "source": [
    "from utils import load_model\n",
    "net.load_state_dict(load_model('Model_sto_25pcedges_6000_25ep'))"
   ]
  },
  {
   "cell_type": "markdown",
   "metadata": {
    "Collapsed": "false"
   },
   "source": [
    "# Training pipe"
   ]
  },
  {
   "cell_type": "code",
   "execution_count": 6,
   "metadata": {
    "Collapsed": "false"
   },
   "outputs": [],
   "source": [
    "import torch.optim as optim\n",
    "import torch.nn as nn\n",
    "#\n",
    "from utils import collate\n",
    "#\n",
    "\n",
    "data_loader = DataLoader(trainset, batch_size=1000,\n",
    "                         shuffle=True, collate_fn=collate)\n",
    "\n",
    "loss_func = nn.CrossEntropyLoss()\n",
    "optimizer = optim.Adam(net.parameters(), lr= 0.002)\n",
    "scheduler = torch.optim.lr_scheduler.StepLR(optimizer, step_size=2, gamma=0.95)\n",
    "\n",
    "epoch_losses = []"
   ]
  },
  {
   "cell_type": "markdown",
   "metadata": {
    "Collapsed": "false"
   },
   "source": [
    "## Training time"
   ]
  },
  {
   "cell_type": "code",
   "execution_count": null,
   "metadata": {
    "Collapsed": "false",
    "scrolled": true
   },
   "outputs": [
    {
     "name": "stderr",
     "output_type": "stream",
     "text": [
      "/home/axel/miniconda3/envs/DGL/lib/python3.7/site-packages/dgl/base.py:25: UserWarning: Currently adjacency_matrix() returns a matrix with destination as rows by default.  In 0.5 the result will have source as rows (i.e. transpose=True)\n",
      "  warnings.warn(msg, warn_type)\n"
     ]
    },
    {
     "name": "stdout",
     "output_type": "stream",
     "text": [
      "One Prediction:\n",
      " tensor([  2.9558,  -2.4807,   0.2050,  -3.2764,  -7.0152,   6.4659,   8.0200,\n",
      "        -14.8377,   4.3009,  -4.8221], device='cuda:0',\n",
      "       grad_fn=<SelectBackward>) len: torch.Size([1000, 10]) \n",
      " label: tensor(6)\n"
     ]
    }
   ],
   "source": [
    "from laplacian import normalized_laplacian\n",
    "\n",
    "net.train()\n",
    "#optimizer = optim.Adam(net.parameters(), lr=0.001)\n",
    "for epoch in range(2):\n",
    "    epoch_loss = 0\n",
    "    t0 = time.time()\n",
    "    for iter, (bg, label, signal) in enumerate(data_loader):\n",
    "        L = normalized_laplacian(bg)\n",
    "\n",
    "        prediction = net(bg.to(device), signal.to(device), L.to(device))\n",
    "\n",
    "        if iter == 0:\n",
    "            t = time.time()\n",
    "            print(\"One Prediction:\\n\", prediction[0], 'len:',\n",
    "                  prediction.size(), '\\n label:', label[0])  # DEBUG\n",
    "\n",
    "        loss = loss_func(prediction, label.to(device))\n",
    "        optimizer.zero_grad()\n",
    "        loss.backward()\n",
    "        optimizer.step()\n",
    "\n",
    "        epoch_loss += loss.detach().item()\n",
    "\n",
    "    epoch_loss /= iter + 1\n",
    "    \n",
    "    scheduler.step()\n",
    "    \n",
    "    print(\n",
    "        \"Epoch {}, loss {:.4f}, in {:.2f}(s) \".format(\n",
    "            epoch, epoch_loss, time.time() - t0\n",
    "        )\n",
    "    )\n",
    "    epoch_losses.append(epoch_loss)"
   ]
  },
  {
   "cell_type": "code",
   "execution_count": 15,
   "metadata": {
    "Collapsed": "false"
   },
   "outputs": [
    {
     "data": {
      "image/png": "[encoded data removed]",
      "text/plain": [
       "<Figure size 432x288 with 1 Axes>"
      ]
     },
     "metadata": {
      "needs_background": "light"
     },
     "output_type": "display_data"
    }
   ],
   "source": [
    "plt.title(\"cross entropy averaged over minibatches\")\n",
    "plt.plot(epoch_losses)\n",
    "plt.show()"
   ]
  },
  {
   "cell_type": "code",
   "execution_count": 16,
   "metadata": {
    "Collapsed": "false"
   },
   "outputs": [
    {
     "data": {
      "text/plain": [
       "Adam (\n",
       "Parameter Group 0\n",
       "    amsgrad: False\n",
       "    betas: (0.9, 0.999)\n",
       "    eps: 1e-08\n",
       "    initial_lr: 0.002\n",
       "    lr: 0.0019\n",
       "    weight_decay: 0\n",
       ")"
      ]
     },
     "execution_count": 16,
     "metadata": {},
     "output_type": "execute_result"
    }
   ],
   "source": [
    "optimizer"
   ]
  },
  {
   "cell_type": "code",
   "execution_count": 20,
   "metadata": {
    "Collapsed": "false"
   },
   "outputs": [],
   "source": [
    "torch.cuda.empty_cache()"
   ]
  },
  {
   "cell_type": "markdown",
   "metadata": {
    "Collapsed": "false"
   },
   "source": [
    "## Test Metrics"
   ]
  },
  {
   "cell_type": "code",
   "execution_count": 17,
   "metadata": {
    "Collapsed": "false"
   },
   "outputs": [
    {
     "name": "stderr",
     "output_type": "stream",
     "text": [
      "/home/axel/miniconda3/envs/DGL/lib/python3.7/site-packages/dgl/base.py:25: UserWarning: Currently adjacency_matrix() returns a matrix with destination as rows by default.  In 0.5 the result will have source as rows (i.e. transpose=True)\n",
      "  warnings.warn(msg, warn_type)\n"
     ]
    },
    {
     "name": "stdout",
     "output_type": "stream",
     "text": [
      "Accuracy of sampled predictions on the test set: 96.8750%\n",
      "Accuracy of argmax predictions on the test set: 98.046875%\n"
     ]
    }
   ],
   "source": [
    "# Change\n",
    "\n",
    "net.eval()\n",
    "# Convert a list of tuples to two lists\n",
    "test_X, test_Y, test_S = map(list, zip(*testset))\n",
    "test_bg = dgl.batch(test_X)\n",
    "test_Y = torch.tensor(test_Y).float().view(-1, 1)\n",
    "L = normalized_laplacian(test_bg)\n",
    "test_S = torch.stack(test_S).view(-1)\n",
    "probs_Y = torch.softmax(net(test_bg.to(device),test_S.to(device), L.to(device)), 1)\n",
    "sampled_Y = torch.multinomial(probs_Y, 1)\n",
    "argmax_Y = torch.max(probs_Y, 1)[1].view(-1, 1)\n",
    "print(\n",
    "    \"Accuracy of sampled predictions on the test set: {:.4f}%\".format(\n",
    "        (test_Y == sampled_Y.cpu().float()).sum().item() / len(test_Y) * 100\n",
    "    )\n",
    ")\n",
    "print(\n",
    "    \"Accuracy of argmax predictions on the test set: {:4f}%\".format(\n",
    "        (test_Y == argmax_Y.cpu().float()).sum().item() / len(test_Y) * 100\n",
    "    )\n",
    ")"
   ]
  },
  {
   "cell_type": "code",
   "execution_count": 18,
   "metadata": {
    "Collapsed": "false"
   },
   "outputs": [
    {
     "name": "stdout",
     "output_type": "stream",
     "text": [
      "              precision    recall  f1-score   support\n",
      "\n",
      "         0.0       0.98      1.00      0.99        87\n",
      "         1.0       1.00      0.98      0.99       130\n",
      "         2.0       0.95      0.99      0.97       118\n",
      "         3.0       0.97      0.98      0.98       108\n",
      "         4.0       0.98      0.98      0.98       113\n",
      "         5.0       0.99      0.97      0.98        89\n",
      "         6.0       1.00      0.97      0.98        89\n",
      "         7.0       0.98      1.00      0.99       102\n",
      "         8.0       0.97      0.95      0.96        91\n",
      "         9.0       0.99      0.98      0.98        97\n",
      "\n",
      "    accuracy                           0.98      1024\n",
      "   macro avg       0.98      0.98      0.98      1024\n",
      "weighted avg       0.98      0.98      0.98      1024\n",
      "\n"
     ]
    }
   ],
   "source": [
    "# BATCHED DGL EXAMPLE\n",
    "import sklearn\n",
    "from sklearn.metrics import classification_report\n",
    "\n",
    "print(sklearn.metrics.classification_report(test_Y.cpu(), argmax_Y.cpu()))"
   ]
  },
  {
   "cell_type": "markdown",
   "metadata": {
    "Collapsed": "false"
   },
   "source": [
    "## Saving"
   ]
  },
  {
   "cell_type": "code",
   "execution_count": 21,
   "metadata": {
    "Collapsed": "false"
   },
   "outputs": [],
   "source": [
    "from utils import save_model\n",
    "\n",
    "save_model(\"Model_sto\", net)"
   ]
  },
  {
   "cell_type": "code",
   "execution_count": null,
   "metadata": {
    "Collapsed": "false"
   },
   "outputs": [],
   "source": []
  }
 ],
 "metadata": {
  "kernelspec": {
   "display_name": "Python 3",
   "language": "python",
   "name": "python3"
  },
  "language_info": {
   "codemirror_mode": {
    "name": "ipython",
    "version": 3
   },
   "file_extension": ".py",
   "mimetype": "text/x-python",
   "name": "python",
   "nbconvert_exporter": "python",
   "pygments_lexer": "ipython3",
   "version": "3.7.6"
  },
  "toc": {
   "base_numbering": 1,
   "nav_menu": {},
   "number_sections": true,
   "sideBar": true,
   "skip_h1_title": false,
   "title_cell": "Table of Contents",
   "title_sidebar": "Contents",
   "toc_cell": false,
   "toc_position": {},
   "toc_section_display": true,
   "toc_window_display": false
  }
 },
 "nbformat": 4,
 "nbformat_minor": 4
}
