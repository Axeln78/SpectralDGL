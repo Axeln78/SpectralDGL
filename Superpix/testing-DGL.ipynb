{
 "cells": [
  {
   "cell_type": "code",
   "execution_count": 1,
   "metadata": {
    "Collapsed": "false"
   },
   "outputs": [
    {
     "name": "stdout",
     "output_type": "stream",
     "text": [
      "cuda available\n"
     ]
    }
   ],
   "source": [
    "# PERFORMANCE\n",
    "\n",
    "import os\n",
    "import sys\n",
    "import numpy as np\n",
    "import torch\n",
    "from torch.utils.data import DataLoader\n",
    "import dgl\n",
    "import matplotlib.pyplot as plt\n",
    "sys.path.insert(0, \"../lib\")\n",
    "from utils import set_device, collate\n",
    "from laplacian import normalized_laplacian\n",
    "\n",
    "# GPU Compatibility\n",
    "os.environ[\"CUDA_DEVICE_ORDER\"] = \"PCI_BUS_ID\"\n",
    "os.environ[\"CUDA_VISIBLE_DEVICES\"] = \"1\"\n",
    "\n",
    "device = set_device(verbose=True)\n",
    "\n",
    "%load_ext autoreload\n",
    "%autoreload 2"
   ]
  },
  {
   "cell_type": "code",
   "execution_count": 2,
   "metadata": {
    "Collapsed": "false"
   },
   "outputs": [],
   "source": [
    "# Downloads the dataset if not found locally\n",
    "from dataset import check_mnist_dataset_exists, datasampler, MNISTDataset, MNIST_rand\n",
    "_ = check_mnist_dataset_exists()\n",
    "\n",
    "train_data, train_labels, test_data, test_labels = datasampler(\n",
    "    nb_selected_train_data=640, nb_selected_test_data=1024\n",
    ")"
   ]
  },
  {
   "cell_type": "code",
   "execution_count": 3,
   "metadata": {
    "Collapsed": "false"
   },
   "outputs": [
    {
     "name": "stdout",
     "output_type": "stream",
     "text": [
      "DGL_stock_Classifier(\n",
      "  (layers): ModuleList(\n",
      "    (0): ChebConv(\n",
      "      (fc): ModuleList(\n",
      "        (0): Linear(in_features=1, out_features=32, bias=False)\n",
      "        (1): Linear(in_features=1, out_features=32, bias=False)\n",
      "        (2): Linear(in_features=1, out_features=32, bias=False)\n",
      "        (3): Linear(in_features=1, out_features=32, bias=False)\n",
      "        (4): Linear(in_features=1, out_features=32, bias=False)\n",
      "        (5): Linear(in_features=1, out_features=32, bias=False)\n",
      "        (6): Linear(in_features=1, out_features=32, bias=False)\n",
      "        (7): Linear(in_features=1, out_features=32, bias=False)\n",
      "        (8): Linear(in_features=1, out_features=32, bias=False)\n",
      "        (9): Linear(in_features=1, out_features=32, bias=False)\n",
      "      )\n",
      "    )\n",
      "    (1): ChebConv(\n",
      "      (fc): ModuleList(\n",
      "        (0): Linear(in_features=32, out_features=50, bias=False)\n",
      "        (1): Linear(in_features=32, out_features=50, bias=False)\n",
      "        (2): Linear(in_features=32, out_features=50, bias=False)\n",
      "        (3): Linear(in_features=32, out_features=50, bias=False)\n",
      "        (4): Linear(in_features=32, out_features=50, bias=False)\n",
      "        (5): Linear(in_features=32, out_features=50, bias=False)\n",
      "        (6): Linear(in_features=32, out_features=50, bias=False)\n",
      "        (7): Linear(in_features=32, out_features=50, bias=False)\n",
      "        (8): Linear(in_features=32, out_features=50, bias=False)\n",
      "        (9): Linear(in_features=32, out_features=50, bias=False)\n",
      "      )\n",
      "    )\n",
      "  )\n",
      "  (classify): Sequential(\n",
      "    (0): Linear(in_features=39200, out_features=512, bias=True)\n",
      "    (1): ReLU(inplace=True)\n",
      "    (2): Dropout(p=0.5, inplace=False)\n",
      "    (3): Linear(in_features=512, out_features=10, bias=True)\n",
      "  )\n",
      ")\n"
     ]
    }
   ],
   "source": [
    "from utils import load_model\n",
    "from model import DGL_stock_Classifier\n",
    "# Using the 4-neighbors trained model\n",
    "\n",
    "net = DGL_stock_Classifier(\n",
    "    1, 32, 50, 512, 10, 10\n",
    ")\n",
    "\n",
    "print(net)\n",
    "if torch.cuda.is_available():\n",
    "    net.to(device)\n",
    "\n",
    "# LOAD MODEL\n",
    "\n"
   ]
  },
  {
   "cell_type": "code",
   "execution_count": 4,
   "metadata": {
    "Collapsed": "false"
   },
   "outputs": [
    {
     "data": {
      "text/plain": [
       "<All keys matched successfully>"
      ]
     },
     "execution_count": 4,
     "metadata": {},
     "output_type": "execute_result"
    }
   ],
   "source": [
    "#net.load_state_dict(load_model('Model_DGL_sto'))\n",
    "net.load_state_dict(load_model('Cheb_DGL'))"
   ]
  },
  {
   "cell_type": "code",
   "execution_count": 5,
   "metadata": {
    "Collapsed": "false"
   },
   "outputs": [],
   "source": [
    "import sklearn\n",
    "from sklearn.metrics import classification_report\n",
    "\n",
    "\n",
    "def test_func(data_loader):\n",
    "    net.eval()\n",
    "    probs_Y = torch.Tensor()\n",
    "    test_Y = torch.Tensor().int()\n",
    "    for iter, (bg, label, signal) in enumerate(data_loader):\n",
    "        probs_Y = torch.cat((probs_Y, torch.softmax(\n",
    "            net(bg.to(device), signal.to(device)).to('cpu'), 1)), 0) #, lambda_max=(torch.ones(1024)*2).to(device)\n",
    "        test_Y = torch.cat((test_Y, label.int()), 0)\n",
    "\n",
    "    sampled_Y = torch.multinomial(probs_Y, 1)\n",
    "    argmax_Y = torch.max(probs_Y, 1)[1].view(-1, 1)\n",
    "\n",
    "    return sklearn.metrics.classification_report(test_Y, argmax_Y, digits=4, output_dict=True)"
   ]
  },
  {
   "cell_type": "code",
   "execution_count": 6,
   "metadata": {
    "Collapsed": "false"
   },
   "outputs": [],
   "source": [
    "evalrange = range(0, 100, 5)"
   ]
  },
  {
   "cell_type": "code",
   "execution_count": 7,
   "metadata": {
    "Collapsed": "false"
   },
   "outputs": [
    {
     "name": "stdout",
     "output_type": "stream",
     "text": [
      "0 %\n"
     ]
    },
    {
     "name": "stderr",
     "output_type": "stream",
     "text": [
      "/home/axel/miniconda3/envs/DGL/lib/python3.7/site-packages/dgl/base.py:25: UserWarning: Currently adjacency_matrix() returns a matrix with destination as rows by default.  In 0.5 the result will have source as rows (i.e. transpose=True)\n",
      "  warnings.warn(msg, warn_type)\n"
     ]
    },
    {
     "name": "stdout",
     "output_type": "stream",
     "text": [
      "5 %\n",
      "10 %\n",
      "15 %\n",
      "20 %\n",
      "25 %\n",
      "30 %\n",
      "35 %\n",
      "40 %\n",
      "45 %\n",
      "50 %\n",
      "55 %\n",
      "60 %\n",
      "65 %\n",
      "70 %\n",
      "75 %\n",
      "80 %\n"
     ]
    },
    {
     "name": "stderr",
     "output_type": "stream",
     "text": [
      "/home/axel/miniconda3/envs/DGL/lib/python3.7/site-packages/sklearn/metrics/_classification.py:1272: UndefinedMetricWarning: Precision and F-score are ill-defined and being set to 0.0 in labels with no predicted samples. Use `zero_division` parameter to control this behavior.\n",
      "  _warn_prf(average, modifier, msg_start, len(result))\n"
     ]
    },
    {
     "name": "stdout",
     "output_type": "stream",
     "text": [
      "85 %\n",
      "90 %\n",
      "95 %\n"
     ]
    }
   ],
   "source": [
    "repz = []\n",
    "for i in evalrange:\n",
    "    report = []\n",
    "    print(i, '%')\n",
    "    for j in range(3):\n",
    "        testset = MNIST_rand(test_data, test_labels,\n",
    "                             removal_rate=i/100, rand=False)\n",
    "\n",
    "        # Define a test function\n",
    "        data_loader_test = DataLoader(testset, batch_size=1024,\n",
    "                                      shuffle=False, collate_fn=collate)\n",
    "\n",
    "        report.append(test_func(data_loader_test)['accuracy'])\n",
    "    repz.append(report)"
   ]
  },
  {
   "cell_type": "code",
   "execution_count": 11,
   "metadata": {
    "Collapsed": "false"
   },
   "outputs": [
    {
     "name": "stdout",
     "output_type": "stream",
     "text": [
      "           0         1         2      mean       std\n",
      "0   0.974609  0.974609  0.974609  0.974609  0.000000\n",
      "1   0.972656  0.973633  0.969727  0.972005  0.001660\n",
      "2   0.969727  0.962891  0.963867  0.965495  0.003019\n",
      "3   0.950195  0.958008  0.955078  0.954427  0.003222\n",
      "4   0.939453  0.941406  0.940430  0.940430  0.000797\n",
      "5   0.875977  0.900391  0.888672  0.888346  0.009970\n",
      "6   0.789062  0.793945  0.795898  0.792969  0.002875\n",
      "7   0.665039  0.658203  0.666016  0.663086  0.003476\n",
      "8   0.560547  0.540039  0.541016  0.547201  0.009446\n",
      "9   0.449219  0.435547  0.451172  0.445312  0.006951\n",
      "10  0.368164  0.364258  0.362305  0.364909  0.002436\n",
      "11  0.308594  0.280273  0.292969  0.293945  0.011582\n",
      "12  0.291016  0.262695  0.261719  0.271810  0.013586\n",
      "13  0.245117  0.243164  0.230469  0.239583  0.006494\n",
      "14  0.210938  0.202148  0.203125  0.205404  0.003933\n",
      "15  0.174805  0.179688  0.183594  0.179362  0.003595\n",
      "16  0.159180  0.174805  0.183594  0.172526  0.010096\n",
      "17  0.161133  0.181641  0.163086  0.168620  0.009242\n",
      "18  0.176758  0.182617  0.169922  0.176432  0.005188\n",
      "19  0.181641  0.182617  0.175781  0.180013  0.003019\n"
     ]
    }
   ],
   "source": [
    "import pandas as pd\n",
    "df = pd.DataFrame(repz)\n",
    "\n",
    "df['mean'] = df.mean(1)\n",
    "df['std'] = df.std(1)\n",
    "print(df)\n",
    "df.to_pickle('../resources/PlotStuff/edge_DGL')"
   ]
  },
  {
   "cell_type": "code",
   "execution_count": 12,
   "metadata": {
    "Collapsed": "false"
   },
   "outputs": [
    {
     "data": {
      "image/png": "[encoded data removed]",
      "text/plain": [
       "<Figure size 432x288 with 1 Axes>"
      ]
     },
     "metadata": {
      "needs_background": "light"
     },
     "output_type": "display_data"
    }
   ],
   "source": [
    "plt.plot(evalrange, df['mean']*100, color='white')\n",
    "plt.fill_between(evalrange, df['mean']*100 - df['std']*100,\n",
    "                 df['mean']*100 + df['std']*100, color=\"#3F5D7DD0\")\n",
    "#plt.title('Accuracy over number of removed edges')\n",
    "plt.xlabel('% of removed edges')\n",
    "plt.ylabel('testing accuracy, in %')\n",
    "plt.grid()"
   ]
  }
 ],
 "metadata": {
  "kernelspec": {
   "display_name": "Python 3",
   "language": "python",
   "name": "python3"
  },
  "language_info": {
   "codemirror_mode": {
    "name": "ipython",
    "version": 3
   },
   "file_extension": ".py",
   "mimetype": "text/x-python",
   "name": "python",
   "nbconvert_exporter": "python",
   "pygments_lexer": "ipython3",
   "version": "3.7.6"
  },
  "toc": {
   "base_numbering": 1,
   "nav_menu": {},
   "number_sections": true,
   "sideBar": true,
   "skip_h1_title": false,
   "title_cell": "Table of Contents",
   "title_sidebar": "Contents",
   "toc_cell": false,
   "toc_position": {},
   "toc_section_display": true,
   "toc_window_display": false
  }
 },
 "nbformat": 4,
 "nbformat_minor": 4
}
