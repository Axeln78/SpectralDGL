{
 "cells": [
  {
   "cell_type": "markdown",
   "metadata": {
    "Collapsed": "false"
   },
   "source": [
    "# Changing laplacians"
   ]
  },
  {
   "cell_type": "code",
   "execution_count": 1,
   "metadata": {
    "Collapsed": "false"
   },
   "outputs": [],
   "source": [
    "import os\n",
    "import sys\n",
    "#import time\n",
    "import numpy as np\n",
    "\n",
    "# -------------Torch-------------------\n",
    "import torch\n",
    "from torch.utils.data import DataLoader\n",
    "\n",
    "# -------------Graph-------------------\n",
    "import dgl\n",
    "import networkx as nx\n",
    "import matplotlib.pyplot as plt\n",
    "sys.path.insert(0, \"../lib/\")\n",
    "from utils import set_device\n",
    "from laplacian import normalized_laplacian\n",
    "\n",
    "\n",
    "%load_ext autoreload\n",
    "%autoreload 2"
   ]
  },
  {
   "cell_type": "markdown",
   "metadata": {
    "Collapsed": "false"
   },
   "source": [
    "# MNIST"
   ]
  },
  {
   "cell_type": "code",
   "execution_count": 2,
   "metadata": {
    "Collapsed": "false"
   },
   "outputs": [],
   "source": [
    "# Downloads the dataset if not found locally\n",
    "from dataset import check_mnist_dataset_exists, datasampler, MNISTDataset\n",
    "_ = check_mnist_dataset_exists()\n",
    "\n",
    "train_data, train_labels, test_data, test_labels = datasampler(\n",
    "    nb_selected_train_data=640, nb_selected_test_data=2048\n",
    ")\n",
    "\n",
    "testset = MNISTDataset(test_data, test_labels)"
   ]
  },
  {
   "cell_type": "markdown",
   "metadata": {
    "Collapsed": "false"
   },
   "source": [
    "## Convolution layer and classifier\n"
   ]
  },
  {
   "cell_type": "code",
   "execution_count": 3,
   "metadata": {
    "Collapsed": "false"
   },
   "outputs": [],
   "source": [
    "from model import Classifier, SanityCheck, SmallCheb, DGL_stock_Classifier\n",
    "\n",
    "from utils import collate"
   ]
  },
  {
   "cell_type": "markdown",
   "metadata": {
    "Collapsed": "false"
   },
   "source": [
    "\n",
    "\n",
    "# Model definition for training"
   ]
  },
  {
   "cell_type": "code",
   "execution_count": 4,
   "metadata": {
    "Collapsed": "false"
   },
   "outputs": [
    {
     "name": "stdout",
     "output_type": "stream",
     "text": [
      "DGL_stock_Classifier(\n",
      "  (layers): ModuleList(\n",
      "    (0): ChebConv(\n",
      "      (fc): ModuleList(\n",
      "        (0): Linear(in_features=1, out_features=32, bias=False)\n",
      "        (1): Linear(in_features=1, out_features=32, bias=False)\n",
      "        (2): Linear(in_features=1, out_features=32, bias=False)\n",
      "        (3): Linear(in_features=1, out_features=32, bias=False)\n",
      "        (4): Linear(in_features=1, out_features=32, bias=False)\n",
      "        (5): Linear(in_features=1, out_features=32, bias=False)\n",
      "        (6): Linear(in_features=1, out_features=32, bias=False)\n",
      "        (7): Linear(in_features=1, out_features=32, bias=False)\n",
      "        (8): Linear(in_features=1, out_features=32, bias=False)\n",
      "        (9): Linear(in_features=1, out_features=32, bias=False)\n",
      "      )\n",
      "    )\n",
      "    (1): ChebConv(\n",
      "      (fc): ModuleList(\n",
      "        (0): Linear(in_features=32, out_features=50, bias=False)\n",
      "        (1): Linear(in_features=32, out_features=50, bias=False)\n",
      "        (2): Linear(in_features=32, out_features=50, bias=False)\n",
      "        (3): Linear(in_features=32, out_features=50, bias=False)\n",
      "        (4): Linear(in_features=32, out_features=50, bias=False)\n",
      "        (5): Linear(in_features=32, out_features=50, bias=False)\n",
      "        (6): Linear(in_features=32, out_features=50, bias=False)\n",
      "        (7): Linear(in_features=32, out_features=50, bias=False)\n",
      "        (8): Linear(in_features=32, out_features=50, bias=False)\n",
      "        (9): Linear(in_features=32, out_features=50, bias=False)\n",
      "      )\n",
      "    )\n",
      "  )\n",
      "  (classify): Sequential(\n",
      "    (0): Linear(in_features=39200, out_features=512, bias=True)\n",
      "    (1): ReLU(inplace=True)\n",
      "    (2): Dropout(p=0.5, inplace=False)\n",
      "    (3): Linear(in_features=512, out_features=10, bias=True)\n",
      "  )\n",
      ")\n"
     ]
    }
   ],
   "source": [
    "# model_parameters\n",
    "in_features = 1\n",
    "first_conv_out = 32\n",
    "second_conv_out = 50\n",
    "hidden_layer_classifier = 512\n",
    "k = 10\n",
    "n_classes = testset.num_classes\n",
    "\n",
    "net = DGL_stock_Classifier(\n",
    "    in_features, first_conv_out, second_conv_out, hidden_layer_classifier, n_classes, k\n",
    ")\n",
    "\n",
    "print(net)\n",
    "#if torch.cuda.is_available():\n",
    "#    net.to(device)"
   ]
  },
  {
   "cell_type": "code",
   "execution_count": 5,
   "metadata": {
    "Collapsed": "false"
   },
   "outputs": [
    {
     "data": {
      "text/plain": [
       "<All keys matched successfully>"
      ]
     },
     "execution_count": 5,
     "metadata": {},
     "output_type": "execute_result"
    }
   ],
   "source": [
    "# LOAD MODEL\n",
    "\n",
    "from utils import load_model\n",
    "net.load_state_dict(load_model('Cheb_DGL_toshowDGL'))"
   ]
  },
  {
   "cell_type": "markdown",
   "metadata": {
    "Collapsed": "false"
   },
   "source": [
    "# Test"
   ]
  },
  {
   "cell_type": "code",
   "execution_count": 6,
   "metadata": {
    "Collapsed": "false"
   },
   "outputs": [],
   "source": [
    "import sklearn\n",
    "from sklearn.metrics import classification_report\n",
    "\n",
    "\n",
    "def test_func(data_loader):\n",
    "    net.eval()\n",
    "    probs_Y = torch.Tensor()\n",
    "    test_Y = torch.Tensor().int()\n",
    "    for iter, (bg, label, signal) in enumerate(data_loader):\n",
    "        probs_Y = torch.cat((probs_Y, torch.softmax(net(bg, signal), 1)), 0)\n",
    "        test_Y = torch.cat((test_Y, label.int()),0)\n",
    "\n",
    "    sampled_Y = torch.multinomial(probs_Y, 1)\n",
    "    argmax_Y = torch.max(probs_Y, 1)[1].view(-1, 1)\n",
    "    return sklearn.metrics.classification_report(test_Y, argmax_Y, digits=4)"
   ]
  },
  {
   "cell_type": "markdown",
   "metadata": {
    "Collapsed": "false"
   },
   "source": [
    "## Original lattice"
   ]
  },
  {
   "cell_type": "code",
   "execution_count": 8,
   "metadata": {
    "Collapsed": "false"
   },
   "outputs": [
    {
     "data": {
      "image/png": "[encoded data removed]",
      "text/plain": [
       "<Figure size 432x288 with 1 Axes>"
      ]
     },
     "metadata": {},
     "output_type": "display_data"
    }
   ],
   "source": [
    "from graphs import regular_2D_lattice\n",
    "g = regular_2D_lattice(5)\n",
    "pos=nx.spring_layout(g.to_networkx().to_undirected())\n",
    "nx.draw(g.to_networkx().to_undirected(),pos)"
   ]
  },
  {
   "cell_type": "code",
   "execution_count": 8,
   "metadata": {
    "Collapsed": "false"
   },
   "outputs": [
    {
     "name": "stderr",
     "output_type": "stream",
     "text": [
      "/home/axel/miniconda3/envs/DGL/lib/python3.7/site-packages/dgl/base.py:25: UserWarning: Currently adjacency_matrix() returns a matrix with destination as rows by default.  In 0.5 the result will have source as rows (i.e. transpose=True)\n",
      "  warnings.warn(msg, warn_type)\n"
     ]
    },
    {
     "data": {
      "image/png": "[encoded data removed]",
      "text/plain": [
       "<Figure size 432x288 with 2 Axes>"
      ]
     },
     "metadata": {
      "needs_background": "light"
     },
     "output_type": "display_data"
    }
   ],
   "source": [
    "from ninja import Gspyplot, GeigplotH, GeigplotL\n",
    "\n",
    "L = Gspyplot(g)"
   ]
  },
  {
   "cell_type": "code",
   "execution_count": 9,
   "metadata": {
    "Collapsed": "false"
   },
   "outputs": [],
   "source": [
    "G = g.to_networkx().to_undirected()\n",
    "L = nx.normalized_laplacian_matrix(G)"
   ]
  },
  {
   "cell_type": "code",
   "execution_count": 16,
   "metadata": {
    "Collapsed": "false"
   },
   "outputs": [
    {
     "data": {
      "text/plain": [
       "<matplotlib.colorbar.Colorbar at 0x7f2d1af3d550>"
      ]
     },
     "execution_count": 16,
     "metadata": {},
     "output_type": "execute_result"
    },
    {
     "data": {
      "image/png": "[encoded data removed]",
      "text/plain": [
       "<Figure size 432x288 with 2 Axes>"
      ]
     },
     "metadata": {
      "needs_background": "light"
     },
     "output_type": "display_data"
    }
   ],
   "source": [
    "plt.imshow(L.todense())\n",
    "plt.colorbar()"
   ]
  },
  {
   "cell_type": "code",
   "execution_count": 17,
   "metadata": {
    "Collapsed": "false"
   },
   "outputs": [
    {
     "name": "stdout",
     "output_type": "stream",
     "text": [
      "Largest eigenvalue: 2.0000000000000013\n",
      "Smallest eigenvalue: 2.220446049250313e-16\n"
     ]
    },
    {
     "data": {
      "image/png": "[encoded data removed]",
      "text/plain": [
       "<Figure size 432x288 with 1 Axes>"
      ]
     },
     "metadata": {
      "needs_background": "light"
     },
     "output_type": "display_data"
    }
   ],
   "source": [
    "GeigplotL(g)"
   ]
  },
  {
   "cell_type": "code",
   "execution_count": 7,
   "metadata": {
    "Collapsed": "false"
   },
   "outputs": [
    {
     "name": "stderr",
     "output_type": "stream",
     "text": [
      "/home/axel/miniconda3/envs/DGL/lib/python3.7/site-packages/dgl/base.py:25: UserWarning: Currently adjacency_matrix() returns a matrix with destination as rows by default.  In 0.5 the result will have source as rows (i.e. transpose=True)\n",
      "  warnings.warn(msg, warn_type)\n"
     ]
    },
    {
     "name": "stdout",
     "output_type": "stream",
     "text": [
      "              precision    recall  f1-score   support\n",
      "\n",
      "           0     0.9351    0.9719    0.9532       178\n",
      "           1     0.9835    0.9835    0.9835       242\n",
      "           2     0.9266    0.9182    0.9224       220\n",
      "           3     0.9031    0.9579    0.9297       214\n",
      "           4     0.9585    0.9327    0.9455       223\n",
      "           5     0.9448    0.9144    0.9293       187\n",
      "           6     0.9358    0.9511    0.9434       184\n",
      "           7     0.9109    0.8804    0.8954       209\n",
      "           8     0.8808    0.8763    0.8786       194\n",
      "           9     0.9031    0.8985    0.9008       197\n",
      "\n",
      "    accuracy                         0.9292      2048\n",
      "   macro avg     0.9282    0.9285    0.9282      2048\n",
      "weighted avg     0.9294    0.9292    0.9291      2048\n",
      "\n"
     ]
    }
   ],
   "source": [
    "# Define a test function\n",
    "data_loader_test = DataLoader(testset, batch_size=256,\n",
    "                              shuffle=False, collate_fn=collate)\n",
    "print(test_func(data_loader_test))"
   ]
  },
  {
   "cell_type": "markdown",
   "metadata": {
    "Collapsed": "false"
   },
   "source": [
    "## Other lattice"
   ]
  },
  {
   "cell_type": "code",
   "execution_count": 11,
   "metadata": {
    "Collapsed": "false"
   },
   "outputs": [
    {
     "data": {
      "image/png": "[encoded data removed]",
      "text/plain": [
       "<Figure size 432x288 with 1 Axes>"
      ]
     },
     "metadata": {},
     "output_type": "display_data"
    }
   ],
   "source": [
    "from graphs import regular_2D_lattice_8_neighbors\n",
    "\n",
    "g2 = regular_2D_lattice_8_neighbors(5)\n",
    "nx.draw(g2.to_networkx().to_undirected(),pos,node_color=np.array(g2.to_networkx().to_undirected().degree())[:,1],cmap=plt.cm.viridis)"
   ]
  },
  {
   "cell_type": "code",
   "execution_count": 20,
   "metadata": {
    "Collapsed": "false"
   },
   "outputs": [
    {
     "data": {
      "image/png": "[encoded data removed]",
      "text/plain": [
       "<Figure size 432x288 with 2 Axes>"
      ]
     },
     "metadata": {
      "needs_background": "light"
     },
     "output_type": "display_data"
    }
   ],
   "source": [
    "L2 = Gspyplot(g2)"
   ]
  },
  {
   "cell_type": "code",
   "execution_count": 21,
   "metadata": {
    "Collapsed": "false"
   },
   "outputs": [
    {
     "data": {
      "text/plain": [
       "<matplotlib.colorbar.Colorbar at 0x7f2cfc13b690>"
      ]
     },
     "execution_count": 21,
     "metadata": {},
     "output_type": "execute_result"
    },
    {
     "data": {
      "image/png": "[encoded data removed]",
      "text/plain": [
       "<Figure size 432x288 with 2 Axes>"
      ]
     },
     "metadata": {
      "needs_background": "light"
     },
     "output_type": "display_data"
    }
   ],
   "source": [
    "G = g2.to_networkx().to_undirected()\n",
    "L = nx.normalized_laplacian_matrix(G)\n",
    "plt.imshow(L.todense())\n",
    "plt.colorbar()"
   ]
  },
  {
   "cell_type": "code",
   "execution_count": 23,
   "metadata": {
    "Collapsed": "false"
   },
   "outputs": [
    {
     "name": "stdout",
     "output_type": "stream",
     "text": [
      "Largest eigenvalue: 1.4858041353534703\n",
      "Smallest eigenvalue: 5.551115123125783e-17\n"
     ]
    },
    {
     "data": {
      "image/png": "[encoded data removed]",
      "text/plain": [
       "<Figure size 432x288 with 1 Axes>"
      ]
     },
     "metadata": {
      "needs_background": "light"
     },
     "output_type": "display_data"
    }
   ],
   "source": [
    "GeigplotH(g2)"
   ]
  },
  {
   "cell_type": "code",
   "execution_count": 8,
   "metadata": {
    "Collapsed": "false"
   },
   "outputs": [
    {
     "name": "stdout",
     "output_type": "stream",
     "text": [
      "              precision    recall  f1-score   support\n",
      "\n",
      "           0     0.9608    0.5506    0.7000       178\n",
      "           1     0.0000    0.0000    0.0000       242\n",
      "           2     0.6197    0.6591    0.6388       220\n",
      "           3     0.5106    0.1121    0.1839       214\n",
      "           4     0.8313    0.3094    0.4510       223\n",
      "           5     0.8519    0.1230    0.2150       187\n",
      "           6     0.9012    0.3967    0.5509       184\n",
      "           7     0.8051    0.4545    0.5810       209\n",
      "           8     0.1567    0.9845    0.2703       194\n",
      "           9     0.3897    0.2690    0.3183       197\n",
      "\n",
      "    accuracy                         0.3765      2048\n",
      "   macro avg     0.6027    0.3859    0.3909      2048\n",
      "weighted avg     0.5872    0.3765    0.3824      2048\n",
      "\n"
     ]
    }
   ],
   "source": [
    "testset_2 = MNISTDataset(test_data, test_labels, lattice_type=1)\n",
    "\n",
    "# Define a test function\n",
    "data_loader_test = DataLoader(testset_2, batch_size=256,\n",
    "                              shuffle=False, collate_fn=collate)\n",
    "print(test_func(data_loader_test))"
   ]
  },
  {
   "cell_type": "code",
   "execution_count": 14,
   "metadata": {
    "Collapsed": "false"
   },
   "outputs": [
    {
     "name": "stdout",
     "output_type": "stream",
     "text": [
      "              precision    recall  f1-score   support\n",
      "\n",
      "           0     0.9457    0.9775    0.9613       178\n",
      "           1     0.9955    0.9091    0.9503       242\n",
      "           2     0.8739    0.9455    0.9083       220\n",
      "           3     0.8514    0.8832    0.8670       214\n",
      "           4     0.9330    0.8744    0.9028       223\n",
      "           5     0.9371    0.7968    0.8613       187\n",
      "           6     0.8852    0.8804    0.8828       184\n",
      "           7     0.9235    0.8086    0.8622       209\n",
      "           8     0.7154    0.9072    0.8000       194\n",
      "           9     0.8227    0.8477    0.8350       197\n",
      "\n",
      "    accuracy                         0.8833      2048\n",
      "   macro avg     0.8883    0.8830    0.8831      2048\n",
      "weighted avg     0.8905    0.8833    0.8844      2048\n",
      "\n"
     ]
    }
   ],
   "source": [
    "testset_2 = MNISTDataset(test_data, test_labels, lattice_type=1)\n",
    "\n",
    "def test_func2(data_loader):\n",
    "    net.eval()\n",
    "    probs_Y = torch.Tensor()\n",
    "    test_Y = torch.Tensor().int()\n",
    "    for iter, (bg, label, signal) in enumerate(data_loader):\n",
    "        probs_Y = torch.cat((probs_Y, torch.softmax(net(bg, signal, lambda_max = torch.ones(256)*2), 1)), 0)\n",
    "        test_Y = torch.cat((test_Y, label.int()),0)\n",
    "\n",
    "    sampled_Y = torch.multinomial(probs_Y, 1)\n",
    "    argmax_Y = torch.max(probs_Y, 1)[1].view(-1, 1)\n",
    "    return sklearn.metrics.classification_report(test_Y, argmax_Y, digits=4)\n",
    "\n",
    "# Define a test function\n",
    "data_loader_test = DataLoader(testset_2, batch_size=256,\n",
    "                              shuffle=False, collate_fn=collate)\n",
    "print(test_func2(data_loader_test))"
   ]
  },
  {
   "cell_type": "markdown",
   "metadata": {
    "Collapsed": "false"
   },
   "source": [
    "## Random supression"
   ]
  },
  {
   "cell_type": "code",
   "execution_count": 25,
   "metadata": {
    "Collapsed": "false"
   },
   "outputs": [
    {
     "data": {
      "image/png": "[encoded data removed]",
      "text/plain": [
       "<Figure size 432x288 with 1 Axes>"
      ]
     },
     "metadata": {},
     "output_type": "display_data"
    }
   ],
   "source": [
    "from graphs import random_edge_suppression\n",
    "\n",
    "g3 = random_edge_suppression(5,5)\n",
    "nx.draw(g3.to_networkx().to_undirected(), pos, node_color=np.array(\n",
    "    g3.to_networkx().to_undirected().degree())[:, 1], cmap=plt.cm.viridis)"
   ]
  },
  {
   "cell_type": "code",
   "execution_count": 26,
   "metadata": {
    "Collapsed": "false"
   },
   "outputs": [
    {
     "data": {
      "image/png": "[encoded data removed]",
      "text/plain": [
       "<Figure size 432x288 with 2 Axes>"
      ]
     },
     "metadata": {
      "needs_background": "light"
     },
     "output_type": "display_data"
    }
   ],
   "source": [
    "L3 = Gspyplot(g3)"
   ]
  },
  {
   "cell_type": "code",
   "execution_count": 41,
   "metadata": {
    "Collapsed": "false"
   },
   "outputs": [
    {
     "name": "stdout",
     "output_type": "stream",
     "text": [
      "Norm 1 distance: tensor(6.2154) \n",
      "Norm 2 distance: tensor(1.3157)\n"
     ]
    },
    {
     "data": {
      "text/plain": [
       "<matplotlib.colorbar.Colorbar at 0xa302ece10>"
      ]
     },
     "execution_count": 41,
     "metadata": {},
     "output_type": "execute_result"
    },
    {
     "data": {
      "image/png": "[encoded data removed]",
      "text/plain": [
       "<Figure size 432x288 with 2 Axes>"
      ]
     },
     "metadata": {
      "needs_background": "light"
     },
     "output_type": "display_data"
    }
   ],
   "source": [
    "res = L3-L\n",
    "print('Norm 1 distance:', torch.norm(res, p=1),\n",
    "      '\\nNorm 2 distance:', torch.norm(res, p=2))\n",
    "plt.imshow(res.to_dense(), cmap='viridis')\n",
    "plt.colorbar()"
   ]
  },
  {
   "cell_type": "code",
   "execution_count": 16,
   "metadata": {
    "Collapsed": "false"
   },
   "outputs": [
    {
     "name": "stdout",
     "output_type": "stream",
     "text": [
      "              precision    recall  f1-score   support\n",
      "\n",
      "           0     0.9351    0.9719    0.9532       178\n",
      "           1     0.9835    0.9835    0.9835       242\n",
      "           2     0.9346    0.9091    0.9217       220\n",
      "           3     0.8982    0.9486    0.9227       214\n",
      "           4     0.9500    0.9372    0.9436       223\n",
      "           5     0.9348    0.9198    0.9272       187\n",
      "           6     0.9459    0.9511    0.9485       184\n",
      "           7     0.9113    0.8852    0.8981       209\n",
      "           8     0.8724    0.8814    0.8769       194\n",
      "           9     0.9119    0.8934    0.9026       197\n",
      "\n",
      "    accuracy                         0.9287      2048\n",
      "   macro avg     0.9278    0.9281    0.9278      2048\n",
      "weighted avg     0.9289    0.9287    0.9286      2048\n",
      "\n"
     ]
    }
   ],
   "source": [
    "testset_3 = MNISTDataset(test_data, test_labels, lattice_type=2)\n",
    "\n",
    "# Define a test function\n",
    "data_loader_test = DataLoader(testset_3, batch_size=256,\n",
    "                              shuffle=False, collate_fn=collate)\n",
    "print(test_func(data_loader_test))"
   ]
  },
  {
   "cell_type": "markdown",
   "metadata": {
    "Collapsed": "true"
   },
   "source": [
    "# Model trained on the 8 lattice"
   ]
  },
  {
   "cell_type": "code",
   "execution_count": 18,
   "metadata": {
    "Collapsed": "false"
   },
   "outputs": [
    {
     "name": "stdout",
     "output_type": "stream",
     "text": [
      "Classifier(\n",
      "  (layers): ModuleList(\n",
      "    (0): Chebyconv(\n",
      "      (apply_mod): NodeApplyModule(\n",
      "        (linear): Linear(in_features=10, out_features=32, bias=True)\n",
      "      )\n",
      "    )\n",
      "    (1): Chebyconv(\n",
      "      (apply_mod): NodeApplyModule(\n",
      "        (linear): Linear(in_features=320, out_features=50, bias=True)\n",
      "      )\n",
      "    )\n",
      "  )\n",
      "  (classify): Sequential(\n",
      "    (0): Linear(in_features=39200, out_features=512, bias=True)\n",
      "    (1): ReLU(inplace=True)\n",
      "    (2): Dropout(p=0.5, inplace=False)\n",
      "    (3): Linear(in_features=512, out_features=10, bias=True)\n",
      "  )\n",
      ")\n"
     ]
    }
   ],
   "source": [
    "# model_parameters\n",
    "in_features = 1\n",
    "first_conv_out = 32\n",
    "second_conv_out = 50\n",
    "hidden_layer_classifier = 512\n",
    "k = 10\n",
    "n_classes = testset.num_classes\n",
    "\n",
    "net = Classifier(\n",
    "    in_features, first_conv_out, second_conv_out, hidden_layer_classifier, n_classes, k\n",
    ")\n",
    "\n",
    "print(net)\n",
    "if torch.cuda.is_available():\n",
    "    net.to(device)"
   ]
  },
  {
   "cell_type": "code",
   "execution_count": 19,
   "metadata": {
    "Collapsed": "false"
   },
   "outputs": [
    {
     "data": {
      "text/plain": [
       "<All keys matched successfully>"
      ]
     },
     "execution_count": 19,
     "metadata": {},
     "output_type": "execute_result"
    }
   ],
   "source": [
    "# LOAD MODEL trained on 8 neighbors\n",
    "\n",
    "from utils import load_model\n",
    "net.load_state_dict(load_model('Model_6000_20ep_8_lattice'))"
   ]
  },
  {
   "cell_type": "markdown",
   "metadata": {
    "Collapsed": "false"
   },
   "source": [
    "## Original lattice"
   ]
  },
  {
   "cell_type": "code",
   "execution_count": 20,
   "metadata": {
    "Collapsed": "false"
   },
   "outputs": [
    {
     "name": "stdout",
     "output_type": "stream",
     "text": [
      "              precision    recall  f1-score   support\n",
      "\n",
      "           0     0.9167    0.5238    0.6667        42\n",
      "           1     0.8961    1.0000    0.9452        69\n",
      "           2     0.6623    0.9107    0.7669        56\n",
      "           3     0.8636    0.3958    0.5429        48\n",
      "           4     0.9655    0.5000    0.6588        56\n",
      "           5     0.3770    0.8846    0.5287        52\n",
      "           6     0.9130    0.4773    0.6269        44\n",
      "           7     0.3643    0.9400    0.5251        50\n",
      "           8     1.0000    0.1000    0.1818        40\n",
      "           9     0.8000    0.0727    0.1333        55\n",
      "\n",
      "    accuracy                         0.6074       512\n",
      "   macro avg     0.7759    0.5805    0.5576       512\n",
      "weighted avg     0.7714    0.6074    0.5763       512\n",
      "\n"
     ]
    }
   ],
   "source": [
    "testset = MNISTDataset(test_data, test_labels, lattice_type=0)\n",
    "\n",
    "# Define a test function\n",
    "data_loader_test = DataLoader(testset, batch_size=256,\n",
    "                              shuffle=False, collate_fn=collate)\n",
    "print(test_func(data_loader_test))"
   ]
  },
  {
   "cell_type": "markdown",
   "metadata": {
    "Collapsed": "false"
   },
   "source": [
    "## 8 lattice"
   ]
  },
  {
   "cell_type": "code",
   "execution_count": 21,
   "metadata": {
    "Collapsed": "false"
   },
   "outputs": [
    {
     "name": "stdout",
     "output_type": "stream",
     "text": [
      "              precision    recall  f1-score   support\n",
      "\n",
      "           0     0.9130    1.0000    0.9545        42\n",
      "           1     1.0000    1.0000    1.0000        69\n",
      "           2     0.9818    0.9643    0.9730        56\n",
      "           3     0.9787    0.9583    0.9684        48\n",
      "           4     0.9474    0.9643    0.9558        56\n",
      "           5     0.9423    0.9423    0.9423        52\n",
      "           6     0.9762    0.9318    0.9535        44\n",
      "           7     0.9412    0.9600    0.9505        50\n",
      "           8     0.9512    0.9750    0.9630        40\n",
      "           9     0.9615    0.9091    0.9346        55\n",
      "\n",
      "    accuracy                         0.9609       512\n",
      "   macro avg     0.9593    0.9605    0.9596       512\n",
      "weighted avg     0.9615    0.9609    0.9609       512\n",
      "\n"
     ]
    }
   ],
   "source": [
    "testset_2 = MNISTDataset(test_data, test_labels, lattice_type=1)\n",
    "\n",
    "# Define a test function\n",
    "data_loader_test = DataLoader(testset_2, batch_size=256,\n",
    "                              shuffle=False, collate_fn=collate)\n",
    "print(test_func(data_loader_test))"
   ]
  },
  {
   "cell_type": "markdown",
   "metadata": {
    "Collapsed": "false"
   },
   "source": [
    "## Random suppresion"
   ]
  },
  {
   "cell_type": "code",
   "execution_count": 22,
   "metadata": {
    "Collapsed": "false"
   },
   "outputs": [
    {
     "name": "stdout",
     "output_type": "stream",
     "text": [
      "              precision    recall  f1-score   support\n",
      "\n",
      "           0     0.9130    0.5000    0.6462        42\n",
      "           1     0.8767    0.9275    0.9014        69\n",
      "           2     0.6250    0.8929    0.7353        56\n",
      "           3     0.8182    0.3750    0.5143        48\n",
      "           4     0.9643    0.4821    0.6429        56\n",
      "           5     0.3651    0.8846    0.5169        52\n",
      "           6     0.9444    0.3864    0.5484        44\n",
      "           7     0.3561    0.9400    0.5165        50\n",
      "           8     0.7500    0.0750    0.1364        40\n",
      "           9     0.8333    0.0909    0.1639        55\n",
      "\n",
      "    accuracy                         0.5820       512\n",
      "   macro avg     0.7446    0.5554    0.5322       512\n",
      "weighted avg     0.7447    0.5820    0.5518       512\n",
      "\n"
     ]
    }
   ],
   "source": [
    "testset_3 = MNISTDataset(test_data, test_labels, lattice_type=2)\n",
    "\n",
    "# Define a test function\n",
    "data_loader_test = DataLoader(testset_3, batch_size=256,\n",
    "                              shuffle=False, collate_fn=collate)\n",
    "print(test_func(data_loader_test))"
   ]
  },
  {
   "cell_type": "markdown",
   "metadata": {
    "Collapsed": "false"
   },
   "source": [
    "# Trying to know where the performance breaks down"
   ]
  },
  {
   "cell_type": "code",
   "execution_count": 23,
   "metadata": {
    "Collapsed": "false"
   },
   "outputs": [
    {
     "name": "stdout",
     "output_type": "stream",
     "text": [
      "Classifier(\n",
      "  (layers): ModuleList(\n",
      "    (0): Chebyconv(\n",
      "      (apply_mod): NodeApplyModule(\n",
      "        (linear): Linear(in_features=10, out_features=32, bias=True)\n",
      "      )\n",
      "    )\n",
      "    (1): Chebyconv(\n",
      "      (apply_mod): NodeApplyModule(\n",
      "        (linear): Linear(in_features=320, out_features=50, bias=True)\n",
      "      )\n",
      "    )\n",
      "  )\n",
      "  (classify): Sequential(\n",
      "    (0): Linear(in_features=39200, out_features=512, bias=True)\n",
      "    (1): ReLU(inplace=True)\n",
      "    (2): Dropout(p=0.5, inplace=False)\n",
      "    (3): Linear(in_features=512, out_features=10, bias=True)\n",
      "  )\n",
      ")\n"
     ]
    },
    {
     "data": {
      "text/plain": [
       "<All keys matched successfully>"
      ]
     },
     "execution_count": 23,
     "metadata": {},
     "output_type": "execute_result"
    }
   ],
   "source": [
    "# Using the 4-neighbors trained model\n",
    "\n",
    "# model_parameters\n",
    "in_features = 1\n",
    "first_conv_out = 32\n",
    "second_conv_out = 50\n",
    "hidden_layer_classifier = 512\n",
    "k = 10\n",
    "n_classes = testset.num_classes\n",
    "\n",
    "net = Classifier(\n",
    "    in_features, first_conv_out, second_conv_out, hidden_layer_classifier, n_classes, k\n",
    ")\n",
    "\n",
    "print(net)\n",
    "if torch.cuda.is_available():\n",
    "    net.to(device)\n",
    "    \n",
    "# LOAD MODEL\n",
    "\n",
    "from utils import load_model\n",
    "net.load_state_dict(load_model('Model_6000_20ep'))"
   ]
  },
  {
   "cell_type": "code",
   "execution_count": 25,
   "metadata": {
    "Collapsed": "false"
   },
   "outputs": [],
   "source": [
    "def test_func(data_loader):\n",
    "    net.eval()\n",
    "    probs_Y = torch.Tensor()\n",
    "    test_Y = torch.Tensor().int()\n",
    "    for iter, (bg, label, signal) in enumerate(data_loader):\n",
    "        if iter == 0:\n",
    "            L = normalized_laplacian(bg)\n",
    "        probs_Y = torch.cat((probs_Y, torch.softmax(net(bg, signal, L), 1)), 0)\n",
    "        test_Y = torch.cat((test_Y, label.int()),0)\n",
    "\n",
    "    sampled_Y = torch.multinomial(probs_Y, 1)\n",
    "    argmax_Y = torch.max(probs_Y, 1)[1].view(-1, 1)\n",
    "    return sklearn.metrics.classification_report(test_Y, argmax_Y, digits=4, output_dict=True)"
   ]
  },
  {
   "cell_type": "code",
   "execution_count": 26,
   "metadata": {
    "Collapsed": "false"
   },
   "outputs": [],
   "source": [
    "repz = []\n",
    "\n",
    "for i in range(0,800,50):\n",
    "    report = []\n",
    "    for j in range(4):\n",
    "        testset = MNISTDataset(test_data, test_labels, lattice_type=2, nb_removal=i)\n",
    "\n",
    "        # Define a test function\n",
    "        data_loader_test = DataLoader(testset, batch_size=256,\n",
    "                                      shuffle=False, collate_fn=collate)\n",
    "        \n",
    "        report.append(test_func(data_loader_test)['accuracy'])\n",
    "        \n",
    "    repz.append(report)"
   ]
  },
  {
   "cell_type": "code",
   "execution_count": 29,
   "metadata": {
    "Collapsed": "false"
   },
   "outputs": [
    {
     "name": "stdout",
     "output_type": "stream",
     "text": [
      "           0         1         2         3      mean       std\n",
      "0   0.962891  0.962891  0.962891  0.962891  0.962891  0.000000\n",
      "1   0.964844  0.962891  0.960938  0.955078  0.960938  0.003654\n",
      "2   0.962891  0.962891  0.957031  0.958984  0.960449  0.002537\n",
      "3   0.931641  0.962891  0.957031  0.939453  0.947754  0.012686\n",
      "4   0.923828  0.933594  0.943359  0.937500  0.934570  0.007109\n",
      "5   0.898438  0.906250  0.935547  0.873047  0.903320  0.022290\n",
      "6   0.908203  0.894531  0.861328  0.876953  0.885254  0.017707\n",
      "7   0.826172  0.869141  0.830078  0.847656  0.843262  0.016992\n",
      "8   0.863281  0.750000  0.746094  0.849609  0.802246  0.054432\n",
      "9   0.734375  0.759766  0.664062  0.771484  0.732422  0.041684\n",
      "10  0.642578  0.558594  0.732422  0.707031  0.660156  0.067163\n",
      "11  0.613281  0.662109  0.539062  0.703125  0.629395  0.061086\n",
      "12  0.626953  0.562500  0.597656  0.509766  0.574219  0.043651\n",
      "13  0.587891  0.417969  0.533203  0.455078  0.498535  0.066268\n",
      "14  0.365234  0.396484  0.453125  0.457031  0.417969  0.038744\n",
      "15  0.345703  0.416016  0.458984  0.343750  0.391113  0.048816\n"
     ]
    }
   ],
   "source": [
    "import pandas as pd\n",
    "df = pd.DataFrame(repz)\n",
    "\n",
    "df['mean'] = df.mean(1)\n",
    "df['std'] = df.std(1)\n",
    "print(df)"
   ]
  },
  {
   "cell_type": "code",
   "execution_count": 51,
   "metadata": {
    "Collapsed": "false"
   },
   "outputs": [
    {
     "data": {
      "text/plain": [
       "<matplotlib.collections.PolyCollection at 0xa2dbf4ad0>"
      ]
     },
     "execution_count": 51,
     "metadata": {},
     "output_type": "execute_result"
    },
    {
     "data": {
      "image/png": "[encoded data removed]",
      "text/plain": [
       "<Figure size 432x288 with 1 Axes>"
      ]
     },
     "metadata": {
      "needs_background": "light"
     },
     "output_type": "display_data"
    }
   ],
   "source": [
    "x = range(0,800,50)\n",
    "plt.plot(x, df['mean'], color='white')\n",
    "plt.fill_between(x, df['mean'] - df['std'],\n",
    "                 df['mean'] + df['std'], color=\"#3F5D7D\")\n",
    "plt.title('Accuracy over number of removed edges')"
   ]
  },
  {
   "cell_type": "code",
   "execution_count": 43,
   "metadata": {
    "Collapsed": "false",
    "scrolled": true
   },
   "outputs": [
    {
     "name": "stdout",
     "output_type": "stream",
     "text": [
      "the maximum removal rate is 24.8015873015873 % of all edges\n"
     ]
    }
   ],
   "source": [
    "print('the maximum removal rate is',750*100/3024,'% of all edges')"
   ]
  },
  {
   "cell_type": "markdown",
   "metadata": {
    "Collapsed": "true"
   },
   "source": [
    "# Eigonvalue GUI"
   ]
  },
  {
   "cell_type": "code",
   "execution_count": 39,
   "metadata": {
    "Collapsed": "false"
   },
   "outputs": [
    {
     "name": "stderr",
     "output_type": "stream",
     "text": [
      "/Users/axel/miniconda3/envs/DGL/lib/python3.7/site-packages/numpy/core/_asarray.py:85: ComplexWarning: Casting complex values to real discards the imaginary part\n",
      "  return array(a, dtype, copy=False, order=order)\n",
      "/Users/axel/miniconda3/envs/DGL/lib/python3.7/site-packages/numpy/core/_asarray.py:85: ComplexWarning: Casting complex values to real discards the imaginary part\n",
      "  return array(a, dtype, copy=False, order=order)\n",
      "/Users/axel/miniconda3/envs/DGL/lib/python3.7/site-packages/numpy/core/_asarray.py:85: ComplexWarning: Casting complex values to real discards the imaginary part\n",
      "  return array(a, dtype, copy=False, order=order)\n",
      "/Users/axel/miniconda3/envs/DGL/lib/python3.7/site-packages/numpy/core/_asarray.py:85: ComplexWarning: Casting complex values to real discards the imaginary part\n",
      "  return array(a, dtype, copy=False, order=order)\n",
      "/Users/axel/miniconda3/envs/DGL/lib/python3.7/site-packages/numpy/core/_asarray.py:85: ComplexWarning: Casting complex values to real discards the imaginary part\n",
      "  return array(a, dtype, copy=False, order=order)\n",
      "/Users/axel/miniconda3/envs/DGL/lib/python3.7/site-packages/numpy/core/_asarray.py:85: ComplexWarning: Casting complex values to real discards the imaginary part\n",
      "  return array(a, dtype, copy=False, order=order)\n",
      "/Users/axel/miniconda3/envs/DGL/lib/python3.7/site-packages/numpy/core/_asarray.py:85: ComplexWarning: Casting complex values to real discards the imaginary part\n",
      "  return array(a, dtype, copy=False, order=order)\n",
      "/Users/axel/miniconda3/envs/DGL/lib/python3.7/site-packages/numpy/core/_asarray.py:85: ComplexWarning: Casting complex values to real discards the imaginary part\n",
      "  return array(a, dtype, copy=False, order=order)\n",
      "/Users/axel/miniconda3/envs/DGL/lib/python3.7/site-packages/numpy/core/_asarray.py:85: ComplexWarning: Casting complex values to real discards the imaginary part\n",
      "  return array(a, dtype, copy=False, order=order)\n",
      "/Users/axel/miniconda3/envs/DGL/lib/python3.7/site-packages/numpy/core/_asarray.py:85: ComplexWarning: Casting complex values to real discards the imaginary part\n",
      "  return array(a, dtype, copy=False, order=order)\n",
      "/Users/axel/miniconda3/envs/DGL/lib/python3.7/site-packages/numpy/core/_asarray.py:85: ComplexWarning: Casting complex values to real discards the imaginary part\n",
      "  return array(a, dtype, copy=False, order=order)\n"
     ]
    }
   ],
   "source": [
    "import numpy as np\n",
    "import matplotlib.pyplot as plt\n",
    "import matplotlib.animation as animation\n",
    "from matplotlib.widgets import Slider\n",
    "import networkx as nx\n",
    "import numpy\n",
    "%matplotlib qt\n",
    "\n",
    "from graphs import regular_2D_lattice, regular_2D_lattice_8_neighbors, random_edge_suppression\n",
    "\n",
    "N = 7\n",
    "g = regular_2D_lattice(N)\n",
    "\n",
    "g2 = regular_2D_lattice_8_neighbors(N)\n",
    "\n",
    "g3 = random_edge_suppression(N,N)\n",
    "\n",
    "\n",
    "G2 = g2.to_networkx().to_undirected()\n",
    "L2 = nx.normalized_laplacian_matrix(G2)\n",
    "e = numpy.linalg.eigvals(L2.A)\n",
    "\n",
    "fig, ax = plt.subplots()\n",
    "\n",
    "s = np.sort(e)\n",
    "l, = plt.plot(np.sort(nx.normalized_laplacian_spectrum(g.to_networkx().to_undirected()))) \n",
    "l, = plt.plot(np.sort(e), lw=2)\n",
    "\n",
    "ax = plt.axis([0,len(e),-0.5,np.max(e)*1.5])\n",
    "\n",
    "axamp = plt.axes([0.25, .03, 0.50, 0.02])\n",
    "axamp2 = plt.axes([0.25, 0, 0.50, 0.02])\n",
    "# Slider\n",
    "samp = Slider(axamp, ' + b on diag', -1.5, 1.5, valinit=0)\n",
    "\n",
    "samp2 = Slider(axamp2, 'Theta', -.5, 1.5, valinit=1)\n",
    "\n",
    "\n",
    "def update(val):\n",
    "    # amp is the current value of the slider\n",
    "    amp = samp.val\n",
    "    amp2 = samp2.val\n",
    "    # update curve\n",
    "    l.set_ydata(np.sort(numpy.linalg.eigvals((L2.todense()*amp2 +(numpy.eye(N*N)*amp)).A)))\n",
    "    # redraw canvas while idle\n",
    "    fig.canvas.draw_idle()\n",
    "\n",
    "# call update function on slider value change\n",
    "samp.on_changed(update)\n",
    "samp2.on_changed(update)\n",
    "\n",
    "plt.show()"
   ]
  },
  {
   "cell_type": "code",
   "execution_count": 7,
   "metadata": {
    "Collapsed": "false"
   },
   "outputs": [
    {
     "data": {
      "text/plain": [
       "<25x25 sparse matrix of type '<class 'numpy.float64'>'\n",
       "\twith 169 stored elements in Compressed Sparse Row format>"
      ]
     },
     "execution_count": 7,
     "metadata": {},
     "output_type": "execute_result"
    }
   ],
   "source": [
    "L2"
   ]
  },
  {
   "cell_type": "code",
   "execution_count": null,
   "metadata": {
    "Collapsed": "false"
   },
   "outputs": [],
   "source": []
  }
 ],
 "metadata": {
  "kernelspec": {
   "display_name": "Python 3",
   "language": "python",
   "name": "python3"
  },
  "language_info": {
   "codemirror_mode": {
    "name": "ipython",
    "version": 3
   },
   "file_extension": ".py",
   "mimetype": "text/x-python",
   "name": "python",
   "nbconvert_exporter": "python",
   "pygments_lexer": "ipython3",
   "version": "3.7.6"
  },
  "toc": {
   "base_numbering": 1,
   "nav_menu": {},
   "number_sections": true,
   "sideBar": true,
   "skip_h1_title": false,
   "title_cell": "Table of Contents",
   "title_sidebar": "Contents",
   "toc_cell": false,
   "toc_position": {},
   "toc_section_display": true,
   "toc_window_display": false
  }
 },
 "nbformat": 4,
 "nbformat_minor": 4
}
