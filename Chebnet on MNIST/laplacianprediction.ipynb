{
 "cells": [
  {
   "cell_type": "markdown",
   "metadata": {},
   "source": [
    "# Changing laplacians"
   ]
  },
  {
   "cell_type": "code",
   "execution_count": 1,
   "metadata": {},
   "outputs": [],
   "source": [
    "import os\n",
    "import sys\n",
    "#import time\n",
    "import numpy as np\n",
    "\n",
    "# -------------Torch-------------------\n",
    "import torch\n",
    "from torch.utils.data import DataLoader\n",
    "\n",
    "# -------------Graph-------------------\n",
    "import dgl\n",
    "import networkx as nx\n",
    "import matplotlib.pyplot as plt\n",
    "\n",
    "from utils import set_device\n",
    "from laplacian import normalized_laplacian\n",
    "\n",
    "sys.path.insert(0, \"lib/\")\n",
    "%load_ext autoreload\n",
    "%autoreload 2"
   ]
  },
  {
   "cell_type": "markdown",
   "metadata": {},
   "source": [
    "# MNIST"
   ]
  },
  {
   "cell_type": "code",
   "execution_count": 2,
   "metadata": {},
   "outputs": [],
   "source": [
    "# Downloads the dataset if not found locally\n",
    "from Dataset import check_mnist_dataset_exists, datasampler, MNISTDataset\n",
    "_ = check_mnist_dataset_exists()\n",
    "\n",
    "train_data, train_labels, test_data, test_labels = datasampler(\n",
    "    nb_selected_train_data=640, nb_selected_test_data=512\n",
    ")\n",
    "\n",
    "testset = MNISTDataset(test_data, test_labels)"
   ]
  },
  {
   "cell_type": "markdown",
   "metadata": {},
   "source": [
    "## Convolution layer and classifier\n"
   ]
  },
  {
   "cell_type": "code",
   "execution_count": 3,
   "metadata": {},
   "outputs": [],
   "source": [
    "from model import Classifier, SanityCheck, SmallCheb\n",
    "\n",
    "def collate(samples):\n",
    "    # The input `samples` is a list of pairs\n",
    "    #  (graph, label, signal).\n",
    "    graphs, labels, signals = map(list, zip(*samples))\n",
    "    batched_graph = dgl.batch(graphs)\n",
    "    return batched_graph, torch.tensor(labels),  torch.stack(signals).view(-1)"
   ]
  },
  {
   "cell_type": "markdown",
   "metadata": {},
   "source": [
    "\n",
    "\n",
    "# Model definition for training"
   ]
  },
  {
   "cell_type": "code",
   "execution_count": 4,
   "metadata": {},
   "outputs": [
    {
     "name": "stdout",
     "output_type": "stream",
     "text": [
      "Classifier(\n",
      "  (layers): ModuleList(\n",
      "    (0): Chebyconv(\n",
      "      (apply_mod): NodeApplyModule(\n",
      "        (linear): Linear(in_features=10, out_features=32, bias=True)\n",
      "      )\n",
      "    )\n",
      "    (1): Chebyconv(\n",
      "      (apply_mod): NodeApplyModule(\n",
      "        (linear): Linear(in_features=320, out_features=50, bias=True)\n",
      "      )\n",
      "    )\n",
      "  )\n",
      "  (classify): Sequential(\n",
      "    (0): Linear(in_features=39200, out_features=512, bias=True)\n",
      "    (1): ReLU(inplace=True)\n",
      "    (2): Dropout(p=0.5, inplace=False)\n",
      "    (3): Linear(in_features=512, out_features=10, bias=True)\n",
      "  )\n",
      ")\n"
     ]
    }
   ],
   "source": [
    "# model_parameters\n",
    "in_features = 1\n",
    "first_conv_out = 32\n",
    "second_conv_out = 50\n",
    "hidden_layer_classifier = 512\n",
    "k = 10\n",
    "n_classes = testset.num_classes\n",
    "\n",
    "net = Classifier(\n",
    "    in_features, first_conv_out, second_conv_out, hidden_layer_classifier, n_classes, k\n",
    ")\n",
    "\n",
    "print(net)\n",
    "if torch.cuda.is_available():\n",
    "    net.to(device)"
   ]
  },
  {
   "cell_type": "code",
   "execution_count": 5,
   "metadata": {},
   "outputs": [
    {
     "data": {
      "text/plain": [
       "<All keys matched successfully>"
      ]
     },
     "execution_count": 5,
     "metadata": {},
     "output_type": "execute_result"
    }
   ],
   "source": [
    "# LOAD MODEL\n",
    "\n",
    "from utils import load_model\n",
    "net.load_state_dict(load_model('Model_6000_20ep'))"
   ]
  },
  {
   "cell_type": "markdown",
   "metadata": {},
   "source": [
    "# Test"
   ]
  },
  {
   "cell_type": "code",
   "execution_count": 6,
   "metadata": {},
   "outputs": [],
   "source": [
    "import sklearn\n",
    "from sklearn.metrics import classification_report\n",
    "\n",
    "\n",
    "def test_func(data_loader):\n",
    "    net.eval()\n",
    "    probs_Y = torch.Tensor()\n",
    "    test_Y = torch.Tensor().int()\n",
    "    for iter, (bg, label, signal) in enumerate(data_loader):\n",
    "        if iter == 0:\n",
    "            L = normalized_laplacian(bg)\n",
    "        probs_Y = torch.cat((probs_Y, torch.softmax(net(bg, signal, L), 1)), 0)\n",
    "        test_Y = torch.cat((test_Y, label.int()),0)\n",
    "\n",
    "    sampled_Y = torch.multinomial(probs_Y, 1)\n",
    "    argmax_Y = torch.max(probs_Y, 1)[1].view(-1, 1)\n",
    "    return sklearn.metrics.classification_report(test_Y, argmax_Y, digits=4)"
   ]
  },
  {
   "cell_type": "markdown",
   "metadata": {},
   "source": [
    "## Original lattice"
   ]
  },
  {
   "cell_type": "code",
   "execution_count": 28,
   "metadata": {},
   "outputs": [
    {
     "name": "stderr",
     "output_type": "stream",
     "text": [
      "/Users/axel/miniconda3/envs/DGL/lib/python3.7/site-packages/networkx/drawing/nx_pylab.py:579: MatplotlibDeprecationWarning: \n",
      "The iterable function was deprecated in Matplotlib 3.1 and will be removed in 3.3. Use np.iterable instead.\n",
      "  if not cb.iterable(width):\n"
     ]
    },
    {
     "data": {
      "image/png": "[encoded data removed]",
      "text/plain": [
       "<Figure size 432x288 with 1 Axes>"
      ]
     },
     "metadata": {},
     "output_type": "display_data"
    }
   ],
   "source": [
    "from graphs import regular_2D_lattice\n",
    "\n",
    "g = regular_2D_lattice(5)\n",
    "pos=nx.spring_layout(g.to_networkx().to_undirected())\n",
    "nx.draw(g.to_networkx().to_undirected(),pos)"
   ]
  },
  {
   "cell_type": "code",
   "execution_count": 29,
   "metadata": {},
   "outputs": [
    {
     "data": {
      "image/png": "[encoded data removed]",
      "text/plain": [
       "<Figure size 432x288 with 2 Axes>"
      ]
     },
     "metadata": {
      "needs_background": "light"
     },
     "output_type": "display_data"
    }
   ],
   "source": [
    "from ninja import Gspyplot, GeigplotH, GeigplotL\n",
    "\n",
    "L = Gspyplot(g)"
   ]
  },
  {
   "cell_type": "code",
   "execution_count": 30,
   "metadata": {},
   "outputs": [
    {
     "data": {
      "text/plain": [
       "tensor([[ 2.2204e-16, -4.0825e-01,  0.0000e+00,  0.0000e+00,  0.0000e+00,\n",
       "         -4.0825e-01,  0.0000e+00,  0.0000e+00,  0.0000e+00,  0.0000e+00,\n",
       "          0.0000e+00,  0.0000e+00,  0.0000e+00,  0.0000e+00,  0.0000e+00,\n",
       "          0.0000e+00,  0.0000e+00,  0.0000e+00,  0.0000e+00,  0.0000e+00,\n",
       "          0.0000e+00,  0.0000e+00,  0.0000e+00,  0.0000e+00,  0.0000e+00],\n",
       "        [-4.0825e-01,  2.2204e-16, -3.3333e-01,  0.0000e+00,  0.0000e+00,\n",
       "          0.0000e+00, -2.8868e-01,  0.0000e+00,  0.0000e+00,  0.0000e+00,\n",
       "          0.0000e+00,  0.0000e+00,  0.0000e+00,  0.0000e+00,  0.0000e+00,\n",
       "          0.0000e+00,  0.0000e+00,  0.0000e+00,  0.0000e+00,  0.0000e+00,\n",
       "          0.0000e+00,  0.0000e+00,  0.0000e+00,  0.0000e+00,  0.0000e+00],\n",
       "        [ 0.0000e+00, -3.3333e-01,  2.2204e-16, -3.3333e-01,  0.0000e+00,\n",
       "          0.0000e+00,  0.0000e+00, -2.8868e-01,  0.0000e+00,  0.0000e+00,\n",
       "          0.0000e+00,  0.0000e+00,  0.0000e+00,  0.0000e+00,  0.0000e+00,\n",
       "          0.0000e+00,  0.0000e+00,  0.0000e+00,  0.0000e+00,  0.0000e+00,\n",
       "          0.0000e+00,  0.0000e+00,  0.0000e+00,  0.0000e+00,  0.0000e+00],\n",
       "        [ 0.0000e+00,  0.0000e+00, -3.3333e-01,  2.2204e-16, -4.0825e-01,\n",
       "          0.0000e+00,  0.0000e+00,  0.0000e+00, -2.8868e-01,  0.0000e+00,\n",
       "          0.0000e+00,  0.0000e+00,  0.0000e+00,  0.0000e+00,  0.0000e+00,\n",
       "          0.0000e+00,  0.0000e+00,  0.0000e+00,  0.0000e+00,  0.0000e+00,\n",
       "          0.0000e+00,  0.0000e+00,  0.0000e+00,  0.0000e+00,  0.0000e+00],\n",
       "        [ 0.0000e+00,  0.0000e+00,  0.0000e+00, -4.0825e-01,  2.2204e-16,\n",
       "          0.0000e+00,  0.0000e+00,  0.0000e+00,  0.0000e+00, -4.0825e-01,\n",
       "          0.0000e+00,  0.0000e+00,  0.0000e+00,  0.0000e+00,  0.0000e+00,\n",
       "          0.0000e+00,  0.0000e+00,  0.0000e+00,  0.0000e+00,  0.0000e+00,\n",
       "          0.0000e+00,  0.0000e+00,  0.0000e+00,  0.0000e+00,  0.0000e+00],\n",
       "        [-4.0825e-01,  0.0000e+00,  0.0000e+00,  0.0000e+00,  0.0000e+00,\n",
       "          2.2204e-16, -2.8868e-01,  0.0000e+00,  0.0000e+00,  0.0000e+00,\n",
       "         -3.3333e-01,  0.0000e+00,  0.0000e+00,  0.0000e+00,  0.0000e+00,\n",
       "          0.0000e+00,  0.0000e+00,  0.0000e+00,  0.0000e+00,  0.0000e+00,\n",
       "          0.0000e+00,  0.0000e+00,  0.0000e+00,  0.0000e+00,  0.0000e+00],\n",
       "        [ 0.0000e+00, -2.8868e-01,  0.0000e+00,  0.0000e+00,  0.0000e+00,\n",
       "         -2.8868e-01,  2.2204e-16, -2.5000e-01,  0.0000e+00,  0.0000e+00,\n",
       "          0.0000e+00, -2.5000e-01,  0.0000e+00,  0.0000e+00,  0.0000e+00,\n",
       "          0.0000e+00,  0.0000e+00,  0.0000e+00,  0.0000e+00,  0.0000e+00,\n",
       "          0.0000e+00,  0.0000e+00,  0.0000e+00,  0.0000e+00,  0.0000e+00],\n",
       "        [ 0.0000e+00,  0.0000e+00, -2.8868e-01,  0.0000e+00,  0.0000e+00,\n",
       "          0.0000e+00, -2.5000e-01,  2.2204e-16, -2.5000e-01,  0.0000e+00,\n",
       "          0.0000e+00,  0.0000e+00, -2.5000e-01,  0.0000e+00,  0.0000e+00,\n",
       "          0.0000e+00,  0.0000e+00,  0.0000e+00,  0.0000e+00,  0.0000e+00,\n",
       "          0.0000e+00,  0.0000e+00,  0.0000e+00,  0.0000e+00,  0.0000e+00],\n",
       "        [ 0.0000e+00,  0.0000e+00,  0.0000e+00, -2.8868e-01,  0.0000e+00,\n",
       "          0.0000e+00,  0.0000e+00, -2.5000e-01,  2.2204e-16, -2.8868e-01,\n",
       "          0.0000e+00,  0.0000e+00,  0.0000e+00, -2.5000e-01,  0.0000e+00,\n",
       "          0.0000e+00,  0.0000e+00,  0.0000e+00,  0.0000e+00,  0.0000e+00,\n",
       "          0.0000e+00,  0.0000e+00,  0.0000e+00,  0.0000e+00,  0.0000e+00],\n",
       "        [ 0.0000e+00,  0.0000e+00,  0.0000e+00,  0.0000e+00, -4.0825e-01,\n",
       "          0.0000e+00,  0.0000e+00,  0.0000e+00, -2.8868e-01,  2.2204e-16,\n",
       "          0.0000e+00,  0.0000e+00,  0.0000e+00,  0.0000e+00, -3.3333e-01,\n",
       "          0.0000e+00,  0.0000e+00,  0.0000e+00,  0.0000e+00,  0.0000e+00,\n",
       "          0.0000e+00,  0.0000e+00,  0.0000e+00,  0.0000e+00,  0.0000e+00],\n",
       "        [ 0.0000e+00,  0.0000e+00,  0.0000e+00,  0.0000e+00,  0.0000e+00,\n",
       "         -3.3333e-01,  0.0000e+00,  0.0000e+00,  0.0000e+00,  0.0000e+00,\n",
       "          2.2204e-16, -2.8868e-01,  0.0000e+00,  0.0000e+00,  0.0000e+00,\n",
       "         -3.3333e-01,  0.0000e+00,  0.0000e+00,  0.0000e+00,  0.0000e+00,\n",
       "          0.0000e+00,  0.0000e+00,  0.0000e+00,  0.0000e+00,  0.0000e+00],\n",
       "        [ 0.0000e+00,  0.0000e+00,  0.0000e+00,  0.0000e+00,  0.0000e+00,\n",
       "          0.0000e+00, -2.5000e-01,  0.0000e+00,  0.0000e+00,  0.0000e+00,\n",
       "         -2.8868e-01,  2.2204e-16, -2.5000e-01,  0.0000e+00,  0.0000e+00,\n",
       "          0.0000e+00, -2.5000e-01,  0.0000e+00,  0.0000e+00,  0.0000e+00,\n",
       "          0.0000e+00,  0.0000e+00,  0.0000e+00,  0.0000e+00,  0.0000e+00],\n",
       "        [ 0.0000e+00,  0.0000e+00,  0.0000e+00,  0.0000e+00,  0.0000e+00,\n",
       "          0.0000e+00,  0.0000e+00, -2.5000e-01,  0.0000e+00,  0.0000e+00,\n",
       "          0.0000e+00, -2.5000e-01,  2.2204e-16, -2.5000e-01,  0.0000e+00,\n",
       "          0.0000e+00,  0.0000e+00, -2.5000e-01,  0.0000e+00,  0.0000e+00,\n",
       "          0.0000e+00,  0.0000e+00,  0.0000e+00,  0.0000e+00,  0.0000e+00],\n",
       "        [ 0.0000e+00,  0.0000e+00,  0.0000e+00,  0.0000e+00,  0.0000e+00,\n",
       "          0.0000e+00,  0.0000e+00,  0.0000e+00, -2.5000e-01,  0.0000e+00,\n",
       "          0.0000e+00,  0.0000e+00, -2.5000e-01,  2.2204e-16, -2.8868e-01,\n",
       "          0.0000e+00,  0.0000e+00,  0.0000e+00, -2.5000e-01,  0.0000e+00,\n",
       "          0.0000e+00,  0.0000e+00,  0.0000e+00,  0.0000e+00,  0.0000e+00],\n",
       "        [ 0.0000e+00,  0.0000e+00,  0.0000e+00,  0.0000e+00,  0.0000e+00,\n",
       "          0.0000e+00,  0.0000e+00,  0.0000e+00,  0.0000e+00, -3.3333e-01,\n",
       "          0.0000e+00,  0.0000e+00,  0.0000e+00, -2.8868e-01,  2.2204e-16,\n",
       "          0.0000e+00,  0.0000e+00,  0.0000e+00,  0.0000e+00, -3.3333e-01,\n",
       "          0.0000e+00,  0.0000e+00,  0.0000e+00,  0.0000e+00,  0.0000e+00],\n",
       "        [ 0.0000e+00,  0.0000e+00,  0.0000e+00,  0.0000e+00,  0.0000e+00,\n",
       "          0.0000e+00,  0.0000e+00,  0.0000e+00,  0.0000e+00,  0.0000e+00,\n",
       "         -3.3333e-01,  0.0000e+00,  0.0000e+00,  0.0000e+00,  0.0000e+00,\n",
       "          2.2204e-16, -2.8868e-01,  0.0000e+00,  0.0000e+00,  0.0000e+00,\n",
       "         -4.0825e-01,  0.0000e+00,  0.0000e+00,  0.0000e+00,  0.0000e+00],\n",
       "        [ 0.0000e+00,  0.0000e+00,  0.0000e+00,  0.0000e+00,  0.0000e+00,\n",
       "          0.0000e+00,  0.0000e+00,  0.0000e+00,  0.0000e+00,  0.0000e+00,\n",
       "          0.0000e+00, -2.5000e-01,  0.0000e+00,  0.0000e+00,  0.0000e+00,\n",
       "         -2.8868e-01,  2.2204e-16, -2.5000e-01,  0.0000e+00,  0.0000e+00,\n",
       "          0.0000e+00, -2.8868e-01,  0.0000e+00,  0.0000e+00,  0.0000e+00],\n",
       "        [ 0.0000e+00,  0.0000e+00,  0.0000e+00,  0.0000e+00,  0.0000e+00,\n",
       "          0.0000e+00,  0.0000e+00,  0.0000e+00,  0.0000e+00,  0.0000e+00,\n",
       "          0.0000e+00,  0.0000e+00, -2.5000e-01,  0.0000e+00,  0.0000e+00,\n",
       "          0.0000e+00, -2.5000e-01,  2.2204e-16, -2.5000e-01,  0.0000e+00,\n",
       "          0.0000e+00,  0.0000e+00, -2.8868e-01,  0.0000e+00,  0.0000e+00],\n",
       "        [ 0.0000e+00,  0.0000e+00,  0.0000e+00,  0.0000e+00,  0.0000e+00,\n",
       "          0.0000e+00,  0.0000e+00,  0.0000e+00,  0.0000e+00,  0.0000e+00,\n",
       "          0.0000e+00,  0.0000e+00,  0.0000e+00, -2.5000e-01,  0.0000e+00,\n",
       "          0.0000e+00,  0.0000e+00, -2.5000e-01,  2.2204e-16, -2.8868e-01,\n",
       "          0.0000e+00,  0.0000e+00,  0.0000e+00, -2.8868e-01,  0.0000e+00],\n",
       "        [ 0.0000e+00,  0.0000e+00,  0.0000e+00,  0.0000e+00,  0.0000e+00,\n",
       "          0.0000e+00,  0.0000e+00,  0.0000e+00,  0.0000e+00,  0.0000e+00,\n",
       "          0.0000e+00,  0.0000e+00,  0.0000e+00,  0.0000e+00, -3.3333e-01,\n",
       "          0.0000e+00,  0.0000e+00,  0.0000e+00, -2.8868e-01,  2.2204e-16,\n",
       "          0.0000e+00,  0.0000e+00,  0.0000e+00,  0.0000e+00, -4.0825e-01],\n",
       "        [ 0.0000e+00,  0.0000e+00,  0.0000e+00,  0.0000e+00,  0.0000e+00,\n",
       "          0.0000e+00,  0.0000e+00,  0.0000e+00,  0.0000e+00,  0.0000e+00,\n",
       "          0.0000e+00,  0.0000e+00,  0.0000e+00,  0.0000e+00,  0.0000e+00,\n",
       "         -4.0825e-01,  0.0000e+00,  0.0000e+00,  0.0000e+00,  0.0000e+00,\n",
       "          2.2204e-16, -4.0825e-01,  0.0000e+00,  0.0000e+00,  0.0000e+00],\n",
       "        [ 0.0000e+00,  0.0000e+00,  0.0000e+00,  0.0000e+00,  0.0000e+00,\n",
       "          0.0000e+00,  0.0000e+00,  0.0000e+00,  0.0000e+00,  0.0000e+00,\n",
       "          0.0000e+00,  0.0000e+00,  0.0000e+00,  0.0000e+00,  0.0000e+00,\n",
       "          0.0000e+00, -2.8868e-01,  0.0000e+00,  0.0000e+00,  0.0000e+00,\n",
       "         -4.0825e-01,  2.2204e-16, -3.3333e-01,  0.0000e+00,  0.0000e+00],\n",
       "        [ 0.0000e+00,  0.0000e+00,  0.0000e+00,  0.0000e+00,  0.0000e+00,\n",
       "          0.0000e+00,  0.0000e+00,  0.0000e+00,  0.0000e+00,  0.0000e+00,\n",
       "          0.0000e+00,  0.0000e+00,  0.0000e+00,  0.0000e+00,  0.0000e+00,\n",
       "          0.0000e+00,  0.0000e+00, -2.8868e-01,  0.0000e+00,  0.0000e+00,\n",
       "          0.0000e+00, -3.3333e-01,  2.2204e-16, -3.3333e-01,  0.0000e+00],\n",
       "        [ 0.0000e+00,  0.0000e+00,  0.0000e+00,  0.0000e+00,  0.0000e+00,\n",
       "          0.0000e+00,  0.0000e+00,  0.0000e+00,  0.0000e+00,  0.0000e+00,\n",
       "          0.0000e+00,  0.0000e+00,  0.0000e+00,  0.0000e+00,  0.0000e+00,\n",
       "          0.0000e+00,  0.0000e+00,  0.0000e+00, -2.8868e-01,  0.0000e+00,\n",
       "          0.0000e+00,  0.0000e+00, -3.3333e-01,  2.2204e-16, -4.0825e-01],\n",
       "        [ 0.0000e+00,  0.0000e+00,  0.0000e+00,  0.0000e+00,  0.0000e+00,\n",
       "          0.0000e+00,  0.0000e+00,  0.0000e+00,  0.0000e+00,  0.0000e+00,\n",
       "          0.0000e+00,  0.0000e+00,  0.0000e+00,  0.0000e+00,  0.0000e+00,\n",
       "          0.0000e+00,  0.0000e+00,  0.0000e+00,  0.0000e+00, -4.0825e-01,\n",
       "          0.0000e+00,  0.0000e+00,  0.0000e+00, -4.0825e-01,  2.2204e-16]])"
      ]
     },
     "execution_count": 30,
     "metadata": {},
     "output_type": "execute_result"
    }
   ],
   "source": [
    "L.to_dense()"
   ]
  },
  {
   "cell_type": "code",
   "execution_count": 48,
   "metadata": {},
   "outputs": [
    {
     "name": "stdout",
     "output_type": "stream",
     "text": [
      "Largest eigenvalue: 2.0000000000000013\n",
      "Smallest eigenvalue: 2.220446049250313e-16\n"
     ]
    },
    {
     "data": {
      "image/png": "[encoded data removed]",
      "text/plain": [
       "<Figure size 432x288 with 1 Axes>"
      ]
     },
     "metadata": {
      "needs_background": "light"
     },
     "output_type": "display_data"
    }
   ],
   "source": [
    "GeigplotL(g)"
   ]
  },
  {
   "cell_type": "code",
   "execution_count": 10,
   "metadata": {},
   "outputs": [
    {
     "name": "stdout",
     "output_type": "stream",
     "text": [
      "              precision    recall  f1-score   support\n",
      "\n",
      "           0     0.9130    1.0000    0.9545        42\n",
      "           1     1.0000    1.0000    1.0000        69\n",
      "           2     0.9636    0.9464    0.9550        56\n",
      "           3     1.0000    0.9583    0.9787        48\n",
      "           4     0.9636    0.9464    0.9550        56\n",
      "           5     0.9800    0.9423    0.9608        52\n",
      "           6     0.9762    0.9318    0.9535        44\n",
      "           7     0.9608    0.9800    0.9703        50\n",
      "           8     0.8864    0.9750    0.9286        40\n",
      "           9     0.9630    0.9455    0.9541        55\n",
      "\n",
      "    accuracy                         0.9629       512\n",
      "   macro avg     0.9607    0.9626    0.9610       512\n",
      "weighted avg     0.9641    0.9629    0.9630       512\n",
      "\n"
     ]
    }
   ],
   "source": [
    "# Define a test function\n",
    "data_loader_test = DataLoader(testset, batch_size=256,\n",
    "                              shuffle=False, collate_fn=collate)\n",
    "print(test_func(data_loader_test))"
   ]
  },
  {
   "cell_type": "markdown",
   "metadata": {},
   "source": [
    "## Other lattice"
   ]
  },
  {
   "cell_type": "code",
   "execution_count": 32,
   "metadata": {},
   "outputs": [
    {
     "name": "stderr",
     "output_type": "stream",
     "text": [
      "/Users/axel/miniconda3/envs/DGL/lib/python3.7/site-packages/networkx/drawing/nx_pylab.py:579: MatplotlibDeprecationWarning: \n",
      "The iterable function was deprecated in Matplotlib 3.1 and will be removed in 3.3. Use np.iterable instead.\n",
      "  if not cb.iterable(width):\n"
     ]
    },
    {
     "data": {
      "image/png": "[encoded data removed]",
      "text/plain": [
       "<Figure size 432x288 with 1 Axes>"
      ]
     },
     "metadata": {},
     "output_type": "display_data"
    }
   ],
   "source": [
    "from graphs import regular_2D_lattice_8_neighbors\n",
    "\n",
    "g2 = regular_2D_lattice_8_neighbors(5)\n",
    "nx.draw(g2.to_networkx().to_undirected(),pos,node_color=np.array(g2.to_networkx().to_undirected().degree())[:,1],cmap=plt.cm.viridis)"
   ]
  },
  {
   "cell_type": "code",
   "execution_count": 33,
   "metadata": {},
   "outputs": [
    {
     "data": {
      "image/png": "[encoded data removed]",
      "text/plain": [
       "<Figure size 432x288 with 2 Axes>"
      ]
     },
     "metadata": {
      "needs_background": "light"
     },
     "output_type": "display_data"
    }
   ],
   "source": [
    "L2 = Gspyplot(g2)"
   ]
  },
  {
   "cell_type": "code",
   "execution_count": 34,
   "metadata": {},
   "outputs": [
    {
     "data": {
      "text/plain": [
       "tensor([[ 0.3461, -0.3476,  0.0000,  0.0000,  0.0000, -0.3476, -0.2748,  0.0000,\n",
       "          0.0000,  0.0000,  0.0000,  0.0000,  0.0000,  0.0000,  0.0000,  0.0000,\n",
       "          0.0000,  0.0000,  0.0000,  0.0000,  0.0000,  0.0000,  0.0000,  0.0000,\n",
       "          0.0000],\n",
       "        [-0.3476,  0.3461, -0.2692,  0.0000,  0.0000, -0.2692, -0.2128, -0.2128,\n",
       "          0.0000,  0.0000,  0.0000,  0.0000,  0.0000,  0.0000,  0.0000,  0.0000,\n",
       "          0.0000,  0.0000,  0.0000,  0.0000,  0.0000,  0.0000,  0.0000,  0.0000,\n",
       "          0.0000],\n",
       "        [ 0.0000, -0.2692,  0.3461, -0.2692,  0.0000,  0.0000, -0.2128, -0.2128,\n",
       "         -0.2128,  0.0000,  0.0000,  0.0000,  0.0000,  0.0000,  0.0000,  0.0000,\n",
       "          0.0000,  0.0000,  0.0000,  0.0000,  0.0000,  0.0000,  0.0000,  0.0000,\n",
       "          0.0000],\n",
       "        [ 0.0000,  0.0000, -0.2692,  0.3461, -0.3476,  0.0000,  0.0000, -0.2128,\n",
       "         -0.2128, -0.2692,  0.0000,  0.0000,  0.0000,  0.0000,  0.0000,  0.0000,\n",
       "          0.0000,  0.0000,  0.0000,  0.0000,  0.0000,  0.0000,  0.0000,  0.0000,\n",
       "          0.0000],\n",
       "        [ 0.0000,  0.0000,  0.0000, -0.3476,  0.3461,  0.0000,  0.0000,  0.0000,\n",
       "         -0.2748, -0.3476,  0.0000,  0.0000,  0.0000,  0.0000,  0.0000,  0.0000,\n",
       "          0.0000,  0.0000,  0.0000,  0.0000,  0.0000,  0.0000,  0.0000,  0.0000,\n",
       "          0.0000],\n",
       "        [-0.3476, -0.2692,  0.0000,  0.0000,  0.0000,  0.3461, -0.2128,  0.0000,\n",
       "          0.0000,  0.0000, -0.2692, -0.2128,  0.0000,  0.0000,  0.0000,  0.0000,\n",
       "          0.0000,  0.0000,  0.0000,  0.0000,  0.0000,  0.0000,  0.0000,  0.0000,\n",
       "          0.0000],\n",
       "        [-0.2748, -0.2128, -0.2128,  0.0000,  0.0000, -0.2128,  0.3461, -0.1683,\n",
       "          0.0000,  0.0000, -0.2128, -0.1683, -0.1683,  0.0000,  0.0000,  0.0000,\n",
       "          0.0000,  0.0000,  0.0000,  0.0000,  0.0000,  0.0000,  0.0000,  0.0000,\n",
       "          0.0000],\n",
       "        [ 0.0000, -0.2128, -0.2128, -0.2128,  0.0000,  0.0000, -0.1683,  0.3461,\n",
       "         -0.1683,  0.0000,  0.0000, -0.1683, -0.1683, -0.1683,  0.0000,  0.0000,\n",
       "          0.0000,  0.0000,  0.0000,  0.0000,  0.0000,  0.0000,  0.0000,  0.0000,\n",
       "          0.0000],\n",
       "        [ 0.0000,  0.0000, -0.2128, -0.2128, -0.2748,  0.0000,  0.0000, -0.1683,\n",
       "          0.3461, -0.2128,  0.0000,  0.0000, -0.1683, -0.1683, -0.2128,  0.0000,\n",
       "          0.0000,  0.0000,  0.0000,  0.0000,  0.0000,  0.0000,  0.0000,  0.0000,\n",
       "          0.0000],\n",
       "        [ 0.0000,  0.0000,  0.0000, -0.2692, -0.3476,  0.0000,  0.0000,  0.0000,\n",
       "         -0.2128,  0.3461,  0.0000,  0.0000,  0.0000, -0.2128, -0.2692,  0.0000,\n",
       "          0.0000,  0.0000,  0.0000,  0.0000,  0.0000,  0.0000,  0.0000,  0.0000,\n",
       "          0.0000],\n",
       "        [ 0.0000,  0.0000,  0.0000,  0.0000,  0.0000, -0.2692, -0.2128,  0.0000,\n",
       "          0.0000,  0.0000,  0.3461, -0.2128,  0.0000,  0.0000,  0.0000, -0.2692,\n",
       "         -0.2128,  0.0000,  0.0000,  0.0000,  0.0000,  0.0000,  0.0000,  0.0000,\n",
       "          0.0000],\n",
       "        [ 0.0000,  0.0000,  0.0000,  0.0000,  0.0000, -0.2128, -0.1683, -0.1683,\n",
       "          0.0000,  0.0000, -0.2128,  0.3461, -0.1683,  0.0000,  0.0000, -0.2128,\n",
       "         -0.1683, -0.1683,  0.0000,  0.0000,  0.0000,  0.0000,  0.0000,  0.0000,\n",
       "          0.0000],\n",
       "        [ 0.0000,  0.0000,  0.0000,  0.0000,  0.0000,  0.0000, -0.1683, -0.1683,\n",
       "         -0.1683,  0.0000,  0.0000, -0.1683,  0.3461, -0.1683,  0.0000,  0.0000,\n",
       "         -0.1683, -0.1683, -0.1683,  0.0000,  0.0000,  0.0000,  0.0000,  0.0000,\n",
       "          0.0000],\n",
       "        [ 0.0000,  0.0000,  0.0000,  0.0000,  0.0000,  0.0000,  0.0000, -0.1683,\n",
       "         -0.1683, -0.2128,  0.0000,  0.0000, -0.1683,  0.3461, -0.2128,  0.0000,\n",
       "          0.0000, -0.1683, -0.1683, -0.2128,  0.0000,  0.0000,  0.0000,  0.0000,\n",
       "          0.0000],\n",
       "        [ 0.0000,  0.0000,  0.0000,  0.0000,  0.0000,  0.0000,  0.0000,  0.0000,\n",
       "         -0.2128, -0.2692,  0.0000,  0.0000,  0.0000, -0.2128,  0.3461,  0.0000,\n",
       "          0.0000,  0.0000, -0.2128, -0.2692,  0.0000,  0.0000,  0.0000,  0.0000,\n",
       "          0.0000],\n",
       "        [ 0.0000,  0.0000,  0.0000,  0.0000,  0.0000,  0.0000,  0.0000,  0.0000,\n",
       "          0.0000,  0.0000, -0.2692, -0.2128,  0.0000,  0.0000,  0.0000,  0.3461,\n",
       "         -0.2128,  0.0000,  0.0000,  0.0000, -0.3476, -0.2692,  0.0000,  0.0000,\n",
       "          0.0000],\n",
       "        [ 0.0000,  0.0000,  0.0000,  0.0000,  0.0000,  0.0000,  0.0000,  0.0000,\n",
       "          0.0000,  0.0000, -0.2128, -0.1683, -0.1683,  0.0000,  0.0000, -0.2128,\n",
       "          0.3461, -0.1683,  0.0000,  0.0000, -0.2748, -0.2128, -0.2128,  0.0000,\n",
       "          0.0000],\n",
       "        [ 0.0000,  0.0000,  0.0000,  0.0000,  0.0000,  0.0000,  0.0000,  0.0000,\n",
       "          0.0000,  0.0000,  0.0000, -0.1683, -0.1683, -0.1683,  0.0000,  0.0000,\n",
       "         -0.1683,  0.3461, -0.1683,  0.0000,  0.0000, -0.2128, -0.2128, -0.2128,\n",
       "          0.0000],\n",
       "        [ 0.0000,  0.0000,  0.0000,  0.0000,  0.0000,  0.0000,  0.0000,  0.0000,\n",
       "          0.0000,  0.0000,  0.0000,  0.0000, -0.1683, -0.1683, -0.2128,  0.0000,\n",
       "          0.0000, -0.1683,  0.3461, -0.2128,  0.0000,  0.0000, -0.2128, -0.2128,\n",
       "         -0.2748],\n",
       "        [ 0.0000,  0.0000,  0.0000,  0.0000,  0.0000,  0.0000,  0.0000,  0.0000,\n",
       "          0.0000,  0.0000,  0.0000,  0.0000,  0.0000, -0.2128, -0.2692,  0.0000,\n",
       "          0.0000,  0.0000, -0.2128,  0.3461,  0.0000,  0.0000,  0.0000, -0.2692,\n",
       "         -0.3476],\n",
       "        [ 0.0000,  0.0000,  0.0000,  0.0000,  0.0000,  0.0000,  0.0000,  0.0000,\n",
       "          0.0000,  0.0000,  0.0000,  0.0000,  0.0000,  0.0000,  0.0000, -0.3476,\n",
       "         -0.2748,  0.0000,  0.0000,  0.0000,  0.3461, -0.3476,  0.0000,  0.0000,\n",
       "          0.0000],\n",
       "        [ 0.0000,  0.0000,  0.0000,  0.0000,  0.0000,  0.0000,  0.0000,  0.0000,\n",
       "          0.0000,  0.0000,  0.0000,  0.0000,  0.0000,  0.0000,  0.0000, -0.2692,\n",
       "         -0.2128, -0.2128,  0.0000,  0.0000, -0.3476,  0.3461, -0.2692,  0.0000,\n",
       "          0.0000],\n",
       "        [ 0.0000,  0.0000,  0.0000,  0.0000,  0.0000,  0.0000,  0.0000,  0.0000,\n",
       "          0.0000,  0.0000,  0.0000,  0.0000,  0.0000,  0.0000,  0.0000,  0.0000,\n",
       "         -0.2128, -0.2128, -0.2128,  0.0000,  0.0000, -0.2692,  0.3461, -0.2692,\n",
       "          0.0000],\n",
       "        [ 0.0000,  0.0000,  0.0000,  0.0000,  0.0000,  0.0000,  0.0000,  0.0000,\n",
       "          0.0000,  0.0000,  0.0000,  0.0000,  0.0000,  0.0000,  0.0000,  0.0000,\n",
       "          0.0000, -0.2128, -0.2128, -0.2692,  0.0000,  0.0000, -0.2692,  0.3461,\n",
       "         -0.3476],\n",
       "        [ 0.0000,  0.0000,  0.0000,  0.0000,  0.0000,  0.0000,  0.0000,  0.0000,\n",
       "          0.0000,  0.0000,  0.0000,  0.0000,  0.0000,  0.0000,  0.0000,  0.0000,\n",
       "          0.0000,  0.0000, -0.2748, -0.3476,  0.0000,  0.0000,  0.0000, -0.3476,\n",
       "          0.3461]])"
      ]
     },
     "execution_count": 34,
     "metadata": {},
     "output_type": "execute_result"
    }
   ],
   "source": [
    "L2.to_dense()"
   ]
  },
  {
   "cell_type": "code",
   "execution_count": 35,
   "metadata": {},
   "outputs": [
    {
     "name": "stdout",
     "output_type": "stream",
     "text": [
      "Largest eigenvalue: 1.4858041353534703\n",
      "Smallest eigenvalue: 5.551115123125783e-17\n"
     ]
    },
    {
     "data": {
      "image/png": "[encoded data removed]",
      "text/plain": [
       "<Figure size 432x288 with 1 Axes>"
      ]
     },
     "metadata": {
      "needs_background": "light"
     },
     "output_type": "display_data"
    }
   ],
   "source": [
    "from ninja import GeigplotH\n",
    "GeigplotH(g2)"
   ]
  },
  {
   "cell_type": "code",
   "execution_count": 36,
   "metadata": {},
   "outputs": [
    {
     "name": "stdout",
     "output_type": "stream",
     "text": [
      "Norm 1 distance: tensor(28.2855) \n",
      "Norm 2 distance: tensor(2.5502)\n"
     ]
    },
    {
     "data": {
      "text/plain": [
       "<matplotlib.colorbar.Colorbar at 0xa30fd85d0>"
      ]
     },
     "execution_count": 36,
     "metadata": {},
     "output_type": "execute_result"
    },
    {
     "data": {
      "image/png": "[encoded data removed]",
      "text/plain": [
       "<Figure size 432x288 with 2 Axes>"
      ]
     },
     "metadata": {
      "needs_background": "light"
     },
     "output_type": "display_data"
    }
   ],
   "source": [
    "res = L2-L\n",
    "print('Norm 1 distance:', torch.norm(res, p=1),\n",
    "      '\\nNorm 2 distance:', torch.norm(res, p=2))\n",
    "plt.imshow(res.to_dense(),cmap='viridis')\n",
    "plt.colorbar()"
   ]
  },
  {
   "cell_type": "code",
   "execution_count": 37,
   "metadata": {},
   "outputs": [
    {
     "name": "stdout",
     "output_type": "stream",
     "text": [
      "              precision    recall  f1-score   support\n",
      "\n",
      "           0     0.8837    0.9048    0.8941        42\n",
      "           1     1.0000    0.7971    0.8871        69\n",
      "           2     0.9787    0.8214    0.8932        56\n",
      "           3     0.7321    0.8542    0.7885        48\n",
      "           4     0.8958    0.7679    0.8269        56\n",
      "           5     0.8250    0.6346    0.7174        52\n",
      "           6     0.9302    0.9091    0.9195        44\n",
      "           7     0.9091    0.2000    0.3279        50\n",
      "           8     0.5741    0.7750    0.6596        40\n",
      "           9     0.4522    0.9455    0.6118        55\n",
      "\n",
      "    accuracy                         0.7598       512\n",
      "   macro avg     0.8181    0.7609    0.7526       512\n",
      "weighted avg     0.8269    0.7598    0.7561       512\n",
      "\n"
     ]
    }
   ],
   "source": [
    "testset_2 = MNISTDataset(test_data, test_labels, lattice_type=1)\n",
    "\n",
    "# Define a test function\n",
    "data_loader_test = DataLoader(testset_2, batch_size=256,\n",
    "                              shuffle=False, collate_fn=collate)\n",
    "print(test_func(data_loader_test))"
   ]
  },
  {
   "cell_type": "markdown",
   "metadata": {},
   "source": [
    "## Random supression"
   ]
  },
  {
   "cell_type": "code",
   "execution_count": 38,
   "metadata": {},
   "outputs": [
    {
     "name": "stderr",
     "output_type": "stream",
     "text": [
      "/Users/axel/miniconda3/envs/DGL/lib/python3.7/site-packages/networkx/drawing/nx_pylab.py:579: MatplotlibDeprecationWarning: \n",
      "The iterable function was deprecated in Matplotlib 3.1 and will be removed in 3.3. Use np.iterable instead.\n",
      "  if not cb.iterable(width):\n"
     ]
    },
    {
     "data": {
      "image/png": "[encoded data removed]",
      "text/plain": [
       "<Figure size 432x288 with 1 Axes>"
      ]
     },
     "metadata": {},
     "output_type": "display_data"
    }
   ],
   "source": [
    "from graphs import random_edge_suppression\n",
    "\n",
    "g3 = random_edge_suppression(5,5)\n",
    "nx.draw(g3.to_networkx().to_undirected(), pos, node_color=np.array(\n",
    "    g3.to_networkx().to_undirected().degree())[:, 1], cmap=plt.cm.viridis)"
   ]
  },
  {
   "cell_type": "code",
   "execution_count": 39,
   "metadata": {},
   "outputs": [
    {
     "data": {
      "image/png": "[encoded data removed]",
      "text/plain": [
       "<Figure size 432x288 with 2 Axes>"
      ]
     },
     "metadata": {
      "needs_background": "light"
     },
     "output_type": "display_data"
    }
   ],
   "source": [
    "L3 = Gspyplot(g3)"
   ]
  },
  {
   "cell_type": "code",
   "execution_count": 40,
   "metadata": {},
   "outputs": [
    {
     "data": {
      "text/plain": [
       "tensor([[-2.2204e-15, -4.0825e-01,  0.0000e+00,  0.0000e+00,  0.0000e+00,\n",
       "         -5.0000e-01,  0.0000e+00,  0.0000e+00,  0.0000e+00,  0.0000e+00,\n",
       "          0.0000e+00,  0.0000e+00,  0.0000e+00,  0.0000e+00,  0.0000e+00,\n",
       "          0.0000e+00,  0.0000e+00,  0.0000e+00,  0.0000e+00,  0.0000e+00,\n",
       "          0.0000e+00,  0.0000e+00,  0.0000e+00,  0.0000e+00,  0.0000e+00],\n",
       "        [-4.0825e-01, -2.2204e-15, -3.3333e-01,  0.0000e+00,  0.0000e+00,\n",
       "          0.0000e+00, -3.3333e-01,  0.0000e+00,  0.0000e+00,  0.0000e+00,\n",
       "          0.0000e+00,  0.0000e+00,  0.0000e+00,  0.0000e+00,  0.0000e+00,\n",
       "          0.0000e+00,  0.0000e+00,  0.0000e+00,  0.0000e+00,  0.0000e+00,\n",
       "          0.0000e+00,  0.0000e+00,  0.0000e+00,  0.0000e+00,  0.0000e+00],\n",
       "        [ 0.0000e+00, -3.3333e-01, -2.2204e-15, -4.0825e-01,  0.0000e+00,\n",
       "          0.0000e+00,  0.0000e+00, -2.8868e-01,  0.0000e+00,  0.0000e+00,\n",
       "          0.0000e+00,  0.0000e+00,  0.0000e+00,  0.0000e+00,  0.0000e+00,\n",
       "          0.0000e+00,  0.0000e+00,  0.0000e+00,  0.0000e+00,  0.0000e+00,\n",
       "          0.0000e+00,  0.0000e+00,  0.0000e+00,  0.0000e+00,  0.0000e+00],\n",
       "        [ 0.0000e+00,  0.0000e+00, -4.0825e-01, -2.2204e-15,  0.0000e+00,\n",
       "          0.0000e+00,  0.0000e+00,  0.0000e+00, -3.5355e-01,  0.0000e+00,\n",
       "          0.0000e+00,  0.0000e+00,  0.0000e+00,  0.0000e+00,  0.0000e+00,\n",
       "          0.0000e+00,  0.0000e+00,  0.0000e+00,  0.0000e+00,  0.0000e+00,\n",
       "          0.0000e+00,  0.0000e+00,  0.0000e+00,  0.0000e+00,  0.0000e+00],\n",
       "        [ 0.0000e+00,  0.0000e+00,  0.0000e+00,  0.0000e+00, -2.2204e-15,\n",
       "          0.0000e+00,  0.0000e+00,  0.0000e+00,  0.0000e+00,  0.0000e+00,\n",
       "          0.0000e+00,  0.0000e+00,  0.0000e+00,  0.0000e+00,  0.0000e+00,\n",
       "          0.0000e+00,  0.0000e+00,  0.0000e+00,  0.0000e+00,  0.0000e+00,\n",
       "          0.0000e+00,  0.0000e+00,  0.0000e+00,  0.0000e+00,  0.0000e+00],\n",
       "        [-5.0000e-01,  0.0000e+00,  0.0000e+00,  0.0000e+00,  0.0000e+00,\n",
       "         -2.2204e-15,  0.0000e+00,  0.0000e+00,  0.0000e+00,  0.0000e+00,\n",
       "         -4.0825e-01,  0.0000e+00,  0.0000e+00,  0.0000e+00,  0.0000e+00,\n",
       "          0.0000e+00,  0.0000e+00,  0.0000e+00,  0.0000e+00,  0.0000e+00,\n",
       "          0.0000e+00,  0.0000e+00,  0.0000e+00,  0.0000e+00,  0.0000e+00],\n",
       "        [ 0.0000e+00, -3.3333e-01,  0.0000e+00,  0.0000e+00,  0.0000e+00,\n",
       "          0.0000e+00, -2.2204e-15, -2.8868e-01,  0.0000e+00,  0.0000e+00,\n",
       "          0.0000e+00, -2.8868e-01,  0.0000e+00,  0.0000e+00,  0.0000e+00,\n",
       "          0.0000e+00,  0.0000e+00,  0.0000e+00,  0.0000e+00,  0.0000e+00,\n",
       "          0.0000e+00,  0.0000e+00,  0.0000e+00,  0.0000e+00,  0.0000e+00],\n",
       "        [ 0.0000e+00,  0.0000e+00, -2.8868e-01,  0.0000e+00,  0.0000e+00,\n",
       "          0.0000e+00, -2.8868e-01, -2.2204e-15, -2.5000e-01,  0.0000e+00,\n",
       "          0.0000e+00,  0.0000e+00, -2.5000e-01,  0.0000e+00,  0.0000e+00,\n",
       "          0.0000e+00,  0.0000e+00,  0.0000e+00,  0.0000e+00,  0.0000e+00,\n",
       "          0.0000e+00,  0.0000e+00,  0.0000e+00,  0.0000e+00,  0.0000e+00],\n",
       "        [ 0.0000e+00,  0.0000e+00,  0.0000e+00, -3.5355e-01,  0.0000e+00,\n",
       "          0.0000e+00,  0.0000e+00, -2.5000e-01, -2.2204e-15, -3.5355e-01,\n",
       "          0.0000e+00,  0.0000e+00,  0.0000e+00, -2.5000e-01,  0.0000e+00,\n",
       "          0.0000e+00,  0.0000e+00,  0.0000e+00,  0.0000e+00,  0.0000e+00,\n",
       "          0.0000e+00,  0.0000e+00,  0.0000e+00,  0.0000e+00,  0.0000e+00],\n",
       "        [ 0.0000e+00,  0.0000e+00,  0.0000e+00,  0.0000e+00,  0.0000e+00,\n",
       "          0.0000e+00,  0.0000e+00,  0.0000e+00, -3.5355e-01, -2.2204e-15,\n",
       "          0.0000e+00,  0.0000e+00,  0.0000e+00,  0.0000e+00, -4.0825e-01,\n",
       "          0.0000e+00,  0.0000e+00,  0.0000e+00,  0.0000e+00,  0.0000e+00,\n",
       "          0.0000e+00,  0.0000e+00,  0.0000e+00,  0.0000e+00,  0.0000e+00],\n",
       "        [ 0.0000e+00,  0.0000e+00,  0.0000e+00,  0.0000e+00,  0.0000e+00,\n",
       "         -4.0825e-01,  0.0000e+00,  0.0000e+00,  0.0000e+00,  0.0000e+00,\n",
       "         -2.2204e-15, -2.8868e-01,  0.0000e+00,  0.0000e+00,  0.0000e+00,\n",
       "         -3.3333e-01,  0.0000e+00,  0.0000e+00,  0.0000e+00,  0.0000e+00,\n",
       "          0.0000e+00,  0.0000e+00,  0.0000e+00,  0.0000e+00,  0.0000e+00],\n",
       "        [ 0.0000e+00,  0.0000e+00,  0.0000e+00,  0.0000e+00,  0.0000e+00,\n",
       "          0.0000e+00, -2.8868e-01,  0.0000e+00,  0.0000e+00,  0.0000e+00,\n",
       "         -2.8868e-01, -2.2204e-15, -2.5000e-01,  0.0000e+00,  0.0000e+00,\n",
       "          0.0000e+00, -2.5000e-01,  0.0000e+00,  0.0000e+00,  0.0000e+00,\n",
       "          0.0000e+00,  0.0000e+00,  0.0000e+00,  0.0000e+00,  0.0000e+00],\n",
       "        [ 0.0000e+00,  0.0000e+00,  0.0000e+00,  0.0000e+00,  0.0000e+00,\n",
       "          0.0000e+00,  0.0000e+00, -2.5000e-01,  0.0000e+00,  0.0000e+00,\n",
       "          0.0000e+00, -2.5000e-01, -2.2204e-15, -2.5000e-01,  0.0000e+00,\n",
       "          0.0000e+00,  0.0000e+00, -2.5000e-01,  0.0000e+00,  0.0000e+00,\n",
       "          0.0000e+00,  0.0000e+00,  0.0000e+00,  0.0000e+00,  0.0000e+00],\n",
       "        [ 0.0000e+00,  0.0000e+00,  0.0000e+00,  0.0000e+00,  0.0000e+00,\n",
       "          0.0000e+00,  0.0000e+00,  0.0000e+00, -2.5000e-01,  0.0000e+00,\n",
       "          0.0000e+00,  0.0000e+00, -2.5000e-01, -2.2204e-15, -2.8868e-01,\n",
       "          0.0000e+00,  0.0000e+00,  0.0000e+00, -2.5000e-01,  0.0000e+00,\n",
       "          0.0000e+00,  0.0000e+00,  0.0000e+00,  0.0000e+00,  0.0000e+00],\n",
       "        [ 0.0000e+00,  0.0000e+00,  0.0000e+00,  0.0000e+00,  0.0000e+00,\n",
       "          0.0000e+00,  0.0000e+00,  0.0000e+00,  0.0000e+00, -4.0825e-01,\n",
       "          0.0000e+00,  0.0000e+00,  0.0000e+00, -2.8868e-01, -2.2204e-15,\n",
       "          0.0000e+00,  0.0000e+00,  0.0000e+00,  0.0000e+00, -3.3333e-01,\n",
       "          0.0000e+00,  0.0000e+00,  0.0000e+00,  0.0000e+00,  0.0000e+00],\n",
       "        [ 0.0000e+00,  0.0000e+00,  0.0000e+00,  0.0000e+00,  0.0000e+00,\n",
       "          0.0000e+00,  0.0000e+00,  0.0000e+00,  0.0000e+00,  0.0000e+00,\n",
       "         -3.3333e-01,  0.0000e+00,  0.0000e+00,  0.0000e+00,  0.0000e+00,\n",
       "         -2.2204e-15, -2.8868e-01,  0.0000e+00,  0.0000e+00,  0.0000e+00,\n",
       "         -5.7735e-01,  0.0000e+00,  0.0000e+00,  0.0000e+00,  0.0000e+00],\n",
       "        [ 0.0000e+00,  0.0000e+00,  0.0000e+00,  0.0000e+00,  0.0000e+00,\n",
       "          0.0000e+00,  0.0000e+00,  0.0000e+00,  0.0000e+00,  0.0000e+00,\n",
       "          0.0000e+00, -2.5000e-01,  0.0000e+00,  0.0000e+00,  0.0000e+00,\n",
       "         -2.8868e-01, -2.2204e-15, -2.5000e-01,  0.0000e+00,  0.0000e+00,\n",
       "          0.0000e+00, -3.5355e-01,  0.0000e+00,  0.0000e+00,  0.0000e+00],\n",
       "        [ 0.0000e+00,  0.0000e+00,  0.0000e+00,  0.0000e+00,  0.0000e+00,\n",
       "          0.0000e+00,  0.0000e+00,  0.0000e+00,  0.0000e+00,  0.0000e+00,\n",
       "          0.0000e+00,  0.0000e+00, -2.5000e-01,  0.0000e+00,  0.0000e+00,\n",
       "          0.0000e+00, -2.5000e-01, -2.2204e-15, -2.5000e-01,  0.0000e+00,\n",
       "          0.0000e+00,  0.0000e+00, -2.8868e-01,  0.0000e+00,  0.0000e+00],\n",
       "        [ 0.0000e+00,  0.0000e+00,  0.0000e+00,  0.0000e+00,  0.0000e+00,\n",
       "          0.0000e+00,  0.0000e+00,  0.0000e+00,  0.0000e+00,  0.0000e+00,\n",
       "          0.0000e+00,  0.0000e+00,  0.0000e+00, -2.5000e-01,  0.0000e+00,\n",
       "          0.0000e+00,  0.0000e+00, -2.5000e-01, -2.2204e-15, -2.8868e-01,\n",
       "          0.0000e+00,  0.0000e+00,  0.0000e+00, -3.5355e-01,  0.0000e+00],\n",
       "        [ 0.0000e+00,  0.0000e+00,  0.0000e+00,  0.0000e+00,  0.0000e+00,\n",
       "          0.0000e+00,  0.0000e+00,  0.0000e+00,  0.0000e+00,  0.0000e+00,\n",
       "          0.0000e+00,  0.0000e+00,  0.0000e+00,  0.0000e+00, -3.3333e-01,\n",
       "          0.0000e+00,  0.0000e+00,  0.0000e+00, -2.8868e-01, -2.2204e-15,\n",
       "          0.0000e+00,  0.0000e+00,  0.0000e+00,  0.0000e+00, -5.7735e-01],\n",
       "        [ 0.0000e+00,  0.0000e+00,  0.0000e+00,  0.0000e+00,  0.0000e+00,\n",
       "          0.0000e+00,  0.0000e+00,  0.0000e+00,  0.0000e+00,  0.0000e+00,\n",
       "          0.0000e+00,  0.0000e+00,  0.0000e+00,  0.0000e+00,  0.0000e+00,\n",
       "         -5.7735e-01,  0.0000e+00,  0.0000e+00,  0.0000e+00,  0.0000e+00,\n",
       "         -2.2204e-15,  0.0000e+00,  0.0000e+00,  0.0000e+00,  0.0000e+00],\n",
       "        [ 0.0000e+00,  0.0000e+00,  0.0000e+00,  0.0000e+00,  0.0000e+00,\n",
       "          0.0000e+00,  0.0000e+00,  0.0000e+00,  0.0000e+00,  0.0000e+00,\n",
       "          0.0000e+00,  0.0000e+00,  0.0000e+00,  0.0000e+00,  0.0000e+00,\n",
       "          0.0000e+00, -3.5355e-01,  0.0000e+00,  0.0000e+00,  0.0000e+00,\n",
       "          0.0000e+00, -2.2204e-15, -4.0825e-01,  0.0000e+00,  0.0000e+00],\n",
       "        [ 0.0000e+00,  0.0000e+00,  0.0000e+00,  0.0000e+00,  0.0000e+00,\n",
       "          0.0000e+00,  0.0000e+00,  0.0000e+00,  0.0000e+00,  0.0000e+00,\n",
       "          0.0000e+00,  0.0000e+00,  0.0000e+00,  0.0000e+00,  0.0000e+00,\n",
       "          0.0000e+00,  0.0000e+00, -2.8868e-01,  0.0000e+00,  0.0000e+00,\n",
       "          0.0000e+00, -4.0825e-01, -2.2204e-15, -4.0825e-01,  0.0000e+00],\n",
       "        [ 0.0000e+00,  0.0000e+00,  0.0000e+00,  0.0000e+00,  0.0000e+00,\n",
       "          0.0000e+00,  0.0000e+00,  0.0000e+00,  0.0000e+00,  0.0000e+00,\n",
       "          0.0000e+00,  0.0000e+00,  0.0000e+00,  0.0000e+00,  0.0000e+00,\n",
       "          0.0000e+00,  0.0000e+00,  0.0000e+00, -3.5355e-01,  0.0000e+00,\n",
       "          0.0000e+00,  0.0000e+00, -4.0825e-01, -2.2204e-15,  0.0000e+00],\n",
       "        [ 0.0000e+00,  0.0000e+00,  0.0000e+00,  0.0000e+00,  0.0000e+00,\n",
       "          0.0000e+00,  0.0000e+00,  0.0000e+00,  0.0000e+00,  0.0000e+00,\n",
       "          0.0000e+00,  0.0000e+00,  0.0000e+00,  0.0000e+00,  0.0000e+00,\n",
       "          0.0000e+00,  0.0000e+00,  0.0000e+00,  0.0000e+00, -5.7735e-01,\n",
       "          0.0000e+00,  0.0000e+00,  0.0000e+00,  0.0000e+00, -2.2204e-15]])"
      ]
     },
     "execution_count": 40,
     "metadata": {},
     "output_type": "execute_result"
    }
   ],
   "source": [
    "L3.to_dense()"
   ]
  },
  {
   "cell_type": "code",
   "execution_count": 41,
   "metadata": {},
   "outputs": [
    {
     "name": "stdout",
     "output_type": "stream",
     "text": [
      "Norm 1 distance: tensor(6.2154) \n",
      "Norm 2 distance: tensor(1.3157)\n"
     ]
    },
    {
     "data": {
      "text/plain": [
       "<matplotlib.colorbar.Colorbar at 0xa302ece10>"
      ]
     },
     "execution_count": 41,
     "metadata": {},
     "output_type": "execute_result"
    },
    {
     "data": {
      "image/png": "[encoded data removed]",
      "text/plain": [
       "<Figure size 432x288 with 2 Axes>"
      ]
     },
     "metadata": {
      "needs_background": "light"
     },
     "output_type": "display_data"
    }
   ],
   "source": [
    "res = L3-L\n",
    "print('Norm 1 distance:', torch.norm(res, p=1),\n",
    "      '\\nNorm 2 distance:', torch.norm(res, p=2))\n",
    "plt.imshow(res.to_dense(), cmap='viridis')\n",
    "plt.colorbar()"
   ]
  },
  {
   "cell_type": "code",
   "execution_count": 20,
   "metadata": {},
   "outputs": [
    {
     "name": "stdout",
     "output_type": "stream",
     "text": [
      "              precision    recall  f1-score   support\n",
      "\n",
      "           0     0.9111    0.9762    0.9425        42\n",
      "           1     1.0000    1.0000    1.0000        69\n",
      "           2     0.9636    0.9464    0.9550        56\n",
      "           3     1.0000    0.9375    0.9677        48\n",
      "           4     0.9643    0.9643    0.9643        56\n",
      "           5     0.9600    0.9231    0.9412        52\n",
      "           6     0.9767    0.9545    0.9655        44\n",
      "           7     0.9245    0.9800    0.9515        50\n",
      "           8     0.8837    0.9500    0.9157        40\n",
      "           9     0.9623    0.9273    0.9444        55\n",
      "\n",
      "    accuracy                         0.9570       512\n",
      "   macro avg     0.9546    0.9559    0.9548       512\n",
      "weighted avg     0.9583    0.9570    0.9572       512\n",
      "\n"
     ]
    }
   ],
   "source": [
    "testset_3 = MNISTDataset(test_data, test_labels, lattice_type=2)\n",
    "\n",
    "# Define a test function\n",
    "data_loader_test = DataLoader(testset_3, batch_size=256,\n",
    "                              shuffle=False, collate_fn=collate)\n",
    "print(test_func(data_loader_test))"
   ]
  },
  {
   "cell_type": "markdown",
   "metadata": {},
   "source": [
    "# Model trained on the 8 lattice"
   ]
  },
  {
   "cell_type": "code",
   "execution_count": 18,
   "metadata": {},
   "outputs": [
    {
     "name": "stdout",
     "output_type": "stream",
     "text": [
      "Classifier(\n",
      "  (layers): ModuleList(\n",
      "    (0): Chebyconv(\n",
      "      (apply_mod): NodeApplyModule(\n",
      "        (linear): Linear(in_features=10, out_features=32, bias=True)\n",
      "      )\n",
      "    )\n",
      "    (1): Chebyconv(\n",
      "      (apply_mod): NodeApplyModule(\n",
      "        (linear): Linear(in_features=320, out_features=50, bias=True)\n",
      "      )\n",
      "    )\n",
      "  )\n",
      "  (classify): Sequential(\n",
      "    (0): Linear(in_features=39200, out_features=512, bias=True)\n",
      "    (1): ReLU(inplace=True)\n",
      "    (2): Dropout(p=0.5, inplace=False)\n",
      "    (3): Linear(in_features=512, out_features=10, bias=True)\n",
      "  )\n",
      ")\n"
     ]
    }
   ],
   "source": [
    "# model_parameters\n",
    "in_features = 1\n",
    "first_conv_out = 32\n",
    "second_conv_out = 50\n",
    "hidden_layer_classifier = 512\n",
    "k = 10\n",
    "n_classes = testset.num_classes\n",
    "\n",
    "net = Classifier(\n",
    "    in_features, first_conv_out, second_conv_out, hidden_layer_classifier, n_classes, k\n",
    ")\n",
    "\n",
    "print(net)\n",
    "if torch.cuda.is_available():\n",
    "    net.to(device)"
   ]
  },
  {
   "cell_type": "code",
   "execution_count": 19,
   "metadata": {},
   "outputs": [
    {
     "data": {
      "text/plain": [
       "<All keys matched successfully>"
      ]
     },
     "execution_count": 19,
     "metadata": {},
     "output_type": "execute_result"
    }
   ],
   "source": [
    "# LOAD MODEL trained on 8 neighbors\n",
    "\n",
    "from utils import load_model\n",
    "net.load_state_dict(load_model('Model_6000_20ep_8_lattice'))"
   ]
  },
  {
   "cell_type": "markdown",
   "metadata": {},
   "source": [
    "## Original lattice"
   ]
  },
  {
   "cell_type": "code",
   "execution_count": 20,
   "metadata": {},
   "outputs": [
    {
     "name": "stdout",
     "output_type": "stream",
     "text": [
      "              precision    recall  f1-score   support\n",
      "\n",
      "           0     0.9167    0.5238    0.6667        42\n",
      "           1     0.8961    1.0000    0.9452        69\n",
      "           2     0.6623    0.9107    0.7669        56\n",
      "           3     0.8636    0.3958    0.5429        48\n",
      "           4     0.9655    0.5000    0.6588        56\n",
      "           5     0.3770    0.8846    0.5287        52\n",
      "           6     0.9130    0.4773    0.6269        44\n",
      "           7     0.3643    0.9400    0.5251        50\n",
      "           8     1.0000    0.1000    0.1818        40\n",
      "           9     0.8000    0.0727    0.1333        55\n",
      "\n",
      "    accuracy                         0.6074       512\n",
      "   macro avg     0.7759    0.5805    0.5576       512\n",
      "weighted avg     0.7714    0.6074    0.5763       512\n",
      "\n"
     ]
    }
   ],
   "source": [
    "testset = MNISTDataset(test_data, test_labels, lattice_type=0)\n",
    "\n",
    "# Define a test function\n",
    "data_loader_test = DataLoader(testset, batch_size=256,\n",
    "                              shuffle=False, collate_fn=collate)\n",
    "print(test_func(data_loader_test))"
   ]
  },
  {
   "cell_type": "markdown",
   "metadata": {},
   "source": [
    "## 8 lattice"
   ]
  },
  {
   "cell_type": "code",
   "execution_count": 21,
   "metadata": {},
   "outputs": [
    {
     "name": "stdout",
     "output_type": "stream",
     "text": [
      "              precision    recall  f1-score   support\n",
      "\n",
      "           0     0.9130    1.0000    0.9545        42\n",
      "           1     1.0000    1.0000    1.0000        69\n",
      "           2     0.9818    0.9643    0.9730        56\n",
      "           3     0.9787    0.9583    0.9684        48\n",
      "           4     0.9474    0.9643    0.9558        56\n",
      "           5     0.9423    0.9423    0.9423        52\n",
      "           6     0.9762    0.9318    0.9535        44\n",
      "           7     0.9412    0.9600    0.9505        50\n",
      "           8     0.9512    0.9750    0.9630        40\n",
      "           9     0.9615    0.9091    0.9346        55\n",
      "\n",
      "    accuracy                         0.9609       512\n",
      "   macro avg     0.9593    0.9605    0.9596       512\n",
      "weighted avg     0.9615    0.9609    0.9609       512\n",
      "\n"
     ]
    }
   ],
   "source": [
    "testset_2 = MNISTDataset(test_data, test_labels, lattice_type=1)\n",
    "\n",
    "# Define a test function\n",
    "data_loader_test = DataLoader(testset_2, batch_size=256,\n",
    "                              shuffle=False, collate_fn=collate)\n",
    "print(test_func(data_loader_test))"
   ]
  },
  {
   "cell_type": "markdown",
   "metadata": {},
   "source": [
    "## Random suppresion"
   ]
  },
  {
   "cell_type": "code",
   "execution_count": 22,
   "metadata": {},
   "outputs": [
    {
     "name": "stdout",
     "output_type": "stream",
     "text": [
      "              precision    recall  f1-score   support\n",
      "\n",
      "           0     0.9130    0.5000    0.6462        42\n",
      "           1     0.8767    0.9275    0.9014        69\n",
      "           2     0.6250    0.8929    0.7353        56\n",
      "           3     0.8182    0.3750    0.5143        48\n",
      "           4     0.9643    0.4821    0.6429        56\n",
      "           5     0.3651    0.8846    0.5169        52\n",
      "           6     0.9444    0.3864    0.5484        44\n",
      "           7     0.3561    0.9400    0.5165        50\n",
      "           8     0.7500    0.0750    0.1364        40\n",
      "           9     0.8333    0.0909    0.1639        55\n",
      "\n",
      "    accuracy                         0.5820       512\n",
      "   macro avg     0.7446    0.5554    0.5322       512\n",
      "weighted avg     0.7447    0.5820    0.5518       512\n",
      "\n"
     ]
    }
   ],
   "source": [
    "testset_3 = MNISTDataset(test_data, test_labels, lattice_type=2)\n",
    "\n",
    "# Define a test function\n",
    "data_loader_test = DataLoader(testset_3, batch_size=256,\n",
    "                              shuffle=False, collate_fn=collate)\n",
    "print(test_func(data_loader_test))"
   ]
  },
  {
   "cell_type": "markdown",
   "metadata": {},
   "source": [
    "# Trying to know where the performance breaks down"
   ]
  },
  {
   "cell_type": "code",
   "execution_count": 23,
   "metadata": {},
   "outputs": [
    {
     "name": "stdout",
     "output_type": "stream",
     "text": [
      "Classifier(\n",
      "  (layers): ModuleList(\n",
      "    (0): Chebyconv(\n",
      "      (apply_mod): NodeApplyModule(\n",
      "        (linear): Linear(in_features=10, out_features=32, bias=True)\n",
      "      )\n",
      "    )\n",
      "    (1): Chebyconv(\n",
      "      (apply_mod): NodeApplyModule(\n",
      "        (linear): Linear(in_features=320, out_features=50, bias=True)\n",
      "      )\n",
      "    )\n",
      "  )\n",
      "  (classify): Sequential(\n",
      "    (0): Linear(in_features=39200, out_features=512, bias=True)\n",
      "    (1): ReLU(inplace=True)\n",
      "    (2): Dropout(p=0.5, inplace=False)\n",
      "    (3): Linear(in_features=512, out_features=10, bias=True)\n",
      "  )\n",
      ")\n"
     ]
    },
    {
     "data": {
      "text/plain": [
       "<All keys matched successfully>"
      ]
     },
     "execution_count": 23,
     "metadata": {},
     "output_type": "execute_result"
    }
   ],
   "source": [
    "# Using the 4-neighbors trained model\n",
    "\n",
    "# model_parameters\n",
    "in_features = 1\n",
    "first_conv_out = 32\n",
    "second_conv_out = 50\n",
    "hidden_layer_classifier = 512\n",
    "k = 10\n",
    "n_classes = testset.num_classes\n",
    "\n",
    "net = Classifier(\n",
    "    in_features, first_conv_out, second_conv_out, hidden_layer_classifier, n_classes, k\n",
    ")\n",
    "\n",
    "print(net)\n",
    "if torch.cuda.is_available():\n",
    "    net.to(device)\n",
    "    \n",
    "# LOAD MODEL\n",
    "\n",
    "from utils import load_model\n",
    "net.load_state_dict(load_model('Model_6000_20ep'))"
   ]
  },
  {
   "cell_type": "code",
   "execution_count": 25,
   "metadata": {},
   "outputs": [],
   "source": [
    "def test_func(data_loader):\n",
    "    net.eval()\n",
    "    probs_Y = torch.Tensor()\n",
    "    test_Y = torch.Tensor().int()\n",
    "    for iter, (bg, label, signal) in enumerate(data_loader):\n",
    "        if iter == 0:\n",
    "            L = normalized_laplacian(bg)\n",
    "        probs_Y = torch.cat((probs_Y, torch.softmax(net(bg, signal, L), 1)), 0)\n",
    "        test_Y = torch.cat((test_Y, label.int()),0)\n",
    "\n",
    "    sampled_Y = torch.multinomial(probs_Y, 1)\n",
    "    argmax_Y = torch.max(probs_Y, 1)[1].view(-1, 1)\n",
    "    return sklearn.metrics.classification_report(test_Y, argmax_Y, digits=4, output_dict=True)"
   ]
  },
  {
   "cell_type": "code",
   "execution_count": 26,
   "metadata": {},
   "outputs": [],
   "source": [
    "repz = []\n",
    "\n",
    "for i in range(0,800,50):\n",
    "    report = []\n",
    "    for j in range(4):\n",
    "        testset = MNISTDataset(test_data, test_labels, lattice_type=2, nb_removal=i)\n",
    "\n",
    "        # Define a test function\n",
    "        data_loader_test = DataLoader(testset, batch_size=256,\n",
    "                                      shuffle=False, collate_fn=collate)\n",
    "        \n",
    "        report.append(test_func(data_loader_test)['accuracy'])\n",
    "        \n",
    "    repz.append(report)"
   ]
  },
  {
   "cell_type": "code",
   "execution_count": 29,
   "metadata": {},
   "outputs": [
    {
     "name": "stdout",
     "output_type": "stream",
     "text": [
      "           0         1         2         3      mean       std\n",
      "0   0.962891  0.962891  0.962891  0.962891  0.962891  0.000000\n",
      "1   0.964844  0.962891  0.960938  0.955078  0.960938  0.003654\n",
      "2   0.962891  0.962891  0.957031  0.958984  0.960449  0.002537\n",
      "3   0.931641  0.962891  0.957031  0.939453  0.947754  0.012686\n",
      "4   0.923828  0.933594  0.943359  0.937500  0.934570  0.007109\n",
      "5   0.898438  0.906250  0.935547  0.873047  0.903320  0.022290\n",
      "6   0.908203  0.894531  0.861328  0.876953  0.885254  0.017707\n",
      "7   0.826172  0.869141  0.830078  0.847656  0.843262  0.016992\n",
      "8   0.863281  0.750000  0.746094  0.849609  0.802246  0.054432\n",
      "9   0.734375  0.759766  0.664062  0.771484  0.732422  0.041684\n",
      "10  0.642578  0.558594  0.732422  0.707031  0.660156  0.067163\n",
      "11  0.613281  0.662109  0.539062  0.703125  0.629395  0.061086\n",
      "12  0.626953  0.562500  0.597656  0.509766  0.574219  0.043651\n",
      "13  0.587891  0.417969  0.533203  0.455078  0.498535  0.066268\n",
      "14  0.365234  0.396484  0.453125  0.457031  0.417969  0.038744\n",
      "15  0.345703  0.416016  0.458984  0.343750  0.391113  0.048816\n"
     ]
    }
   ],
   "source": [
    "import pandas as pd\n",
    "df = pd.DataFrame(repz)\n",
    "\n",
    "df['mean'] = df.mean(1)\n",
    "df['std'] = df.std(1)\n",
    "print(df)"
   ]
  },
  {
   "cell_type": "code",
   "execution_count": 51,
   "metadata": {},
   "outputs": [
    {
     "data": {
      "text/plain": [
       "<matplotlib.collections.PolyCollection at 0xa2dbf4ad0>"
      ]
     },
     "execution_count": 51,
     "metadata": {},
     "output_type": "execute_result"
    },
    {
     "data": {
      "image/png": "[encoded data removed]",
      "text/plain": [
       "<Figure size 432x288 with 1 Axes>"
      ]
     },
     "metadata": {
      "needs_background": "light"
     },
     "output_type": "display_data"
    }
   ],
   "source": [
    "x = range(0,800,50)\n",
    "plt.plot(x, df['mean'], color='white')\n",
    "plt.fill_between(x, df['mean'] - df['std'],\n",
    "                 df['mean'] + df['std'], color=\"#3F5D7D\")\n",
    "plt.title('Accuracy over number of removed edges')"
   ]
  },
  {
   "cell_type": "code",
   "execution_count": 43,
   "metadata": {
    "scrolled": true
   },
   "outputs": [
    {
     "name": "stdout",
     "output_type": "stream",
     "text": [
      "the maximum removal rate is 24.8015873015873 % of all edges\n"
     ]
    }
   ],
   "source": [
    "print('the maximum removal rate is',750*100/3024,'% of all edges')"
   ]
  }
 ],
 "metadata": {
  "kernelspec": {
   "display_name": "Python 3",
   "language": "python",
   "name": "python3"
  },
  "language_info": {
   "codemirror_mode": {
    "name": "ipython",
    "version": 3
   },
   "file_extension": ".py",
   "mimetype": "text/x-python",
   "name": "python",
   "nbconvert_exporter": "python",
   "pygments_lexer": "ipython3",
   "version": "3.7.4"
  },
  "toc": {
   "base_numbering": 1,
   "nav_menu": {},
   "number_sections": true,
   "sideBar": true,
   "skip_h1_title": false,
   "title_cell": "Table of Contents",
   "title_sidebar": "Contents",
   "toc_cell": false,
   "toc_position": {},
   "toc_section_display": true,
   "toc_window_display": false
  }
 },
 "nbformat": 4,
 "nbformat_minor": 2
}
