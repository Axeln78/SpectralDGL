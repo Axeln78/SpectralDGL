{
 "cells": [
  {
   "cell_type": "markdown",
   "metadata": {},
   "source": [
    " # Laplacian learning notebook"
   ]
  },
  {
   "cell_type": "code",
   "execution_count": 1,
   "metadata": {},
   "outputs": [],
   "source": [
    "import os\n",
    "import sys\n",
    "import time\n",
    "import numpy as np\n",
    "\n",
    "# -------------Torch-------------------\n",
    "import torch\n",
    "from torch.utils.data import DataLoader\n",
    "from torch.autograd import Variable\n",
    "import torch.nn as nn\n",
    "import torch.nn.functional as F\n",
    "import torch.optim as optim\n",
    "\n",
    "# -------------Graph-------------------\n",
    "import dgl\n",
    "import networkx as nx\n",
    "import matplotlib.pyplot as plt\n",
    "\n",
    "from utils import set_device\n",
    "from laplacian import normalized_laplacian\n",
    "\n",
    "sys.path.insert(0, \"lib/\")\n",
    "%load_ext autoreload\n",
    "%autoreload 2"
   ]
  },
  {
   "cell_type": "markdown",
   "metadata": {},
   "source": [
    "# MNIST"
   ]
  },
  {
   "cell_type": "code",
   "execution_count": 2,
   "metadata": {},
   "outputs": [],
   "source": [
    "# Downloads the dataset if not found locally\n",
    "from Dataset import check_mnist_dataset_exists, datasampler, MNISTDataset\n",
    "_ = check_mnist_dataset_exists()\n",
    "\n",
    "train_data, train_labels, test_data, test_labels = datasampler(\n",
    "    nb_selected_train_data=64, nb_selected_test_data=512\n",
    ")\n",
    "\n",
    "#trainset_ref = MNISTDataset(train_data, train_labels)\n",
    "trainset_8 =  MNISTDataset(train_data, train_labels, lattice_type=1)\n",
    "#testset = MNISTDataset(test_data, test_labels)\n",
    "testset =  MNISTDataset(test_data, train_labels, lattice_type=1)"
   ]
  },
  {
   "cell_type": "markdown",
   "metadata": {},
   "source": [
    "# Model import"
   ]
  },
  {
   "cell_type": "code",
   "execution_count": 3,
   "metadata": {},
   "outputs": [],
   "source": [
    "from model import Classifier, SmallCheb\n",
    "\n",
    "from utils import collate"
   ]
  },
  {
   "cell_type": "code",
   "execution_count": 4,
   "metadata": {},
   "outputs": [
    {
     "data": {
      "text/plain": [
       "Classifier(\n",
       "  (layers): ModuleList(\n",
       "    (0): Chebyconv(\n",
       "      (apply_mod): NodeApplyModule(\n",
       "        (linear): Linear(in_features=10, out_features=32, bias=True)\n",
       "      )\n",
       "    )\n",
       "    (1): Chebyconv(\n",
       "      (apply_mod): NodeApplyModule(\n",
       "        (linear): Linear(in_features=320, out_features=50, bias=True)\n",
       "      )\n",
       "    )\n",
       "  )\n",
       "  (classify): Sequential(\n",
       "    (0): Linear(in_features=39200, out_features=512, bias=True)\n",
       "    (1): ReLU(inplace=True)\n",
       "    (2): Dropout(p=0.5, inplace=False)\n",
       "    (3): Linear(in_features=512, out_features=10, bias=True)\n",
       "  )\n",
       ")"
      ]
     },
     "execution_count": 4,
     "metadata": {},
     "output_type": "execute_result"
    }
   ],
   "source": [
    "# model_parameters\n",
    "in_features = 1\n",
    "first_conv_out = 32\n",
    "second_conv_out = 50\n",
    "hidden_layer_classifier = 512\n",
    "k = 10\n",
    "n_classes = testset.num_classes\n",
    "\n",
    "reference_net = Classifier(\n",
    "    in_features, first_conv_out, second_conv_out, hidden_layer_classifier, n_classes, k\n",
    ")\n",
    "\n",
    "# LOAD MODEL\n",
    "from utils import load_model\n",
    "reference_net.load_state_dict(load_model('Model_6000_20ep'))\n",
    "reference_net.eval()"
   ]
  },
  {
   "cell_type": "markdown",
   "metadata": {},
   "source": [
    "## Laplacian model def"
   ]
  },
  {
   "cell_type": "code",
   "execution_count": 5,
   "metadata": {},
   "outputs": [],
   "source": [
    "from utils import npsparse_to_torch\n",
    "\n",
    "\n",
    "class boostlaplace(nn.Module):\n",
    "    '''\n",
    "    One layer, one module, one parameter\n",
    "    '''\n",
    "\n",
    "    def __init__(self, in_dim, out_dim):\n",
    "        super(boostlaplace, self).__init__()\n",
    "        self.fc1 = nn.Linear(in_dim, out_dim, bias=False)\n",
    "        # Adding Bias is going to modify the whole laplacian and \n",
    "        # not the non-zero values. We can experiment with bias in a more \n",
    "        # complex version later.\n",
    "\n",
    "    def forward(self, L):\n",
    "        n, m = L.size()\n",
    "        L = self.fc1(L.to_dense().view(-1, 1))\n",
    "        #print('L2', L, L.size())\n",
    "        L = L.view(n, m)\n",
    "        #print('L3', L, L.size())\n",
    "        return L\n",
    "\n",
    "\n",
    "net = boostlaplace(1, 1)"
   ]
  },
  {
   "cell_type": "markdown",
   "metadata": {},
   "source": [
    "# Training time!"
   ]
  },
  {
   "cell_type": "code",
   "execution_count": 6,
   "metadata": {},
   "outputs": [],
   "source": [
    "# Use PyTorch's DataLoader and the collate function\n",
    "# defined before.\n",
    "b_size = 16\n",
    "data_loader = DataLoader(trainset_8, batch_size=b_size,\n",
    "                         shuffle=True, collate_fn=collate)\n",
    "\n",
    "# Distance loss\n",
    "#loss_func = nn.MSELoss()\n",
    "\n",
    "# Stochastic optimiser\n",
    "#optimizer = optim.SGD(net.parameters(), lr=0.005)\n",
    "\n",
    "loss_func = nn.CrossEntropyLoss()\n",
    "optimizer = optim.Adam(net.parameters(), lr=0.005)\n",
    "\n",
    "epoch_losses = []\n",
    "running_vals = []"
   ]
  },
  {
   "cell_type": "code",
   "execution_count": null,
   "metadata": {},
   "outputs": [
    {
     "name": "stdout",
     "output_type": "stream",
     "text": [
      "One Prediction:\n",
      " tensor([ 15.9075,  -1.7827,   3.6574,  17.3755, -29.2694,  22.5588,  21.7306,\n",
      "         -5.8322,  40.9078,  31.0212], grad_fn=<SelectBackward>) len: torch.Size([16, 10]) \n",
      " label: tensor(1)\n"
     ]
    }
   ],
   "source": [
    "from laplacian import normalized_laplacian\n",
    "\n",
    "for epoch in range(2):\n",
    "    epoch_loss = 0\n",
    "    t0 = time.time()\n",
    "    for iter, (bg, label, signal) in enumerate(data_loader):\n",
    "        if iter == 0:\n",
    "            #L = normalized_laplacian(bg)\n",
    "            L_8 = normalized_laplacian(bg)\n",
    "            L_8_variable = net(L_8)\n",
    "        \n",
    "        prediction = reference_net(bg, signal, L_8_variable)\n",
    "\n",
    "        if iter == 0:\n",
    "            #print(\"prediction time:\", time.time() - t)\n",
    "            t = time.time()\n",
    "            print(\"One Prediction:\\n\", prediction[0], 'len:',\n",
    "                  prediction.size(), '\\n label:', label[0])  # DEBUG\n",
    "            \n",
    "        loss = loss_func(prediction, label)\n",
    "        \n",
    "        optimizer.zero_grad()\n",
    "        loss.backward(retain_graph=True)\n",
    "        optimizer.step()\n",
    "\n",
    "        epoch_loss += loss.detach().item()\n",
    "\n",
    "    epoch_loss /= iter + 1\n",
    "    print(\"weight\",net.fc1.weight)\n",
    "    running_vals.append(net.fc1.weight)\n",
    "    print(\n",
    "        \"Epoch {}, loss {:.4f}, in {:.2f}(s) \".format(\n",
    "            epoch, epoch_loss, time.time() - t0\n",
    "        )\n",
    "    )\n",
    "    epoch_losses.append(epoch_loss)"
   ]
  },
  {
   "cell_type": "code",
   "execution_count": null,
   "metadata": {},
   "outputs": [],
   "source": [
    "plt.title(\"cross entropy averaged over minibatches\")\n",
    "plt.plot(epoch_losses)\n",
    "plt.show()"
   ]
  },
  {
   "cell_type": "code",
   "execution_count": null,
   "metadata": {},
   "outputs": [],
   "source": [
    "plt.imshow(L_8_variable.detach().numpy(),cmap='viridis')\n",
    "plt.colorbar()"
   ]
  },
  {
   "cell_type": "code",
   "execution_count": null,
   "metadata": {},
   "outputs": [],
   "source": [
    "net.fc1.weight"
   ]
  },
  {
   "cell_type": "markdown",
   "metadata": {},
   "source": [
    "# RE-build the classifier"
   ]
  },
  {
   "cell_type": "code",
   "execution_count": null,
   "metadata": {},
   "outputs": [],
   "source": [
    "# model_parameters\n",
    "loaded_net = Classifier(1, 32, 50, 512, testset.num_classes, 10)\n",
    "\n",
    "# LOAD MODEL\n",
    "from utils import load_model\n",
    "loaded_net.load_state_dict(load_model('Model_6000_20ep'))"
   ]
  },
  {
   "cell_type": "markdown",
   "metadata": {},
   "source": [
    "# Test\n"
   ]
  },
  {
   "cell_type": "code",
   "execution_count": null,
   "metadata": {},
   "outputs": [],
   "source": [
    "import sklearn\n",
    "from sklearn.metrics import classification_report\n",
    "\n",
    "def test_func(data_loader):\n",
    "    loaded_net.eval()\n",
    "    probs_Y = torch.Tensor()\n",
    "    test_Y = torch.Tensor().int()\n",
    "    for iter, (bg, label, signal) in enumerate(data_loader):\n",
    "        if iter == 0:\n",
    "            L = normalized_laplacian(bg)\n",
    "        probs_Y = torch.cat((probs_Y, torch.softmax(reference_net(bg, signal, L), 1)), 0)\n",
    "        test_Y = torch.cat((test_Y, label.int()),0)\n",
    "\n",
    "    sampled_Y = torch.multinomial(probs_Y, 1)\n",
    "    argmax_Y = torch.max(probs_Y, 1)[1].view(-1, 1)\n",
    "    return sklearn.metrics.classification_report(test_Y, argmax_Y, digits=4)\n",
    "\n",
    "data_loader_test = DataLoader(testset, batch_size=b_size,\n",
    "                         shuffle=False, collate_fn=collate)\n",
    "print(test_func(data_loader_test))"
   ]
  },
  {
   "cell_type": "code",
   "execution_count": null,
   "metadata": {},
   "outputs": [],
   "source": []
  }
 ],
 "metadata": {
  "kernelspec": {
   "display_name": "Python 3",
   "language": "python",
   "name": "python3"
  },
  "language_info": {
   "codemirror_mode": {
    "name": "ipython",
    "version": 3
   },
   "file_extension": ".py",
   "mimetype": "text/x-python",
   "name": "python",
   "nbconvert_exporter": "python",
   "pygments_lexer": "ipython3",
   "version": "3.7.4"
  },
  "toc": {
   "base_numbering": 1,
   "nav_menu": {},
   "number_sections": true,
   "sideBar": true,
   "skip_h1_title": false,
   "title_cell": "Table of Contents",
   "title_sidebar": "Contents",
   "toc_cell": false,
   "toc_position": {},
   "toc_section_display": true,
   "toc_window_display": false
  }
 },
 "nbformat": 4,
 "nbformat_minor": 2
}
