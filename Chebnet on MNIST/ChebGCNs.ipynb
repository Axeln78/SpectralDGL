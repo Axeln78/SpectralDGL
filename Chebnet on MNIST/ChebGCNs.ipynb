{
 "cells": [
  {
   "cell_type": "markdown",
   "metadata": {},
   "source": [
    "# ChebGCNs \n"
   ]
  },
  {
   "cell_type": "markdown",
   "metadata": {},
   "source": [
    "Spectral Graph ConvNets<br>\n",
    "Convolutional Neural Networks on Graphs with Fast Localized Spectral Filtering<br>\n",
    "M Defferrard, X Bresson, P Vandergheynst<br>\n",
    "Advances in Neural Information Processing Systems, 3844-3852, 2016<br>\n",
    "ArXiv preprint: [arXiv:1606.09375](https://arxiv.org/pdf/1606.09375.pdf) <br>\n",
    "\n",
    "DOC : https://docs.dgl.ai/en/latest/api/python/nn.pytorch.html?highlight=cheb#dgl.nn.pytorch.conv.ChebConv"
   ]
  },
  {
   "cell_type": "code",
   "execution_count": 23,
   "metadata": {},
   "outputs": [
    {
     "name": "stdout",
     "output_type": "stream",
     "text": [
      "The autoreload extension is already loaded. To reload it, use:\n",
      "  %reload_ext autoreload\n"
     ]
    }
   ],
   "source": [
    "import os\n",
    "import sys\n",
    "import time\n",
    "import numpy as np\n",
    "\n",
    "import torch\n",
    "from torch.autograd import Variable\n",
    "import torch.nn as nn\n",
    "import torch.nn.functional as F\n",
    "import torch.optim as optim\n",
    "from torch.utils.data import DataLoader\n",
    "\n",
    "import dgl\n",
    "import networkx as nx\n",
    "import matplotlib.pyplot as plt\n",
    "\n",
    "#import collections\n",
    "# MAC PROBLEM THAT MAKES THE NOTEBOOK Crash\n",
    "os.environ['KMP_DUPLICATE_LIB_OK']='True'\n",
    "\n",
    "\n",
    "sys.path.insert(0, 'lib/')\n",
    "%load_ext autoreload\n",
    "%autoreload 2"
   ]
  },
  {
   "cell_type": "code",
   "execution_count": 24,
   "metadata": {},
   "outputs": [
    {
     "name": "stdout",
     "output_type": "stream",
     "text": [
      "cuda not available\n"
     ]
    }
   ],
   "source": [
    "# GPU Compatibility\n",
    "os.environ[\"CUDA_DEVICE_ORDER\"] = \"PCI_BUS_ID\"\n",
    "os.environ[\"CUDA_VISIBLE_DEVICES\"] = \"2\"\n",
    "\n",
    "if torch.cuda.is_available():\n",
    "    print('cuda available')\n",
    "    dtypeFloat = torch.cuda.FloatTensor\n",
    "    dtypeLong = torch.cuda.LongTensor\n",
    "    torch.cuda.manual_seed(1)\n",
    "else:\n",
    "    print('cuda not available')\n",
    "    dtypeFloat = torch.FloatTensor\n",
    "    dtypeLong = torch.LongTensor\n",
    "    torch.manual_seed(1)"
   ]
  },
  {
   "cell_type": "markdown",
   "metadata": {},
   "source": [
    "# MNIST"
   ]
  },
  {
   "cell_type": "code",
   "execution_count": 25,
   "metadata": {},
   "outputs": [],
   "source": [
    "# Downloads the dataset if not found locally\n",
    "from utils import check_mnist_dataset_exists\n",
    "_ = check_mnist_dataset_exists()"
   ]
  },
  {
   "cell_type": "code",
   "execution_count": 3,
   "metadata": {},
   "outputs": [
    {
     "name": "stdout",
     "output_type": "stream",
     "text": [
      "torch.Size([500, 784]) <class 'torch.Tensor'>\n",
      "torch.Size([500])\n",
      "torch.Size([50, 784])\n",
      "torch.Size([50])\n"
     ]
    }
   ],
   "source": [
    "nb_selected_train_data = 500\n",
    "nb_selected_test_data = 100\n",
    "\n",
    "train_data = torch.load('mnist/train_data.pt').reshape(60000, 784)\n",
    "train_data = train_data[:nb_selected_train_data, :]\n",
    "print(train_data.shape, type(train_data))\n",
    "\n",
    "train_labels = torch.load('mnist/train_label.pt')\n",
    "train_labels = train_labels[:nb_selected_train_data]\n",
    "print(train_labels.shape)\n",
    "\n",
    "test_data = torch.load('mnist/test_data.pt').reshape(10000, 784)\n",
    "test_data = test_data[:nb_selected_test_data, :]\n",
    "print(test_data.shape)\n",
    "\n",
    "test_labels = torch.load('mnist/test_label.pt')\n",
    "test_labels = test_labels[:nb_selected_test_data]\n",
    "print(test_labels.shape)"
   ]
  },
  {
   "cell_type": "code",
   "execution_count": 4,
   "metadata": {},
   "outputs": [],
   "source": [
    "# Import the dataset from file\n",
    "from dataset import MNISTDataset"
   ]
  },
  {
   "cell_type": "code",
   "execution_count": 5,
   "metadata": {},
   "outputs": [],
   "source": [
    "trainset = MNISTDataset(train_data,train_labels)\n",
    "testset = MNISTDataset(test_data,test_labels)"
   ]
  },
  {
   "cell_type": "code",
   "execution_count": 6,
   "metadata": {},
   "outputs": [],
   "source": [
    "def showGraph(graph, label, signal = False):\n",
    "    '''\n",
    "    Function to visualise the signal of the handwritten digits over a lattice graph\n",
    "    '''\n",
    "    \n",
    "    if signal is False: signal = graph.ndata['h'] \n",
    "    nx_G = graph.to_networkx().to_undirected()\n",
    "\n",
    "    # Kamada-Kawaii layout\n",
    "    pos = nx.kamada_kawai_layout(nx_G)\n",
    "    nx.draw(nx_G, pos, with_labels=False,\n",
    "            cmap=plt.cm.Blues, node_color=signal)\n",
    "    plt.title('Class: {:d}'.format(label))\n",
    "    plt.figure(figsize=(10,3))\n",
    "    plt.show()"
   ]
  },
  {
   "cell_type": "code",
   "execution_count": 7,
   "metadata": {},
   "outputs": [
    {
     "name": "stderr",
     "output_type": "stream",
     "text": [
      "/Users/axel/miniconda3/envs/DGL/lib/python3.7/site-packages/networkx/drawing/nx_pylab.py:579: MatplotlibDeprecationWarning: \n",
      "The iterable function was deprecated in Matplotlib 3.1 and will be removed in 3.3. Use np.iterable instead.\n",
      "  if not cb.iterable(width):\n"
     ]
    },
    {
     "data": {
      "image/png": "[encoded data removed]",
      "text/plain": [
       "<Figure size 432x288 with 1 Axes>"
      ]
     },
     "metadata": {},
     "output_type": "display_data"
    },
    {
     "data": {
      "text/plain": [
       "<Figure size 720x216 with 0 Axes>"
      ]
     },
     "metadata": {},
     "output_type": "display_data"
    }
   ],
   "source": [
    "import random\n",
    "showGraph(*trainset[random.randrange(10)])"
   ]
  },
  {
   "cell_type": "markdown",
   "metadata": {},
   "source": [
    "# ChebNetDGL"
   ]
  },
  {
   "cell_type": "markdown",
   "metadata": {},
   "source": [
    "## Functions for Chebychev Polynoms"
   ]
  },
  {
   "cell_type": "code",
   "execution_count": 8,
   "metadata": {},
   "outputs": [],
   "source": [
    "# stolen code over here\n",
    "# class definitions\n",
    "class my_sparse_mm(torch.autograd.Function):\n",
    "    \"\"\"\n",
    "    Implementation of a new autograd function for sparse variables, \n",
    "    called \"my_sparse_mm\", by subclassing torch.autograd.Function \n",
    "    and implementing the forward and backward passes.\n",
    "    \"\"\"\n",
    "    \n",
    "    @staticmethod\n",
    "    def forward(self, W, x):  # W is SPARSE\n",
    "        self.save_for_backward(W, x)\n",
    "        y = torch.mm(W, x)\n",
    "        return y\n",
    "    \n",
    "    @staticmethod\n",
    "    def backward(self, grad_output):\n",
    "        W, x = self.saved_tensors \n",
    "        grad_input = grad_output.clone()\n",
    "        grad_input_dL_dW = torch.mm(grad_input, x.t()) \n",
    "        grad_input_dL_dx = torch.mm(W.t(), grad_input )\n",
    "        return grad_input_dL_dW, grad_input_dL_dx\n",
    "    "
   ]
  },
  {
   "cell_type": "code",
   "execution_count": 34,
   "metadata": {},
   "outputs": [
    {
     "name": "stderr",
     "output_type": "stream",
     "text": [
      "[autoreload of utils failed: Traceback (most recent call last):\n",
      "  File \"/Users/axel/miniconda3/envs/DGL/lib/python3.7/site-packages/IPython/extensions/autoreload.py\", line 245, in check\n",
      "    superreload(m, reload, self.old_objects)\n",
      "  File \"/Users/axel/miniconda3/envs/DGL/lib/python3.7/site-packages/IPython/extensions/autoreload.py\", line 394, in superreload\n",
      "    module = reload(module)\n",
      "  File \"/Users/axel/miniconda3/envs/DGL/lib/python3.7/imp.py\", line 314, in reload\n",
      "    return importlib.reload(module)\n",
      "  File \"/Users/axel/miniconda3/envs/DGL/lib/python3.7/importlib/__init__.py\", line 169, in reload\n",
      "    _bootstrap._exec(spec, module)\n",
      "  File \"<frozen importlib._bootstrap>\", line 630, in _exec\n",
      "  File \"<frozen importlib._bootstrap_external>\", line 724, in exec_module\n",
      "  File \"<frozen importlib._bootstrap_external>\", line 860, in get_code\n",
      "  File \"<frozen importlib._bootstrap_external>\", line 791, in source_to_code\n",
      "  File \"<frozen importlib._bootstrap>\", line 219, in _call_with_frames_removed\n",
      "  File \"/Users/axel/NTU/SpectralDGL/Chebnet on MNIST/utils.py\", line 19\n",
      "    download=True, transformtransforms.ToTensor())\n",
      "                  ^\n",
      "SyntaxError: positional argument follows keyword argument\n",
      "]\n"
     ]
    }
   ],
   "source": [
    "def rescale_L(L, lmax=2):\n",
    "    \"\"\"\n",
    "    Rescale the Laplacian eigenvalues in [-1,1]. \n",
    "    here implemented for torch\n",
    "    \"\"\"\n",
    "    M, M = L.shape\n",
    "    I = torch.eye(M)\n",
    "    L = torch.div(L, (lmax / 2))\n",
    "    L = L - I\n",
    "    return L\n",
    "\n",
    "\n",
    "def chebyshev(L, X, K):\n",
    "    \"\"\"Return T_k X where T_k are the Chebyshev polynomials of order up to K.\n",
    "    Complexity is O(KMN).\n",
    "    -  - - - - - - - - - \n",
    "    - Here implemented for torch\n",
    "    - Change to sparse torch?\n",
    "    - Rescaled L needed\n",
    "    - try no grad?\n",
    "    \"\"\"\n",
    "    M, N = X.shape\n",
    "    assert L.dtype == X.dtype\n",
    "    '''\n",
    "    # L = rescale_L(L, lmax)\n",
    "    # Xt = T @ X: MxM @ MxN.\n",
    "    # Xt_0 = T_0 X = I X = X.\n",
    "    # Xt_1 = T_1 X = L X.\n",
    "    # Xt_k = 2 L Xt_k-1 - Xt_k-2.\n",
    "\n",
    "    Xt = torch.empty((K, M, N), dtype=L.dtype)\n",
    "\n",
    "    Xt[0, :] = X\n",
    "    if K > 1:\n",
    "        Xt[1, ...] = torch.mm(L, X)t\n",
    "        #Xt[1, ...] = my_sparse_mm.apply(L, X)\n",
    "        for k in range(2, K):\n",
    "            var = 2 * torch.mm(L, Xt[k-1, :]) - Xt[k-2, :]\n",
    "            Xt[k, :] = var\n",
    "    return Xt\n",
    "\n",
    "    '''\n",
    "    x0 = X\n",
    "    x = x0.unsqueeze(0)\n",
    "    if K > 1:\n",
    "        x1 = torch.mm(L, x0)              # V x Fin*B\n",
    "        x = torch.cat((x, x1.unsqueeze(0)), 0)  # 2 x V x Fin*B\n",
    "    for k in range(2, K):\n",
    "        x2 = 2 * torch.mm(L, x1) - x0\n",
    "        x = torch.cat((x, x2.unsqueeze(0)), 0)  # M x Fin*B\n",
    "        x0, x1 = x1, x2\n",
    "    \n",
    "    return x"
   ]
  },
  {
   "cell_type": "code",
   "execution_count": 39,
   "metadata": {},
   "outputs": [],
   "source": [
    "def showChebFilters(graph, label, K):\n",
    "    '''\n",
    "    Function to visualise the signal of the handwritten digits over a lattice graph\n",
    "    '''\n",
    "    t = time.time()\n",
    "    nx_G = graph.to_networkx().to_undirected()\n",
    "    elapsed = time.time() - t\n",
    "    print('it takes', elapsed, ' to transfer the graph to nX')\n",
    "    t = time.time()\n",
    "    Xt = chebyshev(rescale_L(torch.from_numpy(nx.normalized_laplacian_matrix(\n",
    "        graph.to_networkx().to_undirected()).todense()).float()), graph.ndata['h'].view(-1, 1), K)\n",
    "    elapsed = time.time() - t\n",
    "    print('it takes', elapsed, ' to transfer the graph to calculate all Xts')\n",
    "    t = time.time()\n",
    "    # Kamada-Kawaii layout\n",
    "    pos = nx.kamada_kawai_layout(nx_G)\n",
    "    elapsed = time.time() - t\n",
    "    print('it takes', elapsed, ' to calculate the position of the nodes')\n",
    "\n",
    "    plt.suptitle('Class: {:d}'.format(label), fontsize=12)\n",
    "    plt.subplot(231)\n",
    "    plt.title('Chebynome order 0')\n",
    "    nx.draw(nx_G, pos, with_labels=False,\n",
    "            cmap=plt.cm.Blues, node_color=Xt[0].view(-1))\n",
    "\n",
    "    plt.subplot(232)\n",
    "    plt.title('Chebynome order 1')\n",
    "    nx.draw(nx_G, pos, with_labels=False,\n",
    "            cmap=plt.cm.Blues, node_color=Xt[1].view(-1))\n",
    "\n",
    "    plt.subplot(233)\n",
    "    plt.title('Chebynome order 2')\n",
    "    nx.draw(nx_G, pos, with_labels=False,\n",
    "            cmap=plt.cm.Blues, node_color=Xt[2].view(-1))\n",
    "\n",
    "    plt.subplot(234)\n",
    "    plt.title('Chebynome order 3')\n",
    "    nx.draw(nx_G, pos, with_labels=False,\n",
    "            cmap=plt.cm.Blues, node_color=Xt[3].view(-1))\n",
    "    plt.subplot(235)\n",
    "    plt.title('Chebynome order 4')\n",
    "    nx.draw(nx_G, pos, with_labels=False,\n",
    "            cmap=plt.cm.Blues, node_color=Xt[4].view(-1))\n",
    "    plt.subplot(236)\n",
    "    plt.title('Chebynome order 5')\n",
    "    nx.draw(nx_G, pos, with_labels=False,\n",
    "            cmap=plt.cm.Blues, node_color=Xt[5].view(-1))\n",
    "    plt.show()\n"
   ]
  },
  {
   "cell_type": "code",
   "execution_count": 40,
   "metadata": {},
   "outputs": [
    {
     "name": "stdout",
     "output_type": "stream",
     "text": [
      "it takes 0.02488112449645996  to transfer the graph to nX\n",
      "it takes 0.0408329963684082  to transfer the graph to calculate all Xts\n",
      "it takes 8.066170930862427  to calculate the position of the nodes\n"
     ]
    },
    {
     "name": "stderr",
     "output_type": "stream",
     "text": [
      "/Users/axel/miniconda3/envs/DGL/lib/python3.7/site-packages/networkx/drawing/nx_pylab.py:579: MatplotlibDeprecationWarning: \n",
      "The iterable function was deprecated in Matplotlib 3.1 and will be removed in 3.3. Use np.iterable instead.\n",
      "  if not cb.iterable(width):\n"
     ]
    },
    {
     "data": {
      "image/png": "[encoded data removed]",
      "text/plain": [
       "<Figure size 432x288 with 6 Axes>"
      ]
     },
     "metadata": {},
     "output_type": "display_data"
    }
   ],
   "source": [
    "gtest, ltest = trainset[random.randrange(20)]\n",
    "\n",
    "showChebFilters(gtest, ltest, K=6)"
   ]
  },
  {
   "cell_type": "markdown",
   "metadata": {},
   "source": [
    "# Model"
   ]
  },
  {
   "cell_type": "markdown",
   "metadata": {},
   "source": [
    "## Convolution layer\n",
    "Define a Convolution module that uses this"
   ]
  },
  {
   "cell_type": "code",
   "execution_count": 12,
   "metadata": {},
   "outputs": [],
   "source": [
    "import dgl.function as fn\n",
    "import torch\n",
    "import torch.nn as nn\n",
    "import torch.nn.functional as F\n",
    "\n",
    "\n",
    "# Sends a message of node feature h.\n",
    "msg = fn.copy_src(src='h', out='m')\n",
    "\n",
    "\n",
    "def reduce(nodes):\n",
    "    \"\"\"Take a sum over all neighbor node features hu and use it to\n",
    "    overwrite the original node feature.\"\"\"\n",
    "    accum = torch.sum(nodes.mailbox['m'], 1)\n",
    "    return {'h': accum}\n",
    "\n",
    "\n",
    "class NodeApplyModule(nn.Module):\n",
    "    \"\"\"Update the node feature hv with ReLU(Whv+b).\"\"\"\n",
    "\n",
    "    def __init__(self, in_feats, out_feats, activation, bias=True):\n",
    "        super(NodeApplyModule, self).__init__()\n",
    "        self.linear = nn.Linear(in_feats, out_feats, bias)\n",
    "        self.activation = activation\n",
    "\n",
    "    def forward(self, node):\n",
    "        h = self.linear(node.data['h'])\n",
    "        h = self.activation(h)\n",
    "        return {'h': h}\n",
    "\n",
    "\n",
    "class Chebyconv(nn.Module):\n",
    "    def __init__(self, in_feats, out_feats, k, bias=True):\n",
    "        super(Chebyconv, self).__init__()\n",
    "        # Parameters\n",
    "        self._in_feats = in_feats\n",
    "        self._out_feats = out_feats\n",
    "        self._k = k\n",
    "        self.L = None\n",
    "        # Convlayer\n",
    "        self.apply_mod = NodeApplyModule(\n",
    "            in_feats*k, out_feats, activation=F.relu)\n",
    "\n",
    "        ##\n",
    "        # NEED TO MAKE A PARAMETER INITIALIZER /!\\\n",
    "        ##\n",
    "\n",
    "    def forward(self, g, feature):\n",
    "        V, featmaps = feature.size()\n",
    "\n",
    "        # This line is way too long computationally! ----------------------\n",
    "        self.L = rescale_L(torch.from_numpy(nx.normalized_laplacian_matrix(\n",
    "            g.to_networkx().to_undirected()).todense()).float())\n",
    "\n",
    "        Xt = torch.Tensor([])\n",
    "        for fmap in range(featmaps):\n",
    "            Xt = torch.cat((Xt, chebyshev(\n",
    "                self.L, feature[:, fmap].view(-1, 1), self._k)), 0)\n",
    "        g.ndata['h'] = Xt.view(V, -1)\n",
    "         g.update_all(msg, reduce)\n",
    "        g.apply_nodes(func=self.apply_mod)\n",
    "        return g.ndata.pop('h')"
   ]
  },
  {
   "cell_type": "markdown",
   "metadata": {},
   "source": [
    "## Convolution layer and classifier\n"
   ]
  },
  {
   "cell_type": "code",
   "execution_count": 13,
   "metadata": {},
   "outputs": [],
   "source": [
    "import torch.nn.functional as F\n",
    "\n",
    "# NEED TO CODE A WEIGHT INITIALIZER\n",
    "\n",
    "class Classifier(nn.Module):\n",
    "    def __init__(self, in_dim, hidden_dim, n_classes):\n",
    "        super(Classifier, self).__init__()\n",
    "        self.layers = nn.ModuleList([\n",
    "            # HARD CODE THIS FOR THE MOMENT\n",
    "            Chebyconv(in_feats=1, out_feats=32, k=5),\n",
    "            Chebyconv(in_feats= 32, out_feats=hidden_dim, k=5)])\n",
    "\n",
    "        self.classify = nn.Sequential(\n",
    "            #nn.Linear(hidden_dim, 20),\n",
    "            #nn.ReLU(inplace=True),\n",
    "            #nn.Dropout(), ## Add dropout when there will be enough features\n",
    "            nn.Linear(hidden_dim, n_classes)\n",
    "        )\n",
    "\n",
    "    def forward(self, g):\n",
    "        h = g.ndata.pop('h').view(-1, 1)\n",
    "        # print('h,size',h,h.size())\n",
    "        for conv in self.layers:\n",
    "            h = conv(g, h)\n",
    "\n",
    "        g.ndata['h'] = h\n",
    "        # print('h2,size',h,h.size())\n",
    "        hg = dgl.mean_nodes(g, 'h')\n",
    "        # print('hg,size',hg,hg.size())\n",
    "        return self.classify(hg)"
   ]
  },
  {
   "cell_type": "code",
   "execution_count": 14,
   "metadata": {},
   "outputs": [],
   "source": [
    "def collate(samples):\n",
    "    # The input `samples` is a list of pairs\n",
    "    #  (graph, label).\n",
    "    graphs, labels = map(list, zip(*samples))\n",
    "    batched_graph = dgl.batch(graphs)\n",
    "    return batched_graph, torch.tensor(labels)"
   ]
  },
  {
   "cell_type": "markdown",
   "metadata": {},
   "source": [
    "# Debug section\n",
    "Verifying all of the steps"
   ]
  },
  {
   "cell_type": "code",
   "execution_count": 15,
   "metadata": {},
   "outputs": [],
   "source": [
    "g, l = trainset[0]\n",
    "L = rescale_L(torch.from_numpy(nx.normalized_laplacian_matrix(\n",
    "    g.to_networkx().to_undirected()).todense()).float())\n",
    "\n",
    "Xt = chebyshev(L, g.ndata['h'].view(-1, 1), 5)  # [k,v,1]"
   ]
  },
  {
   "cell_type": "raw",
   "metadata": {},
   "source": [
    "model = Chebyconv(1,32,25)\n",
    "print(model)\n",
    "res = model(g,g.ndata['h'].view(-1, 1))\n",
    "print(res,res.size())"
   ]
  },
  {
   "cell_type": "code",
   "execution_count": 39,
   "metadata": {},
   "outputs": [
    {
     "name": "stdout",
     "output_type": "stream",
     "text": [
      "-------------------- Network model --------------------\n",
      " Classifier(\n",
      "  (layers): ModuleList(\n",
      "    (0): Chebyconv(\n",
      "      (apply_mod): NodeApplyModule(\n",
      "        (linear): Linear(in_features=5, out_features=32, bias=True)\n",
      "      )\n",
      "    )\n",
      "    (1): Chebyconv(\n",
      "      (apply_mod): NodeApplyModule(\n",
      "        (linear): Linear(in_features=160, out_features=512, bias=True)\n",
      "      )\n",
      "    )\n",
      "  )\n",
      "  (classify): Sequential(\n",
      "    (0): Linear(in_features=512, out_features=10, bias=True)\n",
      "  )\n",
      ")\n",
      "\n",
      " --------------------  Output for graph g:  --------------------\n",
      " tensor([[ 0.1377,  0.0047, -0.1146, -0.0497,  0.0690, -0.0800, -0.0833,  0.0378,\n",
      "         -0.1155, -0.0772],\n",
      "        [ 0.1575,  0.0076, -0.1322, -0.0540,  0.0776, -0.0975, -0.0948,  0.0409,\n",
      "         -0.1326, -0.0761]], grad_fn=<AddmmBackward>)\n"
     ]
    }
   ],
   "source": [
    "g, l = collate((trainset[0], trainset[1]))\n",
    "net = Classifier(1, 512, trainset.num_classes)\n",
    "print(\"-------------------- Network model --------------------\\n\", net)\n",
    "print(\"\\n --------------------  Output for graph g:  --------------------\\n\", net(g))"
   ]
  },
  {
   "cell_type": "markdown",
   "metadata": {},
   "source": [
    "# Model definition for training"
   ]
  },
  {
   "cell_type": "code",
   "execution_count": 21,
   "metadata": {},
   "outputs": [
    {
     "name": "stdout",
     "output_type": "stream",
     "text": [
      "Classifier(\n",
      "  (layers): ModuleList(\n",
      "    (0): Chebyconv(\n",
      "      (apply_mod): NodeApplyModule(\n",
      "        (linear): Linear(in_features=5, out_features=32, bias=True)\n",
      "      )\n",
      "    )\n",
      "    (1): Chebyconv(\n",
      "      (apply_mod): NodeApplyModule(\n",
      "        (linear): Linear(in_features=160, out_features=52, bias=True)\n",
      "      )\n",
      "    )\n",
      "  )\n",
      "  (classify): Sequential(\n",
      "    (0): Linear(in_features=52, out_features=10, bias=True)\n",
      "  )\n",
      ")\n"
     ]
    }
   ],
   "source": [
    "net = Classifier(1, 52, trainset.num_classes)\n",
    "print(net)\n",
    "if torch.cuda.is_available():\n",
    "    net.cuda()"
   ]
  },
  {
   "cell_type": "raw",
   "metadata": {},
   "source": [
    "Reference : \n",
    "\n",
    "Graph ConvNet: LeNet5\n",
    "nb of parameters= 1663370 \n",
    "\n",
    "Graph_ConvNet_LeNet5(\n",
    "  (cl1): Linear(in_features=25, out_features=32, bias=True)\n",
    "  (cl2): Linear(in_features=800, out_features=64, bias=True)\n",
    "  (fc1): Linear(in_features=3136, out_features=512, bias=True)\n",
    "  (fc2): Linear(in_features=512, out_features=10, bias=True)\n",
    ")\n",
    "\n",
    "With original parameters: \n",
    "D = train_data.shape[1]\n",
    "CL1_F = 32\n",
    "CL1_K = 25\n",
    "CL2_F = 64\n",
    "CL2_K = 25\n",
    "FC1_F = 512\n",
    "FC2_F = 10\n",
    "net_parameters = [D, CL1_F, CL1_K, CL2_F, CL2_K, FC1_F, FC2_F]"
   ]
  },
  {
   "cell_type": "markdown",
   "metadata": {},
   "source": [
    "# Training pipe"
   ]
  },
  {
   "cell_type": "code",
   "execution_count": 17,
   "metadata": {},
   "outputs": [],
   "source": [
    "# Use PyTorch's DataLoader and the collate function\n",
    "# defined before.\n",
    "data_loader = DataLoader(trainset, batch_size=2,\n",
    "                         shuffle=True, collate_fn=collate)\n",
    "loss_func = nn.CrossEntropyLoss()\n",
    "optimizer = optim.Adam(net.parameters(), lr=0.001)"
   ]
  },
  {
   "cell_type": "markdown",
   "metadata": {},
   "source": [
    "## Training time"
   ]
  },
  {
   "cell_type": "code",
   "execution_count": 18,
   "metadata": {
    "scrolled": false
   },
   "outputs": [
    {
     "name": "stdout",
     "output_type": "stream",
     "text": [
      "Epoch 0, loss 2.3227, in 245.39(s) \n"
     ]
    },
    {
     "ename": "KeyboardInterrupt",
     "evalue": "",
     "output_type": "error",
     "traceback": [
      "\u001b[0;31m---------------------------------------------------------------------------\u001b[0m",
      "\u001b[0;31mKeyboardInterrupt\u001b[0m                         Traceback (most recent call last)",
      "\u001b[0;32m<ipython-input-18-9e3a4d5a3b41>\u001b[0m in \u001b[0;36m<module>\u001b[0;34m\u001b[0m\n\u001b[1;32m      6\u001b[0m     \u001b[0mt\u001b[0m \u001b[0;34m=\u001b[0m \u001b[0mtime\u001b[0m\u001b[0;34m.\u001b[0m\u001b[0mtime\u001b[0m\u001b[0;34m(\u001b[0m\u001b[0;34m)\u001b[0m\u001b[0;34m\u001b[0m\u001b[0;34m\u001b[0m\u001b[0m\n\u001b[1;32m      7\u001b[0m     \u001b[0;32mfor\u001b[0m \u001b[0miter\u001b[0m\u001b[0;34m,\u001b[0m \u001b[0;34m(\u001b[0m\u001b[0mbg\u001b[0m\u001b[0;34m,\u001b[0m \u001b[0mlabel\u001b[0m\u001b[0;34m)\u001b[0m \u001b[0;32min\u001b[0m \u001b[0menumerate\u001b[0m\u001b[0;34m(\u001b[0m\u001b[0mdata_loader\u001b[0m\u001b[0;34m)\u001b[0m\u001b[0;34m:\u001b[0m\u001b[0;34m\u001b[0m\u001b[0;34m\u001b[0m\u001b[0m\n\u001b[0;32m----> 8\u001b[0;31m         \u001b[0mprediction\u001b[0m \u001b[0;34m=\u001b[0m \u001b[0mnet\u001b[0m\u001b[0;34m(\u001b[0m\u001b[0mbg\u001b[0m\u001b[0;34m)\u001b[0m\u001b[0;34m\u001b[0m\u001b[0;34m\u001b[0m\u001b[0m\n\u001b[0m\u001b[1;32m      9\u001b[0m         \u001b[0;31m# print(\"Prediction:\", prediction,'len:',prediction.size())  #DEBUG\u001b[0m\u001b[0;34m\u001b[0m\u001b[0;34m\u001b[0m\u001b[0;34m\u001b[0m\u001b[0m\n\u001b[1;32m     10\u001b[0m         \u001b[0mloss\u001b[0m \u001b[0;34m=\u001b[0m \u001b[0mloss_func\u001b[0m\u001b[0;34m(\u001b[0m\u001b[0mprediction\u001b[0m\u001b[0;34m,\u001b[0m \u001b[0mlabel\u001b[0m\u001b[0;34m)\u001b[0m\u001b[0;34m\u001b[0m\u001b[0;34m\u001b[0m\u001b[0m\n",
      "\u001b[0;32m~/miniconda3/envs/DGL/lib/python3.7/site-packages/torch/nn/modules/module.py\u001b[0m in \u001b[0;36m__call__\u001b[0;34m(self, *input, **kwargs)\u001b[0m\n\u001b[1;32m    545\u001b[0m             \u001b[0mresult\u001b[0m \u001b[0;34m=\u001b[0m \u001b[0mself\u001b[0m\u001b[0;34m.\u001b[0m\u001b[0m_slow_forward\u001b[0m\u001b[0;34m(\u001b[0m\u001b[0;34m*\u001b[0m\u001b[0minput\u001b[0m\u001b[0;34m,\u001b[0m \u001b[0;34m**\u001b[0m\u001b[0mkwargs\u001b[0m\u001b[0;34m)\u001b[0m\u001b[0;34m\u001b[0m\u001b[0;34m\u001b[0m\u001b[0m\n\u001b[1;32m    546\u001b[0m         \u001b[0;32melse\u001b[0m\u001b[0;34m:\u001b[0m\u001b[0;34m\u001b[0m\u001b[0;34m\u001b[0m\u001b[0m\n\u001b[0;32m--> 547\u001b[0;31m             \u001b[0mresult\u001b[0m \u001b[0;34m=\u001b[0m \u001b[0mself\u001b[0m\u001b[0;34m.\u001b[0m\u001b[0mforward\u001b[0m\u001b[0;34m(\u001b[0m\u001b[0;34m*\u001b[0m\u001b[0minput\u001b[0m\u001b[0;34m,\u001b[0m \u001b[0;34m**\u001b[0m\u001b[0mkwargs\u001b[0m\u001b[0;34m)\u001b[0m\u001b[0;34m\u001b[0m\u001b[0;34m\u001b[0m\u001b[0m\n\u001b[0m\u001b[1;32m    548\u001b[0m         \u001b[0;32mfor\u001b[0m \u001b[0mhook\u001b[0m \u001b[0;32min\u001b[0m \u001b[0mself\u001b[0m\u001b[0;34m.\u001b[0m\u001b[0m_forward_hooks\u001b[0m\u001b[0;34m.\u001b[0m\u001b[0mvalues\u001b[0m\u001b[0;34m(\u001b[0m\u001b[0;34m)\u001b[0m\u001b[0;34m:\u001b[0m\u001b[0;34m\u001b[0m\u001b[0;34m\u001b[0m\u001b[0m\n\u001b[1;32m    549\u001b[0m             \u001b[0mhook_result\u001b[0m \u001b[0;34m=\u001b[0m \u001b[0mhook\u001b[0m\u001b[0;34m(\u001b[0m\u001b[0mself\u001b[0m\u001b[0;34m,\u001b[0m \u001b[0minput\u001b[0m\u001b[0;34m,\u001b[0m \u001b[0mresult\u001b[0m\u001b[0;34m)\u001b[0m\u001b[0;34m\u001b[0m\u001b[0;34m\u001b[0m\u001b[0m\n",
      "\u001b[0;32m<ipython-input-13-44d74eeb4dac>\u001b[0m in \u001b[0;36mforward\u001b[0;34m(self, g)\u001b[0m\n\u001b[1;32m     22\u001b[0m         \u001b[0;31m# print('h,size',h,h.size())\u001b[0m\u001b[0;34m\u001b[0m\u001b[0;34m\u001b[0m\u001b[0;34m\u001b[0m\u001b[0m\n\u001b[1;32m     23\u001b[0m         \u001b[0;32mfor\u001b[0m \u001b[0mconv\u001b[0m \u001b[0;32min\u001b[0m \u001b[0mself\u001b[0m\u001b[0;34m.\u001b[0m\u001b[0mlayers\u001b[0m\u001b[0;34m:\u001b[0m\u001b[0;34m\u001b[0m\u001b[0;34m\u001b[0m\u001b[0m\n\u001b[0;32m---> 24\u001b[0;31m             \u001b[0mh\u001b[0m \u001b[0;34m=\u001b[0m \u001b[0mconv\u001b[0m\u001b[0;34m(\u001b[0m\u001b[0mg\u001b[0m\u001b[0;34m,\u001b[0m \u001b[0mh\u001b[0m\u001b[0;34m)\u001b[0m\u001b[0;34m\u001b[0m\u001b[0;34m\u001b[0m\u001b[0m\n\u001b[0m\u001b[1;32m     25\u001b[0m \u001b[0;34m\u001b[0m\u001b[0m\n\u001b[1;32m     26\u001b[0m         \u001b[0mg\u001b[0m\u001b[0;34m.\u001b[0m\u001b[0mndata\u001b[0m\u001b[0;34m[\u001b[0m\u001b[0;34m'h'\u001b[0m\u001b[0;34m]\u001b[0m \u001b[0;34m=\u001b[0m \u001b[0mh\u001b[0m\u001b[0;34m\u001b[0m\u001b[0;34m\u001b[0m\u001b[0m\n",
      "\u001b[0;32m~/miniconda3/envs/DGL/lib/python3.7/site-packages/torch/nn/modules/module.py\u001b[0m in \u001b[0;36m__call__\u001b[0;34m(self, *input, **kwargs)\u001b[0m\n\u001b[1;32m    545\u001b[0m             \u001b[0mresult\u001b[0m \u001b[0;34m=\u001b[0m \u001b[0mself\u001b[0m\u001b[0;34m.\u001b[0m\u001b[0m_slow_forward\u001b[0m\u001b[0;34m(\u001b[0m\u001b[0;34m*\u001b[0m\u001b[0minput\u001b[0m\u001b[0;34m,\u001b[0m \u001b[0;34m**\u001b[0m\u001b[0mkwargs\u001b[0m\u001b[0;34m)\u001b[0m\u001b[0;34m\u001b[0m\u001b[0;34m\u001b[0m\u001b[0m\n\u001b[1;32m    546\u001b[0m         \u001b[0;32melse\u001b[0m\u001b[0;34m:\u001b[0m\u001b[0;34m\u001b[0m\u001b[0;34m\u001b[0m\u001b[0m\n\u001b[0;32m--> 547\u001b[0;31m             \u001b[0mresult\u001b[0m \u001b[0;34m=\u001b[0m \u001b[0mself\u001b[0m\u001b[0;34m.\u001b[0m\u001b[0mforward\u001b[0m\u001b[0;34m(\u001b[0m\u001b[0;34m*\u001b[0m\u001b[0minput\u001b[0m\u001b[0;34m,\u001b[0m \u001b[0;34m**\u001b[0m\u001b[0mkwargs\u001b[0m\u001b[0;34m)\u001b[0m\u001b[0;34m\u001b[0m\u001b[0;34m\u001b[0m\u001b[0m\n\u001b[0m\u001b[1;32m    548\u001b[0m         \u001b[0;32mfor\u001b[0m \u001b[0mhook\u001b[0m \u001b[0;32min\u001b[0m \u001b[0mself\u001b[0m\u001b[0;34m.\u001b[0m\u001b[0m_forward_hooks\u001b[0m\u001b[0;34m.\u001b[0m\u001b[0mvalues\u001b[0m\u001b[0;34m(\u001b[0m\u001b[0;34m)\u001b[0m\u001b[0;34m:\u001b[0m\u001b[0;34m\u001b[0m\u001b[0;34m\u001b[0m\u001b[0m\n\u001b[1;32m    549\u001b[0m             \u001b[0mhook_result\u001b[0m \u001b[0;34m=\u001b[0m \u001b[0mhook\u001b[0m\u001b[0;34m(\u001b[0m\u001b[0mself\u001b[0m\u001b[0;34m,\u001b[0m \u001b[0minput\u001b[0m\u001b[0;34m,\u001b[0m \u001b[0mresult\u001b[0m\u001b[0;34m)\u001b[0m\u001b[0;34m\u001b[0m\u001b[0;34m\u001b[0m\u001b[0m\n",
      "\u001b[0;32m<ipython-input-12-854bd0b97e50>\u001b[0m in \u001b[0;36mforward\u001b[0;34m(self, g, feature)\u001b[0m\n\u001b[1;32m     51\u001b[0m         \u001b[0;31m# This line is way too long computationally! ----------------------\u001b[0m\u001b[0;34m\u001b[0m\u001b[0;34m\u001b[0m\u001b[0;34m\u001b[0m\u001b[0m\n\u001b[1;32m     52\u001b[0m         self.L = rescale_L(torch.from_numpy(nx.normalized_laplacian_matrix(\n\u001b[0;32m---> 53\u001b[0;31m             g.to_networkx().to_undirected()).todense()).float())\n\u001b[0m\u001b[1;32m     54\u001b[0m \u001b[0;34m\u001b[0m\u001b[0m\n\u001b[1;32m     55\u001b[0m         \u001b[0mXt\u001b[0m \u001b[0;34m=\u001b[0m \u001b[0mtorch\u001b[0m\u001b[0;34m.\u001b[0m\u001b[0mTensor\u001b[0m\u001b[0;34m(\u001b[0m\u001b[0;34m[\u001b[0m\u001b[0;34m]\u001b[0m\u001b[0;34m)\u001b[0m\u001b[0;34m\u001b[0m\u001b[0;34m\u001b[0m\u001b[0m\n",
      "\u001b[0;32m</Users/axel/miniconda3/envs/DGL/lib/python3.7/site-packages/decorator.py:decorator-gen-761>\u001b[0m in \u001b[0;36mnormalized_laplacian_matrix\u001b[0;34m(G, nodelist, weight)\u001b[0m\n",
      "\u001b[0;32m~/miniconda3/envs/DGL/lib/python3.7/site-packages/networkx/utils/decorators.py\u001b[0m in \u001b[0;36m_not_implemented_for\u001b[0;34m(not_implement_for_func, *args, **kwargs)\u001b[0m\n\u001b[1;32m     80\u001b[0m             \u001b[0;32mraise\u001b[0m \u001b[0mnx\u001b[0m\u001b[0;34m.\u001b[0m\u001b[0mNetworkXNotImplemented\u001b[0m\u001b[0;34m(\u001b[0m\u001b[0mmsg\u001b[0m\u001b[0;34m)\u001b[0m\u001b[0;34m\u001b[0m\u001b[0;34m\u001b[0m\u001b[0m\n\u001b[1;32m     81\u001b[0m         \u001b[0;32melse\u001b[0m\u001b[0;34m:\u001b[0m\u001b[0;34m\u001b[0m\u001b[0;34m\u001b[0m\u001b[0m\n\u001b[0;32m---> 82\u001b[0;31m             \u001b[0;32mreturn\u001b[0m \u001b[0mnot_implement_for_func\u001b[0m\u001b[0;34m(\u001b[0m\u001b[0;34m*\u001b[0m\u001b[0margs\u001b[0m\u001b[0;34m,\u001b[0m \u001b[0;34m**\u001b[0m\u001b[0mkwargs\u001b[0m\u001b[0;34m)\u001b[0m\u001b[0;34m\u001b[0m\u001b[0;34m\u001b[0m\u001b[0m\n\u001b[0m\u001b[1;32m     83\u001b[0m     \u001b[0;32mreturn\u001b[0m \u001b[0m_not_implemented_for\u001b[0m\u001b[0;34m\u001b[0m\u001b[0;34m\u001b[0m\u001b[0m\n\u001b[1;32m     84\u001b[0m \u001b[0;34m\u001b[0m\u001b[0m\n",
      "\u001b[0;32m~/miniconda3/envs/DGL/lib/python3.7/site-packages/networkx/linalg/laplacianmatrix.py\u001b[0m in \u001b[0;36mnormalized_laplacian_matrix\u001b[0;34m(G, nodelist, weight)\u001b[0m\n\u001b[1;32m    120\u001b[0m         \u001b[0mnodelist\u001b[0m \u001b[0;34m=\u001b[0m \u001b[0mlist\u001b[0m\u001b[0;34m(\u001b[0m\u001b[0mG\u001b[0m\u001b[0;34m)\u001b[0m\u001b[0;34m\u001b[0m\u001b[0;34m\u001b[0m\u001b[0m\n\u001b[1;32m    121\u001b[0m     A = nx.to_scipy_sparse_matrix(G, nodelist=nodelist, weight=weight,\n\u001b[0;32m--> 122\u001b[0;31m                                   format='csr')\n\u001b[0m\u001b[1;32m    123\u001b[0m     \u001b[0mn\u001b[0m\u001b[0;34m,\u001b[0m \u001b[0mm\u001b[0m \u001b[0;34m=\u001b[0m \u001b[0mA\u001b[0m\u001b[0;34m.\u001b[0m\u001b[0mshape\u001b[0m\u001b[0;34m\u001b[0m\u001b[0;34m\u001b[0m\u001b[0m\n\u001b[1;32m    124\u001b[0m     \u001b[0mdiags\u001b[0m \u001b[0;34m=\u001b[0m \u001b[0mA\u001b[0m\u001b[0;34m.\u001b[0m\u001b[0msum\u001b[0m\u001b[0;34m(\u001b[0m\u001b[0maxis\u001b[0m\u001b[0;34m=\u001b[0m\u001b[0;36m1\u001b[0m\u001b[0;34m)\u001b[0m\u001b[0;34m.\u001b[0m\u001b[0mflatten\u001b[0m\u001b[0;34m(\u001b[0m\u001b[0;34m)\u001b[0m\u001b[0;34m\u001b[0m\u001b[0;34m\u001b[0m\u001b[0m\n",
      "\u001b[0;32m~/miniconda3/envs/DGL/lib/python3.7/site-packages/networkx/convert_matrix.py\u001b[0m in \u001b[0;36mto_scipy_sparse_matrix\u001b[0;34m(G, nodelist, dtype, weight, format)\u001b[0m\n\u001b[1;32m    767\u001b[0m     \u001b[0mindex\u001b[0m \u001b[0;34m=\u001b[0m \u001b[0mdict\u001b[0m\u001b[0;34m(\u001b[0m\u001b[0mzip\u001b[0m\u001b[0;34m(\u001b[0m\u001b[0mnodelist\u001b[0m\u001b[0;34m,\u001b[0m \u001b[0mrange\u001b[0m\u001b[0;34m(\u001b[0m\u001b[0mnlen\u001b[0m\u001b[0;34m)\u001b[0m\u001b[0;34m)\u001b[0m\u001b[0;34m)\u001b[0m\u001b[0;34m\u001b[0m\u001b[0;34m\u001b[0m\u001b[0m\n\u001b[1;32m    768\u001b[0m     coefficients = zip(*((index[u], index[v], d.get(weight, 1))\n\u001b[0;32m--> 769\u001b[0;31m                          \u001b[0;32mfor\u001b[0m \u001b[0mu\u001b[0m\u001b[0;34m,\u001b[0m \u001b[0mv\u001b[0m\u001b[0;34m,\u001b[0m \u001b[0md\u001b[0m \u001b[0;32min\u001b[0m \u001b[0mG\u001b[0m\u001b[0;34m.\u001b[0m\u001b[0medges\u001b[0m\u001b[0;34m(\u001b[0m\u001b[0mnodelist\u001b[0m\u001b[0;34m,\u001b[0m \u001b[0mdata\u001b[0m\u001b[0;34m=\u001b[0m\u001b[0;32mTrue\u001b[0m\u001b[0;34m)\u001b[0m\u001b[0;34m\u001b[0m\u001b[0;34m\u001b[0m\u001b[0m\n\u001b[0m\u001b[1;32m    770\u001b[0m                          if u in index and v in index))\n\u001b[1;32m    771\u001b[0m     \u001b[0;32mtry\u001b[0m\u001b[0;34m:\u001b[0m\u001b[0;34m\u001b[0m\u001b[0;34m\u001b[0m\u001b[0m\n",
      "\u001b[0;32m~/miniconda3/envs/DGL/lib/python3.7/site-packages/networkx/convert_matrix.py\u001b[0m in \u001b[0;36m<genexpr>\u001b[0;34m(.0)\u001b[0m\n\u001b[1;32m    766\u001b[0m \u001b[0;34m\u001b[0m\u001b[0m\n\u001b[1;32m    767\u001b[0m     \u001b[0mindex\u001b[0m \u001b[0;34m=\u001b[0m \u001b[0mdict\u001b[0m\u001b[0;34m(\u001b[0m\u001b[0mzip\u001b[0m\u001b[0;34m(\u001b[0m\u001b[0mnodelist\u001b[0m\u001b[0;34m,\u001b[0m \u001b[0mrange\u001b[0m\u001b[0;34m(\u001b[0m\u001b[0mnlen\u001b[0m\u001b[0;34m)\u001b[0m\u001b[0;34m)\u001b[0m\u001b[0;34m)\u001b[0m\u001b[0;34m\u001b[0m\u001b[0;34m\u001b[0m\u001b[0m\n\u001b[0;32m--> 768\u001b[0;31m     coefficients = zip(*((index[u], index[v], d.get(weight, 1))\n\u001b[0m\u001b[1;32m    769\u001b[0m                          \u001b[0;32mfor\u001b[0m \u001b[0mu\u001b[0m\u001b[0;34m,\u001b[0m \u001b[0mv\u001b[0m\u001b[0;34m,\u001b[0m \u001b[0md\u001b[0m \u001b[0;32min\u001b[0m \u001b[0mG\u001b[0m\u001b[0;34m.\u001b[0m\u001b[0medges\u001b[0m\u001b[0;34m(\u001b[0m\u001b[0mnodelist\u001b[0m\u001b[0;34m,\u001b[0m \u001b[0mdata\u001b[0m\u001b[0;34m=\u001b[0m\u001b[0;32mTrue\u001b[0m\u001b[0;34m)\u001b[0m\u001b[0;34m\u001b[0m\u001b[0;34m\u001b[0m\u001b[0m\n\u001b[1;32m    770\u001b[0m                          if u in index and v in index))\n",
      "\u001b[0;32m~/miniconda3/envs/DGL/lib/python3.7/site-packages/networkx/classes/reportviews.py\u001b[0m in \u001b[0;36m__iter__\u001b[0;34m(self)\u001b[0m\n\u001b[1;32m    718\u001b[0m         \u001b[0mseen\u001b[0m \u001b[0;34m=\u001b[0m \u001b[0;34m{\u001b[0m\u001b[0;34m}\u001b[0m\u001b[0;34m\u001b[0m\u001b[0;34m\u001b[0m\u001b[0m\n\u001b[1;32m    719\u001b[0m         \u001b[0;32mfor\u001b[0m \u001b[0mn\u001b[0m\u001b[0;34m,\u001b[0m \u001b[0mnbrs\u001b[0m \u001b[0;32min\u001b[0m \u001b[0mself\u001b[0m\u001b[0;34m.\u001b[0m\u001b[0m_nodes_nbrs\u001b[0m\u001b[0;34m(\u001b[0m\u001b[0;34m)\u001b[0m\u001b[0;34m:\u001b[0m\u001b[0;34m\u001b[0m\u001b[0;34m\u001b[0m\u001b[0m\n\u001b[0;32m--> 720\u001b[0;31m             \u001b[0;32mfor\u001b[0m \u001b[0mnbr\u001b[0m\u001b[0;34m,\u001b[0m \u001b[0mdd\u001b[0m \u001b[0;32min\u001b[0m \u001b[0mnbrs\u001b[0m\u001b[0;34m.\u001b[0m\u001b[0mitems\u001b[0m\u001b[0;34m(\u001b[0m\u001b[0;34m)\u001b[0m\u001b[0;34m:\u001b[0m\u001b[0;34m\u001b[0m\u001b[0;34m\u001b[0m\u001b[0m\n\u001b[0m\u001b[1;32m    721\u001b[0m                 \u001b[0;32mif\u001b[0m \u001b[0mnbr\u001b[0m \u001b[0;32mnot\u001b[0m \u001b[0;32min\u001b[0m \u001b[0mseen\u001b[0m\u001b[0;34m:\u001b[0m\u001b[0;34m\u001b[0m\u001b[0;34m\u001b[0m\u001b[0m\n\u001b[1;32m    722\u001b[0m                     \u001b[0;32myield\u001b[0m \u001b[0mself\u001b[0m\u001b[0;34m.\u001b[0m\u001b[0m_report\u001b[0m\u001b[0;34m(\u001b[0m\u001b[0mn\u001b[0m\u001b[0;34m,\u001b[0m \u001b[0mnbr\u001b[0m\u001b[0;34m,\u001b[0m \u001b[0mdd\u001b[0m\u001b[0;34m)\u001b[0m\u001b[0;34m\u001b[0m\u001b[0;34m\u001b[0m\u001b[0m\n",
      "\u001b[0;31mKeyboardInterrupt\u001b[0m: "
     ]
    }
   ],
   "source": [
    "epoch_losses = []\n",
    "net.train()\n",
    "torch.autograd.set_detect_anomaly(True)\n",
    "for epoch in range(30):\n",
    "    epoch_loss = 0\n",
    "    t = time.time()\n",
    "    for iter, (bg, label) in enumerate(data_loader):\n",
    "        prediction = net(bg)\n",
    "        # print(\"Prediction:\", prediction,'len:',prediction.size())  #DEBUG\n",
    "        loss = loss_func(prediction, label)\n",
    "        optimizer.zero_grad()\n",
    "        loss.backward() \n",
    "        \n",
    "        optimizer.step()\n",
    "        epoch_loss += loss.detach().item()\n",
    "    epoch_loss /= (iter + 1)\n",
    "    print('Epoch {}, loss {:.4f}, in {:.2f}(s) '.format(\n",
    "        epoch, epoch_loss, time.time()-t))\n",
    "    epoch_losses.append(epoch_loss)"
   ]
  },
  {
   "cell_type": "code",
   "execution_count": null,
   "metadata": {},
   "outputs": [],
   "source": [
    "plt.title('cross entropy averaged over minibatches')\n",
    "plt.plot(epoch_losses)\n",
    "plt.show()"
   ]
  },
  {
   "cell_type": "markdown",
   "metadata": {},
   "source": [
    "## Test Metrics"
   ]
  },
  {
   "cell_type": "code",
   "execution_count": 30,
   "metadata": {},
   "outputs": [
    {
     "name": "stdout",
     "output_type": "stream",
     "text": [
      "Accuracy of sampled predictions on the test set: 0.0000%\n",
      "Accuracy of argmax predictions on the test set: 20.000000%\n"
     ]
    }
   ],
   "source": [
    "# BATCHED DGL EXAMPLE\n",
    "import sklearn\n",
    "from sklearn.metrics import classification_report\n",
    "# Change \n",
    "\n",
    "net.eval()\n",
    "# Convert a list of tuples to two lists\n",
    "test_X, test_Y = map(list, zip(*testset))\n",
    "test_bg = dgl.batch(test_X)\n",
    "test_Y = torch.tensor(test_Y).float().view(-1, 1)\n",
    "probs_Y = torch.softmax(net(test_bg), 1)\n",
    "sampled_Y = torch.multinomial(probs_Y, 1)\n",
    "argmax_Y = torch.max(probs_Y, 1)[1].view(-1, 1)\n",
    "\n",
    "#sklearn.metrics.classification_report(test_Y,argmax_Y)\n",
    "\n",
    "print('Accuracy of sampled predictions on the test set: {:.4f}%'.format(\n",
    "    (test_Y == sampled_Y.float()).sum().item() / len(test_Y) * 100))\n",
    "print('Accuracy of argmax predictions on the test set: {:4f}%'.format(\n",
    "    (test_Y == argmax_Y.float()).sum().item() / len(test_Y) * 100))"
   ]
  },
  {
   "cell_type": "markdown",
   "metadata": {},
   "source": [
    "## Saving"
   ]
  },
  {
   "cell_type": "code",
   "execution_count": 25,
   "metadata": {},
   "outputs": [],
   "source": [
    "from utils import save_model\n",
    "save_model('Model1', net)"
   ]
  },
  {
   "cell_type": "markdown",
   "metadata": {},
   "source": [
    "# Others"
   ]
  },
  {
   "cell_type": "markdown",
   "metadata": {},
   "source": [
    "$h_i^{l+1}$ &= $\\sum_{k=0}^{K-1} W^{k, l}z_i^{k, l}$\n",
    "\n",
    "$Z^{0, l}$ &= $H^{l}$\n",
    "\n",
    "$Z^{1, l}$ &=$ \\hat{L} \\cdot H^{l}$\n",
    "\n",
    "$Z^{k, l}$ &= $2 \\cdot \\hat{L} \\cdot Z^{k-1, l} - Z^{k-2, l}$\n",
    "\n",
    "$\\hat{L}$ &= $2\\left(I - \\hat{D}^{-1/2} \\hat{A} \\hat{D}^{-1/2}\\right)/\\lambda_{max} - I$\n",
    "\n",
    "    Parameters\n",
    "    ----------\n",
    "    in_feats: int\n",
    "        Number of input features.\n",
    "    out_feats: int\n",
    "        Number of output features.\n",
    "    k : int\n",
    "        Chebyshev filter size.\n",
    "    bias : bool, optional\n",
    "        If True, adds a learnable bias to the output. Default: ``True``."
   ]
  },
  {
   "cell_type": "raw",
   "metadata": {},
   "source": [
    "Save to the master thesis folder: \n",
    "plt.savefig('../../Master-Thesis/img/Chebfilters.png')"
   ]
  }
 ],
 "metadata": {
  "kernelspec": {
   "display_name": "Python 3",
   "language": "python",
   "name": "python3"
  },
  "language_info": {
   "codemirror_mode": {
    "name": "ipython",
    "version": 3
   },
   "file_extension": ".py",
   "mimetype": "text/x-python",
   "name": "python",
   "nbconvert_exporter": "python",
   "pygments_lexer": "ipython3",
   "version": "3.7.4"
  },
  "toc": {
   "base_numbering": 1,
   "nav_menu": {},
   "number_sections": true,
   "sideBar": true,
   "skip_h1_title": false,
   "title_cell": "Table of Contents",
   "title_sidebar": "Contents",
   "toc_cell": false,
   "toc_position": {},
   "toc_section_display": true,
   "toc_window_display": false
  }
 },
 "nbformat": 4,
 "nbformat_minor": 1
}
