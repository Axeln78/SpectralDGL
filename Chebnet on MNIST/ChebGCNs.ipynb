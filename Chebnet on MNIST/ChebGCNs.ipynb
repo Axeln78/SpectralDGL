{
 "cells": [
  {
   "cell_type": "markdown",
   "metadata": {},
   "source": [
    "# Lab 01 : LeNet5 ChebGCNs - AXEL\n"
   ]
  },
  {
   "cell_type": "markdown",
   "metadata": {},
   "source": [
    "Spectral Graph ConvNets<br>\n",
    "Convolutional Neural Networks on Graphs with Fast Localized Spectral Filtering<br>\n",
    "M Defferrard, X Bresson, P Vandergheynst<br>\n",
    "Advances in Neural Information Processing Systems, 3844-3852, 2016<br>\n",
    "ArXiv preprint: [arXiv:1606.09375](https://arxiv.org/pdf/1606.09375.pdf) <br>\n",
    "\n",
    "DOC : https://docs.dgl.ai/en/latest/api/python/nn.pytorch.html?highlight=cheb#dgl.nn.pytorch.conv.ChebConv"
   ]
  },
  {
   "cell_type": "code",
   "execution_count": 1,
   "metadata": {},
   "outputs": [],
   "source": [
    "import os\n",
    "import sys\n",
    "import time\n",
    "import random\n",
    "import numpy as np\n",
    "\n",
    "import torch\n",
    "from torch.autograd import Variable\n",
    "import torch.nn as nn\n",
    "import torch.nn.functional as F\n",
    "import torch.optim as optim\n",
    "from torch.utils.data import DataLoader\n",
    "\n",
    "import dgl\n",
    "import networkx as nx\n",
    "import matplotlib.pyplot as plt\n",
    "\n",
    "#import collections\n",
    "# MAC PROBLEM THAT MAKES THE NOTEBOOK Crash\n",
    "os.environ['KMP_DUPLICATE_LIB_OK']='True'\n",
    "\n",
    "\n",
    "sys.path.insert(0, 'lib/')\n",
    "%load_ext autoreload\n",
    "%autoreload 2"
   ]
  },
  {
   "cell_type": "raw",
   "metadata": {},
   "source": [
    "# GPU Compatibility\n",
    "os.environ[\"CUDA_DEVICE_ORDER\"] = \"PCI_BUS_ID\"\n",
    "os.environ[\"CUDA_VISIBLE_DEVICES\"] = \"0\"\n",
    "\n",
    "if torch.cuda.is_available():\n",
    "    print('cuda available')\n",
    "    dtypeFloat = torch.cuda.FloatTensor\n",
    "    dtypeLong = torch.cuda.LongTensor\n",
    "    torch.cuda.manual_seed(1)\n",
    "else:\n",
    "    print('cuda not available')\n",
    "    dtypeFloat = torch.FloatTensor\n",
    "    dtypeLong = torch.LongTensor\n",
    "    torch.manual_seed(1)"
   ]
  },
  {
   "cell_type": "markdown",
   "metadata": {},
   "source": [
    "# MNIST"
   ]
  },
  {
   "cell_type": "code",
   "execution_count": 2,
   "metadata": {},
   "outputs": [],
   "source": [
    "def check_mnist_dataset_exists(path_data='./'):\n",
    "    flag_train_data = os.path.isfile(path_data + 'mnist/train_data.pt')\n",
    "    flag_train_label = os.path.isfile(path_data + 'mnist/train_label.pt')\n",
    "    flag_test_data = os.path.isfile(path_data + 'mnist/test_data.pt')\n",
    "    flag_test_label = os.path.isfile(path_data + 'mnist/test_label.pt')\n",
    "    if flag_train_data == False or flag_train_label == False or flag_test_data == False or flag_test_label == False:\n",
    "        print('MNIST dataset missing - downloading...')\n",
    "        import torchvision\n",
    "        import torchvision.transforms as transforms\n",
    "        trainset = torchvision.datasets.MNIST(root=path_data + 'mnist/temp', train=True,\n",
    "                                              download=True, transform=transforms.ToTensor())\n",
    "        testset = torchvision.datasets.MNIST(root=path_data + 'mnist/temp', train=False,\n",
    "                                             download=True, transform=transforms.ToTensor())\n",
    "        train_data = torch.Tensor(60000, 28, 28)\n",
    "        train_label = torch.LongTensor(60000)\n",
    "        \n",
    "        for idx, example in enumerate(trainset):\n",
    "            train_data[idx] = example[0].squeeze()\n",
    "            train_label[idx] = example[1]\n",
    "\n",
    "        torch.save(train_data, path_data + 'mnist/train_data.pt')\n",
    "        torch.save(train_label, path_data + 'mnist/train_label.pt')\n",
    "        test_data = torch.Tensor(10000, 28, 28)\n",
    "        test_label = torch.LongTensor(10000)\n",
    "\n",
    "        for idx, example in enumerate(testset):\n",
    "            test_data[idx] = example[0].squeeze()\n",
    "            test_label[idx] = example[1]\n",
    "            \n",
    "        torch.save(test_data, path_data + 'mnist/test_data.pt')\n",
    "        torch.save(test_label, path_data + 'mnist/test_label.pt')\n",
    "    return path_data\n",
    "\n",
    "\n",
    "_ = check_mnist_dataset_exists()"
   ]
  },
  {
   "cell_type": "code",
   "execution_count": 3,
   "metadata": {},
   "outputs": [
    {
     "name": "stdout",
     "output_type": "stream",
     "text": [
      "torch.Size([500, 784]) <class 'torch.Tensor'>\n",
      "torch.Size([500])\n",
      "torch.Size([100, 784])\n",
      "torch.Size([100])\n"
     ]
    }
   ],
   "source": [
    "nb_selected_train_data = 500\n",
    "nb_selected_test_data = 100\n",
    "\n",
    "train_data = torch.load('mnist/train_data.pt').reshape(60000, 784)\n",
    "train_data = train_data[:nb_selected_train_data, :]\n",
    "print(train_data.shape, type(train_data))\n",
    "\n",
    "train_labels = torch.load('mnist/train_label.pt')\n",
    "train_labels = train_labels[:nb_selected_train_data]\n",
    "print(train_labels.shape)\n",
    "\n",
    "test_data = torch.load('mnist/test_data.pt').reshape(10000, 784)\n",
    "test_data = test_data[:nb_selected_test_data, :]\n",
    "print(test_data.shape)\n",
    "\n",
    "test_labels = torch.load('mnist/test_label.pt')\n",
    "test_labels = test_labels[:nb_selected_test_data]\n",
    "print(test_labels.shape)"
   ]
  },
  {
   "cell_type": "code",
   "execution_count": 4,
   "metadata": {},
   "outputs": [],
   "source": [
    "# Import the dataset from file\n",
    "from Dataset import MNISTDataset"
   ]
  },
  {
   "cell_type": "code",
   "execution_count": 5,
   "metadata": {},
   "outputs": [],
   "source": [
    "trainset = MNISTDataset(train_data,train_labels)\n",
    "testset = MNISTDataset(test_data,test_labels)"
   ]
  },
  {
   "cell_type": "code",
   "execution_count": 6,
   "metadata": {},
   "outputs": [],
   "source": [
    "def showGraph(graph, label):\n",
    "    '''\n",
    "    Function to visualise the signal of the handwritten digits over a lattice graph\n",
    "    '''\n",
    "    # Since the actual graph is undirected, we convert it\n",
    "    nx_G = graph.to_networkx().to_undirected()\n",
    "\n",
    "    # Kamada-Kawaii layout\n",
    "    pos = nx.kamada_kawai_layout(nx_G)\n",
    "    nx.draw(nx_G, pos, with_labels=False,\n",
    "            cmap=plt.cm.Blues, node_color=graph.ndata['h'])\n",
    "    plt.title('Class: {:d}'.format(label))\n",
    "    plt.show()"
   ]
  },
  {
   "cell_type": "code",
   "execution_count": 7,
   "metadata": {},
   "outputs": [
    {
     "data": {
      "image/png": "[encoded data removed]",
      "text/plain": [
       "<Figure size 432x288 with 1 Axes>"
      ]
     },
     "metadata": {},
     "output_type": "display_data"
    }
   ],
   "source": [
    "showGraph(*trainset[random.randrange(10)])"
   ]
  },
  {
   "cell_type": "markdown",
   "metadata": {},
   "source": [
    "# Bis ChebNetDGL"
   ]
  },
  {
   "cell_type": "code",
   "execution_count": 8,
   "metadata": {},
   "outputs": [],
   "source": [
    "def chebyshev(L, X, K):\n",
    "    \"\"\"Return T_k X where T_k are the Chebyshev polynomials of order up to K.\n",
    "    Complexity is O(KMN).\"\"\"\n",
    "    M, N = X.shape\n",
    "    assert L.dtype == X.dtype\n",
    "\n",
    "    # L = rescale_L(L, lmax)\n",
    "    # Xt = T @ X: MxM @ MxN.\n",
    "    # Xt_0 = T_0 X = I X = X.\n",
    "    # Xt_1 = T_1 X = L X.\n",
    "    # Xt_k = 2 L Xt_k-1 - Xt_k-2.\n",
    "    \n",
    "    Xt = np.empty((K, M, N), L.dtype)\n",
    "    \n",
    "    Xt[0, ...] = X\n",
    "    if K > 1:\n",
    "        Xt[1, ...] = L.dot(X)\n",
    "        for k in range(2, K):\n",
    "            Xt[k, ...] = 2 * L.dot(Xt[k-1, ...]) - Xt[k-2, ...]\n",
    "    return Xt"
   ]
  },
  {
   "cell_type": "code",
   "execution_count": 9,
   "metadata": {},
   "outputs": [],
   "source": [
    "## https://github.com/mdeff/cnn_graph/blob/c4d2c75d1807a1d1189b84bd6f4a0aafca5b8c53/lib/graph.py#L241\n",
    "\n",
    "def rescale_L(L, lmax=2):\n",
    "    \"\"\"Rescale the Laplacian eigenvalues in [-1,1].\"\"\"\n",
    "    M, M = L.shape\n",
    "    I = scipy.sparse.identity(M, format='csr', dtype=L.dtype)\n",
    "    L /= lmax / 2\n",
    "    L -= I\n",
    "    return L"
   ]
  },
  {
   "cell_type": "code",
   "execution_count": 10,
   "metadata": {},
   "outputs": [],
   "source": [
    "\"\"\"Torch Module for Chebyshev Spectral Graph Convolution layer\"\"\"\n",
    "# pylint: disable= no-member, arguments-differ, invalid-name\n",
    "import torch as th\n",
    "from torch import nn\n",
    "from torch.nn import init\n",
    "\n",
    "from dgl import laplacian_lambda_max, broadcast_nodes, function as fn\n",
    "\n",
    "\n",
    "class ChebConv(nn.Module):\n",
    "    r\"\"\"Chebyshev Spectral Graph Convolution layer from paper `Convolutional\n",
    "    Neural Networks on Graphs with Fast Localized Spectral Filtering\n",
    "    <https://arxiv.org/pdf/1606.09375.pdf>`__.\n",
    "\n",
    "    .. math::\n",
    "        h_i^{l+1} &= \\sum_{k=0}^{K-1} W^{k, l}z_i^{k, l}\n",
    "\n",
    "        Z^{0, l} &= H^{l}\n",
    "\n",
    "        Z^{1, l} &= \\hat{L} \\cdot H^{l}\n",
    "\n",
    "        Z^{k, l} &= 2 \\cdot \\hat{L} \\cdot Z^{k-1, l} - Z^{k-2, l}\n",
    "\n",
    "        \\hat{L} &= 2\\left(I - \\hat{D}^{-1/2} \\hat{A} \\hat{D}^{-1/2}\\right)/\\lambda_{max} - I\n",
    "\n",
    "    Parameters\n",
    "    ----------\n",
    "    in_feats: int\n",
    "        Number of input features.\n",
    "    out_feats: int\n",
    "        Number of output features.\n",
    "    k : int\n",
    "        Chebyshev filter size.\n",
    "    bias : bool, optional\n",
    "        If True, adds a learnable bias to the output. Default: ``True``.\n",
    "    \"\"\"\n",
    "\n",
    "    def __init__(self,\n",
    "                 in_feats,\n",
    "                 out_feats,\n",
    "                 k,\n",
    "                 bias=True):\n",
    "        super(ChebConv, self).__init__()\n",
    "        self._in_feats = in_feats\n",
    "        self._out_feats = out_feats\n",
    "        self.fc = nn.ModuleList([\n",
    "            nn.Linear(in_feats, out_feats, bias=False) for _ in range(k)\n",
    "        ])\n",
    "        self._k = k\n",
    "        if bias:\n",
    "            self.bias = nn.Parameter(th.Tensor(out_feats))\n",
    "        else:\n",
    "            self.register_buffer('bias', None)\n",
    "        self.reset_parameters()\n",
    "\n",
    "    def reset_parameters(self):\n",
    "        \"\"\"Reinitialize learnable parameters.\"\"\"\n",
    "        if self.bias is not None:\n",
    "            init.zeros_(self.bias)\n",
    "        for module in self.fc.modules():\n",
    "            if isinstance(module, nn.Linear):\n",
    "                init.xavier_normal_(module.weight, init.calculate_gain('relu'))\n",
    "                if module.bias is not None:\n",
    "                    init.zeros_(module.bias)\n",
    "\n",
    "    def forward(self, graph, feat, lambda_max=None):\n",
    "        r\"\"\"Compute ChebNet layer.\n",
    "\n",
    "        Parameters\n",
    "        ----------\n",
    "        graph : DGLGraph or BatchedDGLGraph\n",
    "            The graph.\n",
    "        feat : torch.Tensor\n",
    "            The input feature of shape :math:`(N, D_{in})` where :math:`D_{in}`\n",
    "            is size of input feature, :math:`N` is the number of nodes.\n",
    "        lambda_max : list or tensor or None, optional.\n",
    "            A list(tensor) with length :math:`B`, stores the largest eigenvalue\n",
    "            of the normalized laplacian of each individual graph in ``graph``,\n",
    "            where :math:`B` is the batch size of the input graph. Default: None.\n",
    "            If None, this method would compute the list by calling\n",
    "            ``dgl.laplacian_lambda_max``.\n",
    "\n",
    "        Returns\n",
    "        -------\n",
    "        torch.Tensor\n",
    "            The output feature of shape :math:`(N, D_{out})` where :math:`D_{out}`\n",
    "            is size of output feature.\n",
    "        \"\"\"\n",
    "        with graph.local_scope():\n",
    "            norm = th.pow(\n",
    "                graph.in_degrees().float().clamp(min=1), -0.5).unsqueeze(-1).to(feat.device)\n",
    "            if lambda_max is None:\n",
    "                lambda_max = laplacian_lambda_max(graph)\n",
    "            if isinstance(lambda_max, list):\n",
    "                lambda_max = th.Tensor(lambda_max).to(feat.device)\n",
    "            if lambda_max.dim() == 1:\n",
    "                lambda_max = lambda_max.unsqueeze(-1)  # (B,) to (B, 1)\n",
    "            # broadcast from (B, 1) to (N, 1)\n",
    "            lambda_max = broadcast_nodes(graph, lambda_max)\n",
    "            # T0(X)\n",
    "            Tx_0 = feat\n",
    "            rst = self.fc[0](Tx_0)\n",
    "            '''\n",
    "            print('\\n First conv layer ------------- output 1 ------------- \\n')\n",
    "            print(rst, len(rst), 'Tx0 size', Tx_0.size())\n",
    "            if(len(rst) == 10):\n",
    "                print(\n",
    "                    '\\n ---- THIS CONV LAYER HAS THE RIGHT NUMBER OF OUTPUT FEATURES-----\\n')\n",
    "            '''\n",
    "            # T1(X)\n",
    "            if self._k > 1:\n",
    "                graph.ndata.pop('h')\n",
    "                #Actually I am the only one who has this problem?\n",
    "                graph.ndata['h'] = Tx_0 * norm\n",
    "                graph.update_all(fn.copy_u('h', 'm'), fn.sum(\n",
    "                    'm', 'h'))  # STUDY THIS LINE LATER\n",
    "                \n",
    "                #print(graph.ndata, graph.ndata['h'].size(),'norm',norm.size() )\n",
    "                \n",
    "                \n",
    "                h = graph.ndata.pop('h') * norm\n",
    "                \n",
    "                # Λ = 2 * (I - D ^ -1/2 A D ^ -1/2) / lambda_max - I\n",
    "                #   = - 2(D ^ -1/2 A D ^ -1/2) / lambda_max + (2 / lambda_max - 1) I\n",
    "                Tx_1 = -2. * h / lambda_max + Tx_0 * (2. / lambda_max - 1) # ERROR IS HERE MOUAHAHA\n",
    "\n",
    "                rst = rst + self.fc[1](Tx_0)\n",
    "                '''\n",
    "                print('\\n DEBUG ------------- output 2 ----------- \\n')\n",
    "                print('CHECKING OUT THAT MATHAFACK FUNCTION')\n",
    "                print('h',h,'size:',h.size())\n",
    "                #print('size of tx0',Tx_0.size(),'sum:', Tx_0 * (2. / lambda_max - 1))\n",
    "                print('\\nTx1', Tx_1, 'Len:', len(Tx_1), 'type:', Tx_1.size())\n",
    "                print('\\n net:', self.fc[1], '\\n output (TEST):', self.fc[1](\n",
    "                    Tx_1), 'length', len(self.fc[1](Tx_1)))\n",
    "                print('\\n Final output', rst, 'length:', len(rst))\n",
    "                if(len(rst) == 10):\n",
    "                    print(\n",
    "                        '\\n ---- THIS CONV LAYER HAS THE RIGHT NUMBER OF OUTPUT FEATURES-----\\n')\n",
    "                '''\n",
    "                \n",
    "            # Ti(x), i = 2...k\n",
    "            for i in range(2, self._k):\n",
    "                assert graph.ndata == {}\n",
    "                #graph.ndata.pop('h')\n",
    "                graph.ndata['h'] = Tx_1 * norm\n",
    "                graph.update_all(fn.copy_u('h', 'm'), fn.sum('m', 'h'))\n",
    "                h = graph.ndata.pop('h') * norm\n",
    "                # Tx_k = 2 * Λ * Tx_(k-1) - Tx_(k-2)\n",
    "                #      = - 4(D ^ -1/2 A D ^ -1/2) / lambda_max Tx_(k-1) +\n",
    "                #        (4 / lambda_max - 2) Tx_(k-1) -\n",
    "                #        Tx_(k-2)\n",
    "                Tx_2 = -4. * h / lambda_max + Tx_1 *(4. / lambda_max - 2) - Tx_0\n",
    "                rst = rst + self.fc[i](Tx_2)\n",
    "                '''\n",
    "                print('\\n DEBUG ------------- output 3 ----------- \\n')\n",
    "                print('h',h,'size:',h.size())\n",
    "                print('\\nTx2', Tx_2, 'Len:', len(Tx_2), 'type:', Tx_2.size())\n",
    "                print('\\n net:', self.fc[i], '\\n output (TEST):', self.fc[i](\n",
    "                    Tx_2), 'length', len(self.fc[i](Tx_2)))\n",
    "                print('\\n Final output', rst, 'length:', len(rst))\n",
    "                if(len(rst) == 10):\n",
    "                    print(\n",
    "                        '\\n ---- THIS CONV LAYER HAS THE RIGHT NUMBER OF OUTPUT FEATURES-----\\n')\n",
    "                '''\n",
    "                Tx_1, Tx_0 = Tx_2, Tx_1\n",
    "            # add bias\n",
    "            \n",
    "            if self.bias is not None:\n",
    "                rst = rst + self.bias\n",
    "\n",
    "            return rst"
   ]
  },
  {
   "cell_type": "markdown",
   "metadata": {},
   "source": [
    "# Model"
   ]
  },
  {
   "cell_type": "code",
   "execution_count": 11,
   "metadata": {},
   "outputs": [
    {
     "name": "stdout",
     "output_type": "stream",
     "text": [
      "ChebConv(\n",
      "  (fc): ModuleList(\n",
      "    (0): Linear(in_features=784, out_features=10, bias=False)\n",
      "    (1): Linear(in_features=784, out_features=10, bias=False)\n",
      "  )\n",
      ")\n"
     ]
    }
   ],
   "source": [
    "#net = GCN(784, trainset.num_classes)\n",
    "net = ChebConv(784, trainset.num_classes, 2)\n",
    "print(net)"
   ]
  },
  {
   "cell_type": "markdown",
   "metadata": {},
   "source": [
    "# Training"
   ]
  },
  {
   "cell_type": "code",
   "execution_count": 12,
   "metadata": {},
   "outputs": [],
   "source": [
    "def collate(samples):\n",
    "    # The input `samples` is a list of pairs\n",
    "    #  (graph, label).\n",
    "    graphs, labels = map(list, zip(*samples))\n",
    "    batched_graph = dgl.batch(graphs)\n",
    "    return batched_graph, torch.tensor(labels)"
   ]
  },
  {
   "cell_type": "raw",
   "metadata": {},
   "source": [
    "# Debug\n",
    "bg = dgl.batch((trainset[0][0],trainset[1][0]))"
   ]
  },
  {
   "cell_type": "code",
   "execution_count": 13,
   "metadata": {},
   "outputs": [],
   "source": [
    "# Use PyTorch's DataLoader and the collate function\n",
    "# defined before.\n",
    "data_loader = DataLoader(trainset, batch_size=1,\n",
    "                         shuffle=True, collate_fn=collate)\n",
    "\n",
    "# Create model\n",
    "loss_func = nn.CrossEntropyLoss()\n",
    "optimizer = optim.Adam(net.parameters(), lr=0.001)"
   ]
  },
  {
   "cell_type": "code",
   "execution_count": 14,
   "metadata": {
    "scrolled": true
   },
   "outputs": [
    {
     "name": "stdout",
     "output_type": "stream",
     "text": [
      "Epoch 0, loss 0.9767\n",
      "Epoch 1, loss 0.3627\n",
      "Epoch 2, loss 0.2302\n",
      "Epoch 3, loss 0.1611\n",
      "Epoch 4, loss 0.1102\n",
      "Epoch 5, loss 0.0831\n",
      "Epoch 6, loss 0.0574\n",
      "Epoch 7, loss 0.0437\n",
      "Epoch 8, loss 0.0332\n",
      "Epoch 9, loss 0.0255\n",
      "Epoch 10, loss 0.0211\n",
      "Epoch 11, loss 0.0165\n",
      "Epoch 12, loss 0.0134\n",
      "Epoch 13, loss 0.0102\n",
      "Epoch 14, loss 0.0088\n",
      "Epoch 15, loss 0.0071\n",
      "Epoch 16, loss 0.0057\n",
      "Epoch 17, loss 0.0043\n",
      "Epoch 18, loss 0.0035\n",
      "Epoch 19, loss 0.0029\n"
     ]
    }
   ],
   "source": [
    "epoch_losses = []\n",
    "net.train()\n",
    "for epoch in range(20):\n",
    "    epoch_loss = 0\n",
    "    for iter, (bg, label) in enumerate(data_loader):\n",
    "        prediction = net(bg,bg.ndata['h']).view(1,-1)\n",
    "        \n",
    "        #print(\"Prediction:\", prediction,'len:',prediction.size())\n",
    "        lossvect=torch.zeros(1, dtype=torch.long)\n",
    "        lossvect[0] = label\n",
    "        #print(\"lossv:\", lossvect,'len:',lossvect.size())\n",
    "        loss = loss_func(prediction, lossvect)\n",
    "        \n",
    "        optimizer.zero_grad()\n",
    "        loss.backward()\n",
    "        optimizer.step()\n",
    "        epoch_loss += loss.detach().item()\n",
    "    epoch_loss /= (iter + 1)\n",
    "    print('Epoch {}, loss {:.4f}'.format(epoch, epoch_loss))\n",
    "    epoch_losses.append(epoch_loss)"
   ]
  },
  {
   "cell_type": "code",
   "execution_count": 15,
   "metadata": {},
   "outputs": [
    {
     "data": {
      "image/png": "[encoded data removed]",
      "text/plain": [
       "<Figure size 432x288 with 1 Axes>"
      ]
     },
     "metadata": {
      "needs_background": "light"
     },
     "output_type": "display_data"
    }
   ],
   "source": [
    "plt.title('cross entropy averaged over minibatches')\n",
    "plt.plot(epoch_losses)\n",
    "plt.show()"
   ]
  },
  {
   "cell_type": "code",
   "execution_count": 16,
   "metadata": {},
   "outputs": [
    {
     "name": "stdout",
     "output_type": "stream",
     "text": [
      "Total Loss 0.0086\n"
     ]
    }
   ],
   "source": [
    "net.eval()\n",
    "data_loader_test = DataLoader(testset, batch_size=1,\n",
    "                              shuffle=False, collate_fn=collate)\n",
    "loss = 0\n",
    "preds = []\n",
    "test = 0\n",
    "for iter, (bg, label) in enumerate(data_loader):\n",
    "    prediction = net(bg, bg.ndata['h'])\n",
    "    preds.append(prediction)\n",
    "    test = prediction\n",
    "    loss = loss_func(prediction.view(1,-1), label)\n",
    "    \n",
    "    loss += loss\n",
    "print('Total Loss {:.4f}'.format(loss*100))"
   ]
  },
  {
   "cell_type": "code",
   "execution_count": 17,
   "metadata": {},
   "outputs": [],
   "source": [
    "from sklearn.metrics import classification_report\n",
    "\n"
   ]
  },
  {
   "cell_type": "code",
   "execution_count": 19,
   "metadata": {},
   "outputs": [
    {
     "data": {
      "text/plain": [
       "tensor([  0.1006, -25.5242, -14.9417,  -5.1505, -13.4526,  -7.2645, -13.7934,\n",
       "         10.1673, -10.5867,  -5.1622], grad_fn=<AddBackward0>)"
      ]
     },
     "execution_count": 19,
     "metadata": {},
     "output_type": "execute_result"
    }
   ],
   "source": [
    "prediction"
   ]
  },
  {
   "cell_type": "code",
   "execution_count": 23,
   "metadata": {},
   "outputs": [
    {
     "ename": "TypeError",
     "evalue": "softmax() received an invalid combination of arguments - got (Tensor), but expected one of:\n * (Tensor input, name dim, torch.dtype dtype)\n * (Tensor input, int dim, torch.dtype dtype)\n",
     "output_type": "error",
     "traceback": [
      "\u001b[0;31m---------------------------------------------------------------------------\u001b[0m",
      "\u001b[0;31mTypeError\u001b[0m                                 Traceback (most recent call last)",
      "\u001b[0;32m<ipython-input-23-5e4c25b29e96>\u001b[0m in \u001b[0;36m<module>\u001b[0;34m\u001b[0m\n\u001b[0;32m----> 1\u001b[0;31m \u001b[0mprobs\u001b[0m \u001b[0;34m=\u001b[0m \u001b[0mtorch\u001b[0m\u001b[0;34m.\u001b[0m\u001b[0msoftmax\u001b[0m\u001b[0;34m(\u001b[0m\u001b[0mprediction\u001b[0m\u001b[0;34m.\u001b[0m\u001b[0mview\u001b[0m\u001b[0;34m(\u001b[0m\u001b[0;34m-\u001b[0m\u001b[0;36m1\u001b[0m\u001b[0;34m,\u001b[0m\u001b[0;36m1\u001b[0m\u001b[0;34m)\u001b[0m\u001b[0;34m)\u001b[0m\u001b[0;34m.\u001b[0m\u001b[0mdetach\u001b[0m\u001b[0;34m(\u001b[0m\u001b[0;34m)\u001b[0m\u001b[0;34m.\u001b[0m\u001b[0mnumpy\u001b[0m\u001b[0;34m(\u001b[0m\u001b[0;34m)\u001b[0m\u001b[0;34m\u001b[0m\u001b[0;34m\u001b[0m\u001b[0m\n\u001b[0m\u001b[1;32m      2\u001b[0m \u001b[0mpred_y\u001b[0m \u001b[0;34m=\u001b[0m \u001b[0mnp\u001b[0m\u001b[0;34m.\u001b[0m\u001b[0margmax\u001b[0m\u001b[0;34m(\u001b[0m\u001b[0mprobs\u001b[0m\u001b[0;34m,\u001b[0m\u001b[0;36m1\u001b[0m\u001b[0;34m)\u001b[0m\u001b[0;34m\u001b[0m\u001b[0;34m\u001b[0m\u001b[0m\n",
      "\u001b[0;31mTypeError\u001b[0m: softmax() received an invalid combination of arguments - got (Tensor), but expected one of:\n * (Tensor input, name dim, torch.dtype dtype)\n * (Tensor input, int dim, torch.dtype dtype)\n"
     ]
    }
   ],
   "source": [
    "probs = torch.softmax(prediction.view(-1,1)).detach().numpy()\n",
    "pred_y = np.argmax(probs,1)"
   ]
  },
  {
   "cell_type": "code",
   "execution_count": null,
   "metadata": {},
   "outputs": [],
   "source": [
    "net.eval()\n",
    "# Convert a list of tuples to two lists\n",
    "test_X, test_Y = map(list, zip(*testset))\n",
    "#test_bg = dgl.batch(test_X)\n",
    "\n",
    "\n",
    "test_Y = torch.tensor(test_Y).float().view(-1, 1)\n",
    "probs_Y = torch.softmax(net(test_bg), 1)\n",
    "sampled_Y = torch.multinomial(probs_Y, 1)\n",
    "argmax_Y = torch.max(probs_Y, 1)[1].view(-1, 1)\n",
    "\n",
    "\n",
    "print('Accuracy of sampled predictions on the test set: {:.4f}%'.format(\n",
    "    (test_Y == sampled_Y.float()).sum().item() / len(test_Y) * 100))\n",
    "print('Accuracy of argmax predictions on the test set: {:4f}%'.format(\n",
    "    (test_Y == argmax_Y.float()).sum().item() / len(test_Y) * 100))"
   ]
  },
  {
   "cell_type": "markdown",
   "metadata": {},
   "source": [
    "# GCN"
   ]
  },
  {
   "cell_type": "raw",
   "metadata": {},
   "source": [
    "import torch.nn as nn\n",
    "import torch.nn.functional as F\n",
    "\n",
    "# Define the message and reduce function\n",
    "# NOTE: We ignore the GCN's normalization constant c_ij for this tutorial.\n",
    "def gcn_message(edges):\n",
    "    # The argument is a batch of edges.\n",
    "    # This computes a (batch of) message called 'msg' using the source node's feature 'h'.\n",
    "    return {'msg' : edges.src['h']}\n",
    "\n",
    "def gcn_reduce(nodes):\n",
    "    # The argument is a batch of nodes.\n",
    "    # This computes the new 'h' features by summing received 'msg' in each node's mailbox.\n",
    "    return {'h' : torch.sum(nodes.mailbox['msg'], dim=1)}\n",
    "\n",
    "# Define the GCNLayer module\n",
    "class GCNLayer(nn.Module):\n",
    "    def __init__(self, in_feats, out_feats):\n",
    "        super(GCNLayer, self).__init__()\n",
    "        self.linear = nn.Linear(in_feats, out_feats)\n",
    "\n",
    "    def forward(self, g):\n",
    "        # g is the graph and the inputs is the input node features\n",
    "        # first set the node features\n",
    "        # g.ndata['h'] = inputs\n",
    "        # trigger message passing on all edges\n",
    "        g.send(g.edges(), gcn_message)\n",
    "        # trigger aggregation at all nodes\n",
    "        g.recv(g.nodes(), gcn_reduce)\n",
    "        \n",
    "        #dgl.broadcast_nodes(g,)\n",
    "        \n",
    "        # get the result node features\n",
    "        h = g.ndata.pop('h')\n",
    "        # perform linear transformation\n",
    "        return self.linear(h)"
   ]
  },
  {
   "cell_type": "raw",
   "metadata": {},
   "source": [
    "# Define a 2-layer GCN model\n",
    "class GCN(nn.Module):\n",
    "    def __init__(self, in_feats, num_classes):\n",
    "        super(GCN, self).__init__()\n",
    "        self.gcn1 = GCNLayer(in_feats, num_classes)\n",
    "\n",
    "    def forward(self, g):\n",
    "        h = self.gcn1(g)\n",
    "        tensor = torch.zeros(1,10)\n",
    "        tensor[0] = h\n",
    "        return tensor"
   ]
  },
  {
   "cell_type": "markdown",
   "metadata": {},
   "source": [
    "# Other Shit"
   ]
  },
  {
   "cell_type": "code",
   "execution_count": null,
   "metadata": {},
   "outputs": [],
   "source": [
    "# learning parameters\n",
    "learning_rate = 0.05\n",
    "dropout_value = 0.5\n",
    "l2_regularization = 5e-4 \n",
    "batch_size = 100\n",
    "num_epochs = 30\n",
    "train_size = train_data.shape[0]\n",
    "nb_iter = int(num_epochs * train_size) // batch_size\n",
    "print('num_epochs=',num_epochs,', train_size=',train_size,', nb_iter=',nb_iter)\n",
    "\n",
    "\n",
    "# Optimizer\n",
    "global_lr = learning_rate\n",
    "global_step = 0\n",
    "decay = 0.95\n",
    "decay_steps = train_size\n",
    "lr = learning_rate\n",
    "optimizer = net.update(lr) \n",
    "\n",
    "\n",
    "# loop over epochs\n",
    "indices = collections.deque()\n",
    "for epoch in range(num_epochs):  # loop over the dataset multiple times\n",
    "\n",
    "    # reshuffle \n",
    "    indices.extend(np.random.permutation(train_size)) # rand permutation\n",
    "    \n",
    "    # reset time\n",
    "    t_start = time.time()\n",
    "    \n",
    "    # extract batches\n",
    "    running_loss = 0.0\n",
    "    running_accuray = 0\n",
    "    running_total = 0\n",
    "    while len(indices) >= batch_size:\n",
    "        \n",
    "        # extract batches\n",
    "        batch_idx = [indices.popleft() for i in range(batch_size)]\n",
    "        train_x, train_y = train_data[batch_idx,:].T, train_labels[batch_idx].T\n",
    "        train_x = np.reshape(train_x,[28,28,batch_size])[:,:,:,None]\n",
    "        train_x = np.transpose(train_x,[2,3,1,0]) # reshape from pytorch array to tensorflow array\n",
    "        train_x = Variable( torch.FloatTensor(train_x).type(dtypeFloat) , requires_grad=False) \n",
    "        train_y = train_y.astype(np.int64)\n",
    "        train_y = torch.LongTensor(train_y).type(dtypeLong)\n",
    "        train_y = Variable( train_y , requires_grad=False) \n",
    "            \n",
    "        # Forward \n",
    "        y = net.forward(train_x, dropout_value)\n",
    "        loss = net.loss(y,train_y,l2_regularization) \n",
    "        loss_train = loss.detach().item()\n",
    "        \n",
    "        # Accuracy\n",
    "        acc_train = net.evaluation(y,train_y.data)\n",
    "        \n",
    "        # backward\n",
    "        loss.backward()\n",
    "        \n",
    "        # Update \n",
    "        global_step += batch_size # to update learning rate\n",
    "        optimizer.step()\n",
    "        optimizer.zero_grad()\n",
    "        \n",
    "        # loss, accuracy\n",
    "        running_loss += loss_train\n",
    "        running_accuray += acc_train\n",
    "        running_total += 1\n",
    "        \n",
    "        # print        \n",
    "        if not running_total%100: # print every x mini-batches\n",
    "            print('epoch= %d, i= %4d, loss(batch)= %.4f, accuray(batch)= %.2f' % (epoch+1, running_total, loss_train, acc_train))\n",
    "          \n",
    "       \n",
    "    # print \n",
    "    t_stop = time.time() - t_start\n",
    "    print('epoch= %d, loss(train)= %.3f, accuracy(train)= %.3f, time= %.3f, lr= %.5f' % \n",
    "          (epoch+1, running_loss/running_total, running_accuray/running_total, t_stop, lr))\n",
    " \n",
    "\n",
    "    # update learning rate \n",
    "    lr = global_lr * pow( decay , float(global_step// decay_steps) )\n",
    "    optimizer = net.update_learning_rate(optimizer, lr)\n",
    "    \n",
    "    \n",
    "    # Test set\n",
    "    running_accuray_test = 0\n",
    "    running_total_test = 0\n",
    "    indices_test = collections.deque()\n",
    "    indices_test.extend(range(test_data.shape[0]))\n",
    "    t_start_test = time.time()\n",
    "    while len(indices_test) >= batch_size:\n",
    "        batch_idx_test = [indices_test.popleft() for i in range(batch_size)]\n",
    "        test_x, test_y = test_data[batch_idx_test,:].T, test_labels[batch_idx_test].T\n",
    "        test_x = np.reshape(test_x,[28,28,batch_size])[:,:,:,None]\n",
    "        test_x = np.transpose(test_x,[2,3,1,0]) # reshape from pytorch array to tensorflow array\n",
    "        test_x = Variable( torch.FloatTensor(test_x).type(dtypeFloat) , requires_grad=False) \n",
    "        y = net.forward(test_x, 0.0) \n",
    "        test_y = test_y.astype(np.int64)\n",
    "        test_y = torch.LongTensor(test_y).type(dtypeLong)\n",
    "        test_y = Variable( test_y , requires_grad=False) \n",
    "        acc_test = net.evaluation(y,test_y.data)\n",
    "        running_accuray_test += acc_test\n",
    "        running_total_test += 1\n",
    "    t_stop_test = time.time() - t_start_test\n",
    "    print('  accuracy(test) = %.3f %%, time= %.3f' % (running_accuray_test / running_total_test, t_stop_test))"
   ]
  },
  {
   "cell_type": "code",
   "execution_count": 39,
   "metadata": {},
   "outputs": [],
   "source": [
    "def graph_conv_cheby(self, x, cl, L, lmax, Fout, K):\n",
    "\n",
    "        # parameters\n",
    "        # B = batch size\n",
    "        # V = nb vertices\n",
    "        # Fin = nb input features\n",
    "        # Fout = nb output features\n",
    "        # K = Chebyshev order & support size\n",
    "        B, V, Fin = x.size()\n",
    "        B, V, Fin = int(B), int(V), int(Fin)\n",
    "\n",
    "        # rescale Laplacian\n",
    "        lmax = lmax_L(L)\n",
    "        L = rescale_L(L, lmax)\n",
    "\n",
    "        # convert scipy sparse matric L to pytorch\n",
    "        L = L.tocoo()\n",
    "        indices = np.column_stack((L.row, L.col)).T\n",
    "        indices = indices.astype(np.int64)\n",
    "        indices = torch.from_numpy(indices)\n",
    "        indices = indices.type(torch.LongTensor)\n",
    "\n",
    "        L_data = L.data.astype(np.float32)\n",
    "        L_data = torch.from_numpy(L_data)\n",
    "        L_data = L_data.type(torch.FloatTensor)\n",
    "\n",
    "        L = torch.sparse.FloatTensor(indices, L_data, torch.Size(L.shape))\n",
    "        L = Variable(L, requires_grad=False)\n",
    "        if torch.cuda.is_available():\n",
    "            L = L.cuda()\n",
    "\n",
    "        # transform to Chebyshev basis\n",
    "        x0 = x.permute(1, 2, 0).contiguous()  # V x Fin x B\n",
    "        x0 = x0.view([V, Fin*B])            # V x Fin*B\n",
    "        x = x0.unsqueeze(0)                 # 1 x V x Fin*B\n",
    "\n",
    "        def concat(x, x_):\n",
    "            x_ = x_.unsqueeze(0)            # 1 x V x Fin*B\n",
    "            return torch.cat((x, x_), 0)    # K x V x Fin*B\n",
    "\n",
    "        if K > 1:\n",
    "            x1 = my_sparse_mm.apply(L, x0)              # V x Fin*B\n",
    "            x = torch.cat((x, x1.unsqueeze(0)), 0)  # 2 x V x Fin*B\n",
    "        for k in range(2, K):\n",
    "            x2 = 2 * my_sparse_mm.apply(L, x1) - x0\n",
    "            x = torch.cat((x, x2.unsqueeze(0)), 0)  # M x Fin*B\n",
    "            x0, x1 = x1, x2\n",
    "\n",
    "        x = x.view([K, V, Fin, B])           # K x V x Fin x B\n",
    "        x = x.permute(3, 1, 2, 0).contiguous()  # B x V x Fin x K\n",
    "        x = x.view([B*V, Fin*K])             # B*V x Fin*K\n",
    "\n",
    "        # Compose linearly Fin features to get Fout features\n",
    "        x = cl(x)                            # B*V x Fout\n",
    "        x = x.view([B, V, Fout])             # B x V x Fout\n",
    "\n",
    "        return x\n"
   ]
  },
  {
   "cell_type": "markdown",
   "metadata": {},
   "source": [
    "Chebyshev Spectral Graph Convolution layer from paper Convolutional\n",
    "    Neural Networks on Graphs with Fast Localized Spectral Filtering\n",
    "    <https://arxiv.org/pdf/1606.09375.pdf>\n",
    "\n",
    "$h_i^{l+1}$ &= $\\sum_{k=0}^{K-1} W^{k, l}z_i^{k, l}$\n",
    "\n",
    "$Z^{0, l}$ &= $H^{l}$\n",
    "\n",
    "$Z^{1, l}$ &=$ \\hat{L} \\cdot H^{l}$\n",
    "\n",
    "$Z^{k, l}$ &= $2 \\cdot \\hat{L} \\cdot Z^{k-1, l} - Z^{k-2, l}$\n",
    "\n",
    "$\\hat{L}$ &= $2\\left(I - \\hat{D}^{-1/2} \\hat{A} \\hat{D}^{-1/2}\\right)/\\lambda_{max} - I$\n",
    "\n",
    "    Parameters\n",
    "    ----------\n",
    "    in_feats: int\n",
    "        Number of input features.\n",
    "    out_feats: int\n",
    "        Number of output features.\n",
    "    k : int\n",
    "        Chebyshev filter size.\n",
    "    bias : bool, optional\n",
    "        If True, adds a learnable bias to the output. Default: ``True``."
   ]
  },
  {
   "cell_type": "code",
   "execution_count": null,
   "metadata": {},
   "outputs": [],
   "source": []
  }
 ],
 "metadata": {
  "kernelspec": {
   "display_name": "Python 3",
   "language": "python",
   "name": "python3"
  },
  "language_info": {
   "codemirror_mode": {
    "name": "ipython",
    "version": 3
   },
   "file_extension": ".py",
   "mimetype": "text/x-python",
   "name": "python",
   "nbconvert_exporter": "python",
   "pygments_lexer": "ipython3",
   "version": "3.6.10"
  },
  "toc": {
   "base_numbering": 1,
   "nav_menu": {},
   "number_sections": true,
   "sideBar": true,
   "skip_h1_title": false,
   "title_cell": "Table of Contents",
   "title_sidebar": "Contents",
   "toc_cell": false,
   "toc_position": {},
   "toc_section_display": true,
   "toc_window_display": false
  }
 },
 "nbformat": 4,
 "nbformat_minor": 1
}
