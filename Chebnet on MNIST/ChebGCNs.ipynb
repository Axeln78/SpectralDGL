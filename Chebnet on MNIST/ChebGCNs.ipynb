{
 "cells": [
  {
   "cell_type": "markdown",
   "metadata": {
    "Collapsed": "false"
   },
   "source": [
    "# ChebGCNs \n"
   ]
  },
  {
   "cell_type": "markdown",
   "metadata": {
    "Collapsed": "false"
   },
   "source": [
    "Spectral Graph ConvNets<br>\n",
    "Convolutional Neural Networks on Graphs with Fast Localized Spectral Filtering<br>\n",
    "M Defferrard, X Bresson, P Vandergheynst<br>\n",
    "\n",
    "DOC : https://docs.dgl.ai/en/latest/api/python/nn.pytorch.html?highlight=cheb#dgl.nn.pytorch.conv.ChebConv"
   ]
  },
  {
   "cell_type": "code",
   "execution_count": 1,
   "metadata": {
    "Collapsed": "false"
   },
   "outputs": [],
   "source": [
    "import os\n",
    "import sys\n",
    "import time\n",
    "import numpy as np\n",
    "\n",
    "# -------------Torch-------------------\n",
    "import torch\n",
    "from torch.autograd import Variable\n",
    "import torch.nn as nn\n",
    "import torch.nn.functional as F\n",
    "import torch.optim as optim\n",
    "from torch.utils.data import DataLoader\n",
    "\n",
    "# -------------Graph-------------------\n",
    "import dgl\n",
    "import networkx as nx\n",
    "import matplotlib.pyplot as plt\n",
    "\n",
    "from utils import set_device\n",
    "from laplacian import normalized_laplacian\n",
    "\n",
    "# os.environ['KMP_DUPLICATE_LIB_OK']='True'\n",
    "\n",
    "sys.path.insert(0, \"lib/\")\n",
    "%load_ext autoreload\n",
    "%autoreload 2"
   ]
  },
  {
   "cell_type": "code",
   "execution_count": 2,
   "metadata": {
    "Collapsed": "false"
   },
   "outputs": [
    {
     "name": "stdout",
     "output_type": "stream",
     "text": [
      "cuda not available\n"
     ]
    }
   ],
   "source": [
    "# GPU Compatibility\n",
    "os.environ[\"CUDA_DEVICE_ORDER\"] = \"PCI_BUS_ID\"\n",
    "os.environ[\"CUDA_VISIBLE_DEVICES\"] = \"2\"\n",
    "\n",
    "device = set_device(verbose=True)"
   ]
  },
  {
   "cell_type": "markdown",
   "metadata": {
    "Collapsed": "false"
   },
   "source": [
    "# MNIST"
   ]
  },
  {
   "cell_type": "code",
   "execution_count": 3,
   "metadata": {
    "Collapsed": "false"
   },
   "outputs": [],
   "source": [
    "# Downloads the dataset if not found locally\n",
    "from Dataset import check_mnist_dataset_exists, datasampler, MNISTDataset\n",
    "\n",
    "_ = check_mnist_dataset_exists()\n",
    "\n",
    "nb_selected_train_data = 640\n",
    "nb_selected_test_data = 200\n",
    "\n",
    "train_data, train_labels, test_data, test_labels = datasampler(\n",
    "    nb_selected_train_data, nb_selected_test_data\n",
    ")"
   ]
  },
  {
   "cell_type": "code",
   "execution_count": 4,
   "metadata": {
    "Collapsed": "false"
   },
   "outputs": [],
   "source": [
    "trainset = MNISTDataset(train_data, train_labels)\n",
    "testset = MNISTDataset(test_data, test_labels)"
   ]
  },
  {
   "cell_type": "markdown",
   "metadata": {
    "Collapsed": "false"
   },
   "source": [
    "## Convolution layer and classifier\n"
   ]
  },
  {
   "cell_type": "code",
   "execution_count": 5,
   "metadata": {
    "Collapsed": "false"
   },
   "outputs": [],
   "source": [
    "from model import Classifier, SanityCheck"
   ]
  },
  {
   "cell_type": "code",
   "execution_count": 6,
   "metadata": {
    "Collapsed": "false"
   },
   "outputs": [],
   "source": [
    "def collate(samples):\n",
    "    # The input `samples` is a list of pairs\n",
    "    #  (graph, label, signal).\n",
    "    graphs, labels, signals = map(list, zip(*samples))\n",
    "    batched_graph = dgl.batch(graphs)\n",
    "    return batched_graph, torch.tensor(labels),  torch.stack(signals).view(-1)"
   ]
  },
  {
   "cell_type": "markdown",
   "metadata": {
    "Collapsed": "false"
   },
   "source": [
    "# Debug section\n",
    "Verifying all of the steps"
   ]
  },
  {
   "cell_type": "code",
   "execution_count": 7,
   "metadata": {
    "Collapsed": "false",
    "scrolled": false
   },
   "outputs": [
    {
     "name": "stdout",
     "output_type": "stream",
     "text": [
      "-------------------- Network model --------------------\n",
      " Classifier(\n",
      "  (layers): ModuleList(\n",
      "    (0): Chebyconv(\n",
      "      (apply_mod): NodeApplyModule(\n",
      "        (linear): Linear(in_features=5, out_features=32, bias=True)\n",
      "      )\n",
      "    )\n",
      "    (1): Chebyconv(\n",
      "      (apply_mod): NodeApplyModule(\n",
      "        (linear): Linear(in_features=160, out_features=50, bias=True)\n",
      "      )\n",
      "    )\n",
      "  )\n",
      "  (classify): Sequential(\n",
      "    (0): Linear(in_features=39200, out_features=512, bias=True)\n",
      "    (1): ReLU(inplace=True)\n",
      "    (2): Dropout(p=0.5, inplace=False)\n",
      "    (3): Linear(in_features=512, out_features=10, bias=True)\n",
      "  )\n",
      ")\n",
      "L tensor(indices=tensor([[  0,   0,   0,  ..., 783, 783, 783],\n",
      "                       [  0,   1,  28,  ..., 755, 782, 783]]),\n",
      "       values=tensor([-1.3323e-15, -4.0825e-01, -4.0825e-01,  ...,\n",
      "                      -4.0825e-01, -4.0825e-01, -1.3323e-15]),\n",
      "       size=(784, 784), nnz=3808, layout=torch.sparse_coo) size: 784 time 0.02928614616394043 \n",
      "\n"
     ]
    },
    {
     "data": {
      "text/plain": [
       "<matplotlib.image.AxesImage at 0xa36ce7c50>"
      ]
     },
     "execution_count": 7,
     "metadata": {},
     "output_type": "execute_result"
    },
    {
     "data": {
      "image/png": "[encoded data removed]",
      "text/plain": [
       "<Figure size 432x288 with 1 Axes>"
      ]
     },
     "metadata": {
      "needs_background": "light"
     },
     "output_type": "display_data"
    }
   ],
   "source": [
    "g, l, s = trainset[0]\n",
    "\n",
    "# model_parameters\n",
    "in_features = 1\n",
    "first_conv_out = 32\n",
    "second_conv_out = 50\n",
    "hidden_layer_classifier = 512\n",
    "k = 5\n",
    "n_classes = trainset.num_classes\n",
    "\n",
    "net2 = Classifier(\n",
    "    in_features, first_conv_out, second_conv_out, hidden_layer_classifier, n_classes, k\n",
    ").to(device)\n",
    "print(\"-------------------- Network model --------------------\\n\", net2)\n",
    "\n",
    "t = time.time()\n",
    "# Calculate L\n",
    "g.to(device)\n",
    "L = normalized_laplacian(g)\n",
    "print(\"L\", L, \"size:\", len(L), \"time\", time.time() - t,'\\n')\n",
    "plt.spy(L.to_dense())"
   ]
  },
  {
   "cell_type": "code",
   "execution_count": 8,
   "metadata": {},
   "outputs": [
    {
     "name": "stdout",
     "output_type": "stream",
     "text": [
      "\n",
      " --------------------  Output for graph g:  --------------------\n",
      " tensor([[-0.0477,  0.0183,  0.0453, -0.0215, -0.0076,  0.0214,  0.0516, -0.0279,\n",
      "          0.0068,  0.0978]], grad_fn=<AddmmBackward>)\n"
     ]
    }
   ],
   "source": [
    "print(\"\\n --------------------  Output for graph g:  --------------------\\n\", net2(g, s, L))"
   ]
  },
  {
   "cell_type": "markdown",
   "metadata": {},
   "source": [
    "\n",
    "\n",
    "# Model definition for training"
   ]
  },
  {
   "cell_type": "code",
   "execution_count": 9,
   "metadata": {
    "Collapsed": "false"
   },
   "outputs": [
    {
     "name": "stdout",
     "output_type": "stream",
     "text": [
      "Classifier(\n",
      "  (layers): ModuleList(\n",
      "    (0): Chebyconv(\n",
      "      (apply_mod): NodeApplyModule(\n",
      "        (linear): Linear(in_features=10, out_features=32, bias=True)\n",
      "      )\n",
      "    )\n",
      "    (1): Chebyconv(\n",
      "      (apply_mod): NodeApplyModule(\n",
      "        (linear): Linear(in_features=320, out_features=50, bias=True)\n",
      "      )\n",
      "    )\n",
      "  )\n",
      "  (classify): Sequential(\n",
      "    (0): Linear(in_features=39200, out_features=512, bias=True)\n",
      "    (1): ReLU(inplace=True)\n",
      "    (2): Dropout(p=0.5, inplace=False)\n",
      "    (3): Linear(in_features=512, out_features=10, bias=True)\n",
      "  )\n",
      ")\n"
     ]
    }
   ],
   "source": [
    "# model_parameters\n",
    "in_features = 1\n",
    "first_conv_out = 32\n",
    "second_conv_out = 50\n",
    "hidden_layer_classifier = 512\n",
    "k = 10\n",
    "n_classes = trainset.num_classes\n",
    "\n",
    "net = Classifier(\n",
    "    in_features, first_conv_out, second_conv_out, hidden_layer_classifier, n_classes, k\n",
    ")\n",
    "\n",
    "print(net)\n",
    "if torch.cuda.is_available():\n",
    "    net.to(device)"
   ]
  },
  {
   "cell_type": "raw",
   "metadata": {
    "Collapsed": "false"
   },
   "source": [
    "Reference : \n",
    "\n",
    "Graph ConvNet: LeNet5\n",
    "nb of parameters= 1663370 \n",
    "\n",
    "Graph_ConvNet_LeNet5(\n",
    "  (cl1): Linear(in_features=25, out_features=32, bias=True)\n",
    "  (cl2): Linear(in_features=800, out_features=64, bias=True)\n",
    "  (fc1): Linear(in_features=3136, out_features=512, bias=True)\n",
    "  (fc2): Linear(in_features=512, out_features=10, bias=True)\n",
    ")\n",
    "\n",
    "With original parameters: \n",
    "D = train_data.shape[1]\n",
    "CL1_F = 32\n",
    "CL1_K = 25\n",
    "CL2_F = 64\n",
    "CL2_K = 25\n",
    "FC1_F = 512\n",
    "FC2_F = 10\n",
    "net_parameters = [D, CL1_F, CL1_K, CL2_F, CL2_K, FC1_F, FC2_F]"
   ]
  },
  {
   "cell_type": "markdown",
   "metadata": {
    "Collapsed": "false"
   },
   "source": [
    "# Training pipe"
   ]
  },
  {
   "cell_type": "code",
   "execution_count": 10,
   "metadata": {
    "Collapsed": "false"
   },
   "outputs": [],
   "source": [
    "# Use PyTorch's DataLoader and the collate function\n",
    "# defined before.\n",
    "data_loader = DataLoader(trainset, batch_size=64,\n",
    "                         shuffle=True, collate_fn=collate)\n",
    "loss_func = nn.CrossEntropyLoss()\n",
    "optimizer = optim.Adam(net.parameters(), lr=0.005)\n",
    "\n",
    "epoch_losses = []"
   ]
  },
  {
   "cell_type": "markdown",
   "metadata": {
    "Collapsed": "false"
   },
   "source": [
    "## Training time"
   ]
  },
  {
   "cell_type": "code",
   "execution_count": 17,
   "metadata": {
    "Collapsed": "false",
    "scrolled": true
   },
   "outputs": [
    {
     "name": "stdout",
     "output_type": "stream",
     "text": [
      "One Prediction:\n",
      " tensor([ 4.2116, -6.8962,  2.8909,  4.3815,  2.5151, 10.6581, -0.2412, -4.7338,\n",
      "         7.3642,  4.9743], grad_fn=<SelectBackward>) len: torch.Size([64, 10]) \n",
      " label: tensor(5)\n",
      "Epoch 0, loss 0.3209, in 58.76(s) \n",
      "One Prediction:\n",
      " tensor([ 1.3301,  0.7881,  1.2356, -2.0513,  2.4521,  1.9920, 10.5185,  0.5268,\n",
      "        -0.2069,  1.9534], grad_fn=<SelectBackward>) len: torch.Size([64, 10]) \n",
      " label: tensor(6)\n",
      "Epoch 1, loss 0.2173, in 62.96(s) \n",
      "One Prediction:\n",
      " tensor([21.6581, -7.4276, -6.1375,  1.1668, -1.2725, 13.3686,  4.0620, -7.0713,\n",
      "        -3.0999,  0.4220], grad_fn=<SelectBackward>) len: torch.Size([64, 10]) \n",
      " label: tensor(0)\n",
      "Epoch 2, loss 0.1636, in 70.87(s) \n",
      "One Prediction:\n",
      " tensor([12.1358, -3.2699, 17.9352,  3.8591,  0.9242, 11.6282, -0.2153, -6.9095,\n",
      "         3.2404, -2.7168], grad_fn=<SelectBackward>) len: torch.Size([64, 10]) \n",
      " label: tensor(2)\n",
      "Epoch 3, loss 0.0872, in 71.17(s) \n",
      "One Prediction:\n",
      " tensor([-7.7405, -2.6708, -4.2766, -2.1308,  1.1639, -6.5029, -5.0548,  7.8657,\n",
      "        -2.1009, 10.7490], grad_fn=<SelectBackward>) len: torch.Size([64, 10]) \n",
      " label: tensor(9)\n",
      "Epoch 4, loss 0.0576, in 81.99(s) \n"
     ]
    },
    {
     "data": {
      "image/png": "[encoded data removed]",
      "text/plain": [
       "<Figure size 432x288 with 1 Axes>"
      ]
     },
     "metadata": {
      "needs_background": "light"
     },
     "output_type": "display_data"
    }
   ],
   "source": [
    "from laplacian import normalized_laplacian\n",
    "net.train()\n",
    "\n",
    "for epoch in range(5):\n",
    "    epoch_loss = 0\n",
    "    t0 = time.time()\n",
    "    for iter, (bg, label, signal) in enumerate(data_loader):\n",
    "        if iter == 0:\n",
    "            L = normalized_laplacian(bg).to(device)\n",
    "            t = time.time()\n",
    "            #print('\\n THIS /!\\ \\n')\n",
    "            plt.imshow(signal.view(-1, 28), cmap='gray_r')\n",
    "\n",
    "        if torch.cuda.is_available():\n",
    "            bg.to(device)\n",
    "\n",
    "        prediction = net(bg, signal, L)\n",
    "\n",
    "        if iter == 0:\n",
    "            #print(\"prediction time:\", time.time() - t)\n",
    "            t = time.time()\n",
    "            print(\"One Prediction:\\n\", prediction[0], 'len:',\n",
    "                  prediction.size(), '\\n label:', label[0])  # DEBUG\n",
    "        loss = loss_func(prediction, label.to(device))\n",
    "        optimizer.zero_grad()\n",
    "        loss.backward()\n",
    "        optimizer.step()\n",
    "\n",
    "        epoch_loss += loss.detach().item()\n",
    "\n",
    "    epoch_loss /= iter + 1\n",
    "    print(\n",
    "        \"Epoch {}, loss {:.4f}, in {:.2f}(s) \".format(\n",
    "            epoch, epoch_loss, time.time() - t0\n",
    "        )\n",
    "    )\n",
    "    epoch_losses.append(epoch_loss)"
   ]
  },
  {
   "cell_type": "code",
   "execution_count": 18,
   "metadata": {
    "Collapsed": "false"
   },
   "outputs": [
    {
     "data": {
      "image/png": "[encoded data removed]",
      "text/plain": [
       "<Figure size 432x288 with 1 Axes>"
      ]
     },
     "metadata": {
      "needs_background": "light"
     },
     "output_type": "display_data"
    }
   ],
   "source": [
    "plt.title(\"cross entropy averaged over minibatches\")\n",
    "plt.plot(epoch_losses)\n",
    "plt.show()"
   ]
  },
  {
   "cell_type": "code",
   "execution_count": 19,
   "metadata": {
    "Collapsed": "false"
   },
   "outputs": [],
   "source": [
    "torch.cuda.empty_cache()"
   ]
  },
  {
   "cell_type": "markdown",
   "metadata": {
    "Collapsed": "false"
   },
   "source": [
    "## Test Metrics"
   ]
  },
  {
   "cell_type": "code",
   "execution_count": 20,
   "metadata": {
    "Collapsed": "false"
   },
   "outputs": [
    {
     "name": "stdout",
     "output_type": "stream",
     "text": [
      "Accuracy of sampled predictions on the test set: 90.0000%\n",
      "Accuracy of argmax predictions on the test set: 92.500000%\n"
     ]
    }
   ],
   "source": [
    "# Change\n",
    "\n",
    "net.eval()\n",
    "# Convert a list of tuples to two lists\n",
    "test_X, test_Y, test_S = map(list, zip(*testset))\n",
    "test_bg = dgl.batch(test_X)\n",
    "test_Y = torch.tensor(test_Y).float().view(-1, 1)\n",
    "L = normalized_laplacian(test_bg)\n",
    "test_S = torch.stack(test_S).view(-1)\n",
    "probs_Y = torch.softmax(net(test_bg,test_S, L), 1)\n",
    "sampled_Y = torch.multinomial(probs_Y, 1)\n",
    "argmax_Y = torch.max(probs_Y, 1)[1].view(-1, 1)\n",
    "print(\n",
    "    \"Accuracy of sampled predictions on the test set: {:.4f}%\".format(\n",
    "        (test_Y == sampled_Y.float()).sum().item() / len(test_Y) * 100\n",
    "    )\n",
    ")\n",
    "print(\n",
    "    \"Accuracy of argmax predictions on the test set: {:4f}%\".format(\n",
    "        (test_Y == argmax_Y.float()).sum().item() / len(test_Y) * 100\n",
    "    )\n",
    ")"
   ]
  },
  {
   "cell_type": "code",
   "execution_count": 21,
   "metadata": {},
   "outputs": [
    {
     "name": "stdout",
     "output_type": "stream",
     "text": [
      "              precision    recall  f1-score   support\n",
      "\n",
      "         0.0       0.94      1.00      0.97        17\n",
      "         1.0       1.00      1.00      1.00        28\n",
      "         2.0       0.82      0.88      0.85        16\n",
      "         3.0       0.94      1.00      0.97        16\n",
      "         4.0       0.93      0.89      0.91        28\n",
      "         5.0       1.00      0.95      0.97        20\n",
      "         6.0       0.90      0.95      0.93        20\n",
      "         7.0       0.84      0.88      0.86        24\n",
      "         8.0       1.00      1.00      1.00        10\n",
      "         9.0       0.89      0.76      0.82        21\n",
      "\n",
      "    accuracy                           0.93       200\n",
      "   macro avg       0.93      0.93      0.93       200\n",
      "weighted avg       0.93      0.93      0.92       200\n",
      "\n"
     ]
    }
   ],
   "source": [
    "# BATCHED DGL EXAMPLE\n",
    "import sklearn\n",
    "from sklearn.metrics import classification_report\n",
    "\n",
    "print(sklearn.metrics.classification_report(test_Y, argmax_Y))"
   ]
  },
  {
   "cell_type": "markdown",
   "metadata": {
    "Collapsed": "false"
   },
   "source": [
    "## Saving"
   ]
  },
  {
   "cell_type": "code",
   "execution_count": 22,
   "metadata": {
    "Collapsed": "false"
   },
   "outputs": [],
   "source": [
    "from utils import save_model\n",
    "\n",
    "save_model(\"Model_firstWorking\", net)"
   ]
  },
  {
   "cell_type": "raw",
   "metadata": {
    "Collapsed": "false"
   },
   "source": [
    "Save to the master thesis folder: \n",
    "plt.savefig('../../Master-Thesis/img/Chebfilters.png')"
   ]
  }
 ],
 "metadata": {
  "kernelspec": {
   "display_name": "Python 3",
   "language": "python",
   "name": "python3"
  },
  "language_info": {
   "codemirror_mode": {
    "name": "ipython",
    "version": 3
   },
   "file_extension": ".py",
   "mimetype": "text/x-python",
   "name": "python",
   "nbconvert_exporter": "python",
   "pygments_lexer": "ipython3",
   "version": "3.7.4"
  },
  "toc": {
   "base_numbering": 1,
   "nav_menu": {},
   "number_sections": true,
   "sideBar": true,
   "skip_h1_title": false,
   "title_cell": "Table of Contents",
   "title_sidebar": "Contents",
   "toc_cell": false,
   "toc_position": {},
   "toc_section_display": true,
   "toc_window_display": false
  }
 },
 "nbformat": 4,
 "nbformat_minor": 4
}
